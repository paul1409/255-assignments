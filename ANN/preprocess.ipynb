{
 "cells": [
  {
   "cell_type": "code",
   "execution_count": 1,
   "id": "7617beb4",
   "metadata": {},
   "outputs": [],
   "source": [
    "from lightfm import LightFM\n",
    "from lightfm.datasets import fetch_stackexchange\n",
    "import pickle"
   ]
  },
  {
   "cell_type": "markdown",
   "id": "0c44be83",
   "metadata": {},
   "source": [
    "Create a pickle of question IDs and semantic representations from the stackoverflow forum.\n",
    "Multithreading does not work natively on Windows/MacOS so docker was used to run the LightFM model"
   ]
  },
  {
   "cell_type": "code",
   "execution_count": 2,
   "id": "5783e9d1",
   "metadata": {},
   "outputs": [
    {
     "name": "stderr",
     "output_type": "stream",
     "text": [
      "Epoch: 100%|█████████████████████████████████████████████████████████████████████████████████████████████████████████████████| 20/20 [03:02<00:00,  9.11s/it]\n"
     ]
    }
   ],
   "source": [
    "stackexchange = fetch_stackexchange('stackoverflow')\n",
    "train = stackexchange['train']\n",
    "test = stackexchange['test']\n",
    "\n",
    "model = LightFM(learning_rate=0.05, loss='warp', no_components=64, item_alpha=0.001)\n",
    "model.fit_partial(train, item_features=stackexchange['item_features'], epochs=20,num_threads=16, verbose=True )\n",
    "\n",
    "item_vectors = stackexchange['item_features'] * model.item_embeddings"
   ]
  },
  {
   "cell_type": "code",
   "execution_count": 3,
   "id": "0e8f255d",
   "metadata": {},
   "outputs": [],
   "source": [
    "with open('stackexchange.pickle', 'wb') as f:\n",
    "    pickle.dump({\"name\": stackexchange['item_feature_labels'], \"vector\": item_vectors}, f)"
   ]
  },
  {
   "cell_type": "code",
   "execution_count": 4,
   "id": "5e25dd80",
   "metadata": {},
   "outputs": [
    {
     "name": "stdout",
     "output_type": "stream",
     "text": [
      "[[ 5.9850649e-03  8.6651370e-02  1.6981743e-02 ... -7.0949502e-02\n",
      "   1.1380416e-02 -5.2825913e-02]\n",
      " [-9.0043023e-02  9.1169104e-02 -9.2082359e-03 ...  2.4855049e-02\n",
      "   6.4666881e-03  9.2397273e-02]\n",
      " [ 8.6565606e-02 -8.6956300e-02  8.6640947e-02 ... -8.6726159e-02\n",
      "  -8.6673632e-02  8.6663313e-02]\n",
      " ...\n",
      " [-1.0912500e-01 -8.7910935e-02 -4.0837310e-02 ... -4.0971446e-01\n",
      "   3.0658851e+00  4.9759048e-01]\n",
      " [ 2.3090811e-01 -4.8821247e-03 -2.4868276e-02 ... -1.0963874e-04\n",
      "   5.8465521e-04  1.3642834e-03]\n",
      " [ 2.2516649e+00  2.1858168e+00 -4.2523792e-01 ... -3.1400056e+00\n",
      "  -4.5083749e-01  7.7036595e-01]]\n",
      "['question_id:0' 'question_id:1' 'question_id:2' ...\n",
      " 'question_id:11280893' 'question_id:11280894' 'question_id:11280895']\n"
     ]
    }
   ],
   "source": [
    "print(item_vectors)\n",
    "print(stackexchange['item_feature_labels'])"
   ]
  }
 ],
 "metadata": {
  "kernelspec": {
   "display_name": "Python 3 (ipykernel)",
   "language": "python",
   "name": "python3"
  },
  "language_info": {
   "codemirror_mode": {
    "name": "ipython",
    "version": 3
   },
   "file_extension": ".py",
   "mimetype": "text/x-python",
   "name": "python",
   "nbconvert_exporter": "python",
   "pygments_lexer": "ipython3",
   "version": "3.9.1"
  }
 },
 "nbformat": 4,
 "nbformat_minor": 5
}
