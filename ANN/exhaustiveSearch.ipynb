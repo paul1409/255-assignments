{
 "cells": [
  {
   "cell_type": "code",
   "execution_count": 1,
   "metadata": {},
   "outputs": [],
   "source": [
    "import pickle\n",
    "import faiss"
   ]
  },
  {
   "cell_type": "markdown",
   "metadata": {},
   "source": [
    "Load the stackexchange data"
   ]
  },
  {
   "cell_type": "code",
   "execution_count": 2,
   "metadata": {},
   "outputs": [
    {
     "data": {
      "text/plain": [
       "{'name': array(['question_id:0', 'question_id:1', 'question_id:2', ...,\n",
       "        'question_id:11280893', 'question_id:11280894',\n",
       "        'question_id:11280895'], dtype='<U20'),\n",
       " 'vector': array([[ 5.9850649e-03,  8.6651370e-02,  1.6981743e-02, ...,\n",
       "         -7.0949502e-02,  1.1380416e-02, -5.2825913e-02],\n",
       "        [-9.0043023e-02,  9.1169104e-02, -9.2082359e-03, ...,\n",
       "          2.4855049e-02,  6.4666881e-03,  9.2397273e-02],\n",
       "        [ 8.6565606e-02, -8.6956300e-02,  8.6640947e-02, ...,\n",
       "         -8.6726159e-02, -8.6673632e-02,  8.6663313e-02],\n",
       "        ...,\n",
       "        [-1.0912500e-01, -8.7910935e-02, -4.0837310e-02, ...,\n",
       "         -4.0971446e-01,  3.0658851e+00,  4.9759048e-01],\n",
       "        [ 2.3090811e-01, -4.8821247e-03, -2.4868276e-02, ...,\n",
       "         -1.0963874e-04,  5.8465521e-04,  1.3642834e-03],\n",
       "        [ 2.2516649e+00,  2.1858168e+00, -4.2523792e-01, ...,\n",
       "         -3.1400056e+00, -4.5083749e-01,  7.7036595e-01]], dtype=float32)}"
      ]
     },
     "execution_count": 2,
     "metadata": {},
     "output_type": "execute_result"
    }
   ],
   "source": [
    "def load_data():\n",
    "    with open('stackexchange.pickle', 'rb') as f:\n",
    "        data = pickle.load(f)\n",
    "    return data\n",
    "\n",
    "data = load_data()\n",
    "vectors = data[\"vector\"]\n",
    "names = data[\"name\"]\n",
    "data"
   ]
  },
  {
   "cell_type": "code",
   "execution_count": 3,
   "metadata": {},
   "outputs": [],
   "source": [
    "class ExhaustiveSearch():\n",
    "    def __init__(self, vectors, labels):\n",
    "        self.vectors = vectors.astype('float32')\n",
    "        self.labels = labels\n",
    "        self.index = faiss.IndexFlatL2(vectors.shape[1])\n",
    "        self.index.add(self.vectors)\n",
    "\n",
    "    def query(self, vectors, k=10):\n",
    "        distances, indices = self.index.search(vectors, k) \n",
    "        return [self.labels[i] for i in indices[0]]"
   ]
  },
  {
   "cell_type": "code",
   "execution_count": 4,
   "metadata": {},
   "outputs": [],
   "source": [
    "index = ExhaustiveSearch(vectors, names)"
   ]
  },
  {
   "cell_type": "code",
   "execution_count": 5,
   "metadata": {},
   "outputs": [
    {
     "name": "stdout",
     "output_type": "stream",
     "text": [
      "Top 10 similar questions to question_id:3916934 are:\n",
      "\n",
      "['question_id:3916934', 'question_id:5646988', 'question_id:311457', 'question_id:9196014', 'question_id:3056945', 'question_id:5728444', 'question_id:917655', 'question_id:9872754', 'question_id:490369', 'question_id:10224342']\n"
     ]
    }
   ],
   "source": [
    "from random import randrange\n",
    "randIndex = randrange(len(vectors))-1\n",
    "search_vector = vectors[randIndex:randIndex+1]\n",
    "indices = index.query(search_vector, 10)\n",
    "print(f\"Top 10 similar questions to {names[randIndex]} are:\\n\")\n",
    "print(indices)"
   ]
  }
 ],
 "metadata": {
  "interpreter": {
   "hash": "0e4631f8abf22b6e3bad75ef6fc74e8156bc6d7eda16a6da5468122f1c7f4a75"
  },
  "kernelspec": {
   "display_name": "Python 3.9.1 64-bit",
   "language": "python",
   "name": "python3"
  },
  "language_info": {
   "codemirror_mode": {
    "name": "ipython",
    "version": 3
   },
   "file_extension": ".py",
   "mimetype": "text/x-python",
   "name": "python",
   "nbconvert_exporter": "python",
   "pygments_lexer": "ipython3",
   "version": "3.9.1"
  },
  "orig_nbformat": 4
 },
 "nbformat": 4,
 "nbformat_minor": 2
}
