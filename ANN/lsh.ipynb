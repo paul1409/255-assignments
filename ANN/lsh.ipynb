{
 "cells": [
  {
   "cell_type": "code",
   "execution_count": 1,
   "metadata": {},
   "outputs": [],
   "source": [
    "import pickle\n",
    "import faiss"
   ]
  },
  {
   "cell_type": "code",
   "execution_count": 2,
   "metadata": {},
   "outputs": [
    {
     "data": {
      "text/plain": [
       "{'name': array(['question_id:0', 'question_id:1', 'question_id:2', ...,\n",
       "        'question_id:11280893', 'question_id:11280894',\n",
       "        'question_id:11280895'], dtype='<U20'),\n",
       " 'vector': array([[ 5.9850649e-03,  8.6651370e-02,  1.6981743e-02, ...,\n",
       "         -7.0949502e-02,  1.1380416e-02, -5.2825913e-02],\n",
       "        [-9.0043023e-02,  9.1169104e-02, -9.2082359e-03, ...,\n",
       "          2.4855049e-02,  6.4666881e-03,  9.2397273e-02],\n",
       "        [ 8.6565606e-02, -8.6956300e-02,  8.6640947e-02, ...,\n",
       "         -8.6726159e-02, -8.6673632e-02,  8.6663313e-02],\n",
       "        ...,\n",
       "        [-1.0912500e-01, -8.7910935e-02, -4.0837310e-02, ...,\n",
       "         -4.0971446e-01,  3.0658851e+00,  4.9759048e-01],\n",
       "        [ 2.3090811e-01, -4.8821247e-03, -2.4868276e-02, ...,\n",
       "         -1.0963874e-04,  5.8465521e-04,  1.3642834e-03],\n",
       "        [ 2.2516649e+00,  2.1858168e+00, -4.2523792e-01, ...,\n",
       "         -3.1400056e+00, -4.5083749e-01,  7.7036595e-01]], dtype=float32)}"
      ]
     },
     "execution_count": 2,
     "metadata": {},
     "output_type": "execute_result"
    }
   ],
   "source": [
    "def load_data():\n",
    "    with open('stackexchange.pickle', 'rb') as f:\n",
    "        data = pickle.load(f)\n",
    "    return data\n",
    "\n",
    "data = load_data()\n",
    "vectors = data[\"vector\"]\n",
    "names = data[\"name\"]\n",
    "data"
   ]
  },
  {
   "cell_type": "code",
   "execution_count": 3,
   "metadata": {},
   "outputs": [
    {
     "data": {
      "text/plain": [
       "['analyzing 11280896 vectors of size 64',\n",
       " 'no NaN or Infs in data',\n",
       " '11280825 vectors are distinct (100.00%)',\n",
       " 'vector 1359211 has 19 copies',\n",
       " 'range of L2 norms=[2.09727e-44, 2.16837e+18] (19 null vectors)',\n",
       " 'vectors have very large differences in norms, is this normal?',\n",
       " 'matrix contains 0.00 % 0 entries',\n",
       " 'no constant dimensions',\n",
       " 'no dimension has a too large mean',\n",
       " 'stddevs per dimension are in [1.27641e+11 7.98059e+14]',\n",
       " '']"
      ]
     },
     "execution_count": 3,
     "metadata": {},
     "output_type": "execute_result"
    }
   ],
   "source": [
    "faiss.MatrixStats(data['vector']).comments.split(\"\\n\")"
   ]
  },
  {
   "cell_type": "code",
   "execution_count": 4,
   "metadata": {},
   "outputs": [],
   "source": [
    "class LSH():\n",
    "    def __init__(self, vectors, labels):\n",
    "        self.dimension = vectors.shape[1]\n",
    "        self.vectors = vectors.astype('float32')\n",
    "        self.labels = labels    \n",
    "   \n",
    "    def build(self, num_bits=8):\n",
    "        self.index = faiss.IndexLSH(self.dimension, num_bits)\n",
    "        self.index.add(self.vectors)\n",
    "        \n",
    "    def query(self, vectors, k=10):\n",
    "        distances, indices = self.index.search(vectors, k) \n",
    "        return [self.labels[i] for i in indices[0]]"
   ]
  },
  {
   "cell_type": "code",
   "execution_count": 5,
   "metadata": {},
   "outputs": [],
   "source": [
    "index = LSH(vectors, names)\n",
    "index.build()"
   ]
  },
  {
   "cell_type": "code",
   "execution_count": 6,
   "metadata": {},
   "outputs": [
    {
     "name": "stdout",
     "output_type": "stream",
     "text": [
      "Top 10 similar questions to question_id:10698682 are:\n",
      "\n",
      "['question_id:1741', 'question_id:2411', 'question_id:2233', 'question_id:764', 'question_id:2539', 'question_id:2724', 'question_id:2751', 'question_id:2767', 'question_id:1713', 'question_id:643']\n"
     ]
    }
   ],
   "source": [
    "from random import randrange\n",
    "randIndex = randrange(len(vectors))-1\n",
    "search_vector = vectors[randIndex:randIndex+1]\n",
    "print(f\"Top 10 similar questions to {names[randIndex]} are:\\n\")\n",
    "print(index.query(search_vector))"
   ]
  }
 ],
 "metadata": {
  "interpreter": {
   "hash": "0e4631f8abf22b6e3bad75ef6fc74e8156bc6d7eda16a6da5468122f1c7f4a75"
  },
  "kernelspec": {
   "display_name": "Python 3.9.1 64-bit",
   "language": "python",
   "name": "python3"
  },
  "language_info": {
   "codemirror_mode": {
    "name": "ipython",
    "version": 3
   },
   "file_extension": ".py",
   "mimetype": "text/x-python",
   "name": "python",
   "nbconvert_exporter": "python",
   "pygments_lexer": "ipython3",
   "version": "3.9.1"
  },
  "orig_nbformat": 4
 },
 "nbformat": 4,
 "nbformat_minor": 2
}
