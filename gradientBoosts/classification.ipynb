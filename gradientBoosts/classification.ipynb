{
 "cells": [
  {
   "cell_type": "code",
   "execution_count": 1,
   "metadata": {},
   "outputs": [],
   "source": [
    "from xgboost import XGBClassifier\n",
    "from catboost import CatBoostClassifier \n",
    "from lightgbm import LGBMClassifier \n",
    "from sklearn.tree import DecisionTreeClassifier\n",
    "from sklearn.ensemble import GradientBoostingClassifier, AdaBoostClassifier, RandomForestClassifier\n",
    "from sklearn.datasets import load_iris \n",
    "from sklearn.datasets import make_classification\n",
    "from sklearn.model_selection import train_test_split, cross_val_score \n",
    "from sklearn.metrics import confusion_matrix, classification_report"
   ]
  },
  {
   "cell_type": "code",
   "execution_count": 2,
   "metadata": {},
   "outputs": [],
   "source": [
    "x, y = make_classification(\n",
    "    n_samples=5000, \n",
    "    n_features= 10, \n",
    "    n_classes=3, \n",
    "    n_clusters_per_class=1\n",
    ")"
   ]
  },
  {
   "cell_type": "code",
   "execution_count": 3,
   "metadata": {},
   "outputs": [
    {
     "name": "stdout",
     "output_type": "stream",
     "text": [
      "[[ 1.79106443 -1.26274292 -2.33044806 -2.05790727  0.17888873 -1.33146629\n",
      "  -1.69046547  1.309243   -0.36371275 -0.28158847]]\n",
      "[1 2 1 1 1]\n"
     ]
    }
   ],
   "source": [
    "print(x[0:1])\n",
    "print(y[0:5])"
   ]
  },
  {
   "cell_type": "code",
   "execution_count": 4,
   "metadata": {},
   "outputs": [],
   "source": [
    "xtrain, xtest, ytrain, ytest = train_test_split(x,y,random_state=42,test_size=.15)"
   ]
  },
  {
   "cell_type": "code",
   "execution_count": 5,
   "metadata": {},
   "outputs": [],
   "source": [
    "xgbc = XGBClassifier(verbosity=0)\n",
    "cb = CatBoostClassifier(silent=True)\n",
    "lgbmc = LGBMClassifier(verbose=0) \n",
    "rfc = RandomForestClassifier(verbose=0)\n",
    "abc = AdaBoostClassifier()\n",
    "dtc = DecisionTreeClassifier()"
   ]
  },
  {
   "cell_type": "code",
   "execution_count": 6,
   "metadata": {},
   "outputs": [
    {
     "name": "stderr",
     "output_type": "stream",
     "text": [
      "C:\\Users\\savio\\AppData\\Local\\Programs\\Python\\Python39\\lib\\site-packages\\xgboost\\sklearn.py:1224: UserWarning: The use of label encoder in XGBClassifier is deprecated and will be removed in a future release. To remove this warning, do the following: 1) Pass option use_label_encoder=False when constructing XGBClassifier object; and 2) Encode your labels (y) as integers starting with 0, i.e. 0, 1, 2, ..., [num_class - 1].\n",
      "  warnings.warn(label_encoder_deprecation_msg, UserWarning)\n"
     ]
    },
    {
     "data": {
      "text/plain": [
       "XGBClassifier(base_score=0.5, booster='gbtree', colsample_bylevel=1,\n",
       "              colsample_bynode=1, colsample_bytree=1, enable_categorical=False,\n",
       "              gamma=0, gpu_id=-1, importance_type=None,\n",
       "              interaction_constraints='', learning_rate=0.300000012,\n",
       "              max_delta_step=0, max_depth=6, min_child_weight=1, missing=nan,\n",
       "              monotone_constraints='()', n_estimators=100, n_jobs=16,\n",
       "              num_parallel_tree=1, objective='multi:softprob', predictor='auto',\n",
       "              random_state=0, reg_alpha=0, reg_lambda=1, scale_pos_weight=None,\n",
       "              subsample=1, tree_method='exact', validate_parameters=1,\n",
       "              verbosity=0)"
      ]
     },
     "execution_count": 6,
     "metadata": {},
     "output_type": "execute_result"
    }
   ],
   "source": [
    "xgbc.fit(xtrain,ytrain)"
   ]
  },
  {
   "cell_type": "code",
   "execution_count": 7,
   "metadata": {},
   "outputs": [
    {
     "data": {
      "text/plain": [
       "<catboost.core.CatBoostClassifier at 0x268fcecad60>"
      ]
     },
     "execution_count": 7,
     "metadata": {},
     "output_type": "execute_result"
    }
   ],
   "source": [
    "cb.fit(xtrain,ytrain)"
   ]
  },
  {
   "cell_type": "code",
   "execution_count": 8,
   "metadata": {},
   "outputs": [
    {
     "name": "stdout",
     "output_type": "stream",
     "text": [
      "[LightGBM] [Warning] Auto-choosing col-wise multi-threading, the overhead of testing was 0.000361 seconds.\n",
      "You can set `force_col_wise=true` to remove the overhead.\n"
     ]
    },
    {
     "data": {
      "text/plain": [
       "LGBMClassifier(verbose=0)"
      ]
     },
     "execution_count": 8,
     "metadata": {},
     "output_type": "execute_result"
    }
   ],
   "source": [
    "lgbmc.fit(xtrain,ytrain)"
   ]
  },
  {
   "cell_type": "code",
   "execution_count": 9,
   "metadata": {},
   "outputs": [
    {
     "data": {
      "text/plain": [
       "RandomForestClassifier()"
      ]
     },
     "execution_count": 9,
     "metadata": {},
     "output_type": "execute_result"
    }
   ],
   "source": [
    "rfc.fit(xtrain,ytrain)"
   ]
  },
  {
   "cell_type": "code",
   "execution_count": 10,
   "metadata": {},
   "outputs": [
    {
     "data": {
      "text/plain": [
       "AdaBoostClassifier()"
      ]
     },
     "execution_count": 10,
     "metadata": {},
     "output_type": "execute_result"
    }
   ],
   "source": [
    "abc.fit(xtrain,ytrain)"
   ]
  },
  {
   "cell_type": "code",
   "execution_count": 11,
   "metadata": {},
   "outputs": [
    {
     "data": {
      "text/plain": [
       "DecisionTreeClassifier()"
      ]
     },
     "execution_count": 11,
     "metadata": {},
     "output_type": "execute_result"
    }
   ],
   "source": [
    "dtc.fit(xtrain,ytrain)"
   ]
  },
  {
   "cell_type": "code",
   "execution_count": 12,
   "metadata": {},
   "outputs": [],
   "source": [
    "xgbc_score = xgbc.score(xtrain,ytrain)\n",
    "cb_score = cb.score(xtrain,ytrain)\n",
    "lgbmc_score = lgbmc.score(xtrain,ytrain)\n",
    "rfc_score = rfc.score(xtrain,ytrain)\n",
    "abc_score = abc.score(xtrain,ytrain)\n",
    "dtc_score = dtc.score(xtrain,ytrain)"
   ]
  },
  {
   "cell_type": "code",
   "execution_count": 13,
   "metadata": {},
   "outputs": [
    {
     "name": "stderr",
     "output_type": "stream",
     "text": [
      "C:\\Users\\savio\\AppData\\Local\\Programs\\Python\\Python39\\lib\\site-packages\\xgboost\\sklearn.py:1224: UserWarning: The use of label encoder in XGBClassifier is deprecated and will be removed in a future release. To remove this warning, do the following: 1) Pass option use_label_encoder=False when constructing XGBClassifier object; and 2) Encode your labels (y) as integers starting with 0, i.e. 0, 1, 2, ..., [num_class - 1].\n",
      "  warnings.warn(label_encoder_deprecation_msg, UserWarning)\n"
     ]
    },
    {
     "name": "stdout",
     "output_type": "stream",
     "text": [
      "[LightGBM] [Warning] Auto-choosing col-wise multi-threading, the overhead of testing was 0.000625 seconds.\n",
      "You can set `force_col_wise=true` to remove the overhead.\n",
      "[LightGBM] [Warning] Auto-choosing col-wise multi-threading, the overhead of testing was 0.000620 seconds.\n",
      "You can set `force_col_wise=true` to remove the overhead.\n",
      "[LightGBM] [Warning] Auto-choosing col-wise multi-threading, the overhead of testing was 0.000305 seconds.\n",
      "You can set `force_col_wise=true` to remove the overhead.\n",
      "[LightGBM] [Warning] Auto-choosing col-wise multi-threading, the overhead of testing was 0.000740 seconds.\n",
      "You can set `force_col_wise=true` to remove the overhead.\n",
      "[LightGBM] [Warning] Auto-choosing col-wise multi-threading, the overhead of testing was 0.000371 seconds.\n",
      "You can set `force_col_wise=true` to remove the overhead.\n"
     ]
    }
   ],
   "source": [
    "xgbc_cv_score = cross_val_score(xgbc, xtrain,ytrain)\n",
    "cb_cv_score = cross_val_score(cb, xtrain,ytrain)\n",
    "lgbmc_cv_score = cross_val_score(lgbmc, xtrain,ytrain)\n",
    "rfc_cv_score = cross_val_score(rfc, xtrain,ytrain)\n",
    "abc_cv_scire = cross_val_score(abc, xtrain,ytrain)\n",
    "dtc_cv_score = cross_val_score(dtc, xtrain,ytrain)"
   ]
  },
  {
   "cell_type": "code",
   "execution_count": 14,
   "metadata": {},
   "outputs": [],
   "source": [
    "xgbc_pred = xgbc.predict(xtest)\n",
    "cb_pred = cb.predict(xtest)\n",
    "lgbmc_pred = lgbmc.predict(xtest)\n",
    "rfc_pred = rfc.predict(xtest)\n",
    "abc_pred = abc.predict(xtest)\n",
    "dtc_pred = dtc.predict(xtest)"
   ]
  },
  {
   "cell_type": "code",
   "execution_count": 15,
   "metadata": {},
   "outputs": [],
   "source": [
    "xgbc_cm = confusion_matrix(ytest, xgbc_pred)\n",
    "cb_cm = confusion_matrix(ytest, cb_pred)\n",
    "lgbmc_cm = confusion_matrix(ytest, lgbmc_pred)\n",
    "rfc_cm = confusion_matrix(ytest, rfc_pred)\n",
    "abc_cm = confusion_matrix(ytest, abc_pred)\n",
    "dtc_cm = confusion_matrix(ytest, dtc_pred)"
   ]
  },
  {
   "cell_type": "code",
   "execution_count": 16,
   "metadata": {},
   "outputs": [],
   "source": [
    "xgbc_cr = classification_report(ytest, xgbc_pred)\n",
    "cb_cr = classification_report(ytest, cb_pred)\n",
    "lgbmc_cr = classification_report(ytest, lgbmc_pred)\n",
    "rfc_cr = classification_report(ytest, rfc_pred)\n",
    "abc_cr = classification_report(ytest, abc_pred)\n",
    "dtc_cr = classification_report(ytest, dtc_pred)"
   ]
  },
  {
   "cell_type": "code",
   "execution_count": 17,
   "metadata": {},
   "outputs": [
    {
     "name": "stdout",
     "output_type": "stream",
     "text": [
      "Training scores\n",
      "XGBoost:  1.0\n",
      "CatBoost: 0.9912941176470588\n",
      "LightGBM: 1.0\n",
      "AdaBoost: 0.8498823529411764\n",
      "Random forest: 1.0\n",
      "Decision Tree: 1.0\n"
     ]
    }
   ],
   "source": [
    "print(f'Training scores\\nXGBoost:  {xgbc_score}\\nCatBoost: {cb_score}\\nLightGBM: {lgbmc_score}\\nAdaBoost: {abc_score}\\nRandom forest: {rfc_score}\\nDecision Tree: {dtc_score}')"
   ]
  },
  {
   "cell_type": "code",
   "execution_count": 18,
   "metadata": {},
   "outputs": [
    {
     "name": "stdout",
     "output_type": "stream",
     "text": [
      "Confusion matricies\n",
      "XGBoost: \n",
      "[[212   9   4]\n",
      " [ 30 210  13]\n",
      " [  7  13 252]]\n",
      "CatBoost:\n",
      "[[216   4   5]\n",
      " [ 31 213   9]\n",
      " [  7  13 252]]\n",
      "LightGBM:\n",
      "[[216   4   5]\n",
      " [ 31 209  13]\n",
      " [  8  12 252]]\n",
      "AdaBoost:\n",
      "[[180  41   4]\n",
      " [ 33 209  11]\n",
      " [  4  24 244]]\n",
      "Random forest:\n",
      "[[215   5   5]\n",
      " [ 31 212  10]\n",
      " [  7  16 249]]\n",
      "Decision Tree:\n",
      "[[196  21   8]\n",
      " [ 33 205  15]\n",
      " [ 15  23 234]]\n"
     ]
    }
   ],
   "source": [
    "print(f'Confusion matricies\\nXGBoost: \\n{xgbc_cm}\\nCatBoost:\\n{cb_cm}\\nLightGBM:\\n{lgbmc_cm}\\nAdaBoost:\\n{abc_cm}\\nRandom forest:\\n{rfc_cm}\\nDecision Tree:\\n{dtc_cm}')"
   ]
  },
  {
   "cell_type": "code",
   "execution_count": 19,
   "metadata": {},
   "outputs": [
    {
     "name": "stdout",
     "output_type": "stream",
     "text": [
      "Classification Reports\n",
      "XGBoost: \n",
      "              precision    recall  f1-score   support\n",
      "\n",
      "           0       0.85      0.94      0.89       225\n",
      "           1       0.91      0.83      0.87       253\n",
      "           2       0.94      0.93      0.93       272\n",
      "\n",
      "    accuracy                           0.90       750\n",
      "   macro avg       0.90      0.90      0.90       750\n",
      "weighted avg       0.90      0.90      0.90       750\n",
      "\n",
      "CatBoost:\n",
      "              precision    recall  f1-score   support\n",
      "\n",
      "           0       0.85      0.96      0.90       225\n",
      "           1       0.93      0.84      0.88       253\n",
      "           2       0.95      0.93      0.94       272\n",
      "\n",
      "    accuracy                           0.91       750\n",
      "   macro avg       0.91      0.91      0.91       750\n",
      "weighted avg       0.91      0.91      0.91       750\n",
      "\n",
      "LightGBM:\n",
      "              precision    recall  f1-score   support\n",
      "\n",
      "           0       0.85      0.96      0.90       225\n",
      "           1       0.93      0.83      0.87       253\n",
      "           2       0.93      0.93      0.93       272\n",
      "\n",
      "    accuracy                           0.90       750\n",
      "   macro avg       0.90      0.90      0.90       750\n",
      "weighted avg       0.91      0.90      0.90       750\n",
      "\n",
      "AdaBoost:\n",
      "              precision    recall  f1-score   support\n",
      "\n",
      "           0       0.83      0.80      0.81       225\n",
      "           1       0.76      0.83      0.79       253\n",
      "           2       0.94      0.90      0.92       272\n",
      "\n",
      "    accuracy                           0.84       750\n",
      "   macro avg       0.84      0.84      0.84       750\n",
      "weighted avg       0.85      0.84      0.85       750\n",
      "\n",
      "Random forest:\n",
      "              precision    recall  f1-score   support\n",
      "\n",
      "           0       0.85      0.96      0.90       225\n",
      "           1       0.91      0.84      0.87       253\n",
      "           2       0.94      0.92      0.93       272\n",
      "\n",
      "    accuracy                           0.90       750\n",
      "   macro avg       0.90      0.90      0.90       750\n",
      "weighted avg       0.90      0.90      0.90       750\n",
      "\n",
      "Decision Tree:\n",
      "              precision    recall  f1-score   support\n",
      "\n",
      "           0       0.80      0.87      0.84       225\n",
      "           1       0.82      0.81      0.82       253\n",
      "           2       0.91      0.86      0.88       272\n",
      "\n",
      "    accuracy                           0.85       750\n",
      "   macro avg       0.85      0.85      0.85       750\n",
      "weighted avg       0.85      0.85      0.85       750\n",
      "\n"
     ]
    }
   ],
   "source": [
    "print(f'Classification Reports\\nXGBoost: \\n{xgbc_cr}\\nCatBoost:\\n{cb_cr}\\nLightGBM:\\n{lgbmc_cr}\\nAdaBoost:\\n{abc_cr}\\nRandom forest:\\n{rfc_cr}\\nDecision Tree:\\n{dtc_cr}')"
   ]
  }
 ],
 "metadata": {
  "interpreter": {
   "hash": "0e4631f8abf22b6e3bad75ef6fc74e8156bc6d7eda16a6da5468122f1c7f4a75"
  },
  "kernelspec": {
   "display_name": "Python 3.9.1 64-bit",
   "language": "python",
   "name": "python3"
  },
  "language_info": {
   "codemirror_mode": {
    "name": "ipython",
    "version": 3
   },
   "file_extension": ".py",
   "mimetype": "text/x-python",
   "name": "python",
   "nbconvert_exporter": "python",
   "pygments_lexer": "ipython3",
   "version": "3.9.1"
  },
  "orig_nbformat": 4
 },
 "nbformat": 4,
 "nbformat_minor": 2
}
