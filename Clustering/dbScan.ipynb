{
 "cells": [
  {
   "cell_type": "markdown",
   "metadata": {},
   "source": [
    "Import jewellery dataset nd display details"
   ]
  },
  {
   "cell_type": "code",
   "execution_count": 1,
   "metadata": {},
   "outputs": [
    {
     "data": {
      "text/html": [
       "<div>\n",
       "<style scoped>\n",
       "    .dataframe tbody tr th:only-of-type {\n",
       "        vertical-align: middle;\n",
       "    }\n",
       "\n",
       "    .dataframe tbody tr th {\n",
       "        vertical-align: top;\n",
       "    }\n",
       "\n",
       "    .dataframe thead th {\n",
       "        text-align: right;\n",
       "    }\n",
       "</style>\n",
       "<table border=\"1\" class=\"dataframe\">\n",
       "  <thead>\n",
       "    <tr style=\"text-align: right;\">\n",
       "      <th></th>\n",
       "      <th>Age</th>\n",
       "      <th>Income</th>\n",
       "      <th>SpendingScore</th>\n",
       "      <th>Savings</th>\n",
       "    </tr>\n",
       "  </thead>\n",
       "  <tbody>\n",
       "    <tr>\n",
       "      <th>0</th>\n",
       "      <td>58</td>\n",
       "      <td>77769</td>\n",
       "      <td>0.791329</td>\n",
       "      <td>6559.829923</td>\n",
       "    </tr>\n",
       "    <tr>\n",
       "      <th>1</th>\n",
       "      <td>59</td>\n",
       "      <td>81799</td>\n",
       "      <td>0.791082</td>\n",
       "      <td>5417.661426</td>\n",
       "    </tr>\n",
       "    <tr>\n",
       "      <th>2</th>\n",
       "      <td>62</td>\n",
       "      <td>74751</td>\n",
       "      <td>0.702657</td>\n",
       "      <td>9258.992965</td>\n",
       "    </tr>\n",
       "    <tr>\n",
       "      <th>3</th>\n",
       "      <td>59</td>\n",
       "      <td>74373</td>\n",
       "      <td>0.765680</td>\n",
       "      <td>7346.334504</td>\n",
       "    </tr>\n",
       "    <tr>\n",
       "      <th>4</th>\n",
       "      <td>87</td>\n",
       "      <td>17760</td>\n",
       "      <td>0.348778</td>\n",
       "      <td>16869.507130</td>\n",
       "    </tr>\n",
       "  </tbody>\n",
       "</table>\n",
       "</div>"
      ],
      "text/plain": [
       "   Age  Income  SpendingScore       Savings\n",
       "0   58   77769       0.791329   6559.829923\n",
       "1   59   81799       0.791082   5417.661426\n",
       "2   62   74751       0.702657   9258.992965\n",
       "3   59   74373       0.765680   7346.334504\n",
       "4   87   17760       0.348778  16869.507130"
      ]
     },
     "metadata": {},
     "output_type": "display_data"
    }
   ],
   "source": [
    "from pycaret.datasets import get_data\n",
    "jewellery = get_data('jewellery')"
   ]
  },
  {
   "cell_type": "markdown",
   "metadata": {},
   "source": [
    "Display dataset details"
   ]
  },
  {
   "cell_type": "code",
   "execution_count": 2,
   "metadata": {},
   "outputs": [
    {
     "data": {
      "text/plain": [
       "(505, 4)"
      ]
     },
     "execution_count": 2,
     "metadata": {},
     "output_type": "execute_result"
    }
   ],
   "source": [
    "jewellery.shape"
   ]
  },
  {
   "cell_type": "markdown",
   "metadata": {},
   "source": [
    "Create unseen data samples"
   ]
  },
  {
   "cell_type": "code",
   "execution_count": 3,
   "metadata": {},
   "outputs": [
    {
     "name": "stdout",
     "output_type": "stream",
     "text": [
      "Data for Modeling: (480, 4)\n",
      "Unseen Data For Predictions: (25, 4)\n"
     ]
    }
   ],
   "source": [
    "data = jewellery.sample(frac=0.95, random_state=786).reset_index(drop=True)\n",
    "data_unseen = jewellery.drop(data.index).reset_index(drop=True)\n",
    "\n",
    "print('Data for Modeling: ' + str(data.shape))\n",
    "print('Unseen Data For Predictions: ' + str(data_unseen.shape))"
   ]
  },
  {
   "cell_type": "markdown",
   "metadata": {},
   "source": [
    "Run preprocess setup"
   ]
  },
  {
   "cell_type": "code",
   "execution_count": 4,
   "metadata": {},
   "outputs": [
    {
     "data": {
      "text/html": [
       "<style  type=\"text/css\" >\n",
       "#T_0e4f1_row10_col1,#T_0e4f1_row21_col1{\n",
       "            background-color:  lightgreen;\n",
       "        }</style><table id=\"T_0e4f1_\" ><thead>    <tr>        <th class=\"blank level0\" ></th>        <th class=\"col_heading level0 col0\" >Description</th>        <th class=\"col_heading level0 col1\" >Value</th>    </tr></thead><tbody>\n",
       "                <tr>\n",
       "                        <th id=\"T_0e4f1_level0_row0\" class=\"row_heading level0 row0\" >0</th>\n",
       "                        <td id=\"T_0e4f1_row0_col0\" class=\"data row0 col0\" >session_id</td>\n",
       "                        <td id=\"T_0e4f1_row0_col1\" class=\"data row0 col1\" >5242</td>\n",
       "            </tr>\n",
       "            <tr>\n",
       "                        <th id=\"T_0e4f1_level0_row1\" class=\"row_heading level0 row1\" >1</th>\n",
       "                        <td id=\"T_0e4f1_row1_col0\" class=\"data row1 col0\" >Original Data</td>\n",
       "                        <td id=\"T_0e4f1_row1_col1\" class=\"data row1 col1\" >(480, 4)</td>\n",
       "            </tr>\n",
       "            <tr>\n",
       "                        <th id=\"T_0e4f1_level0_row2\" class=\"row_heading level0 row2\" >2</th>\n",
       "                        <td id=\"T_0e4f1_row2_col0\" class=\"data row2 col0\" >Missing Values</td>\n",
       "                        <td id=\"T_0e4f1_row2_col1\" class=\"data row2 col1\" >False</td>\n",
       "            </tr>\n",
       "            <tr>\n",
       "                        <th id=\"T_0e4f1_level0_row3\" class=\"row_heading level0 row3\" >3</th>\n",
       "                        <td id=\"T_0e4f1_row3_col0\" class=\"data row3 col0\" >Numeric Features</td>\n",
       "                        <td id=\"T_0e4f1_row3_col1\" class=\"data row3 col1\" >4</td>\n",
       "            </tr>\n",
       "            <tr>\n",
       "                        <th id=\"T_0e4f1_level0_row4\" class=\"row_heading level0 row4\" >4</th>\n",
       "                        <td id=\"T_0e4f1_row4_col0\" class=\"data row4 col0\" >Categorical Features</td>\n",
       "                        <td id=\"T_0e4f1_row4_col1\" class=\"data row4 col1\" >0</td>\n",
       "            </tr>\n",
       "            <tr>\n",
       "                        <th id=\"T_0e4f1_level0_row5\" class=\"row_heading level0 row5\" >5</th>\n",
       "                        <td id=\"T_0e4f1_row5_col0\" class=\"data row5 col0\" >Ordinal Features</td>\n",
       "                        <td id=\"T_0e4f1_row5_col1\" class=\"data row5 col1\" >False</td>\n",
       "            </tr>\n",
       "            <tr>\n",
       "                        <th id=\"T_0e4f1_level0_row6\" class=\"row_heading level0 row6\" >6</th>\n",
       "                        <td id=\"T_0e4f1_row6_col0\" class=\"data row6 col0\" >High Cardinality Features</td>\n",
       "                        <td id=\"T_0e4f1_row6_col1\" class=\"data row6 col1\" >False</td>\n",
       "            </tr>\n",
       "            <tr>\n",
       "                        <th id=\"T_0e4f1_level0_row7\" class=\"row_heading level0 row7\" >7</th>\n",
       "                        <td id=\"T_0e4f1_row7_col0\" class=\"data row7 col0\" >High Cardinality Method</td>\n",
       "                        <td id=\"T_0e4f1_row7_col1\" class=\"data row7 col1\" >None</td>\n",
       "            </tr>\n",
       "            <tr>\n",
       "                        <th id=\"T_0e4f1_level0_row8\" class=\"row_heading level0 row8\" >8</th>\n",
       "                        <td id=\"T_0e4f1_row8_col0\" class=\"data row8 col0\" >Transformed Data</td>\n",
       "                        <td id=\"T_0e4f1_row8_col1\" class=\"data row8 col1\" >(480, 4)</td>\n",
       "            </tr>\n",
       "            <tr>\n",
       "                        <th id=\"T_0e4f1_level0_row9\" class=\"row_heading level0 row9\" >9</th>\n",
       "                        <td id=\"T_0e4f1_row9_col0\" class=\"data row9 col0\" >CPU Jobs</td>\n",
       "                        <td id=\"T_0e4f1_row9_col1\" class=\"data row9 col1\" >-1</td>\n",
       "            </tr>\n",
       "            <tr>\n",
       "                        <th id=\"T_0e4f1_level0_row10\" class=\"row_heading level0 row10\" >10</th>\n",
       "                        <td id=\"T_0e4f1_row10_col0\" class=\"data row10 col0\" >Use GPU</td>\n",
       "                        <td id=\"T_0e4f1_row10_col1\" class=\"data row10 col1\" >True</td>\n",
       "            </tr>\n",
       "            <tr>\n",
       "                        <th id=\"T_0e4f1_level0_row11\" class=\"row_heading level0 row11\" >11</th>\n",
       "                        <td id=\"T_0e4f1_row11_col0\" class=\"data row11 col0\" >Log Experiment</td>\n",
       "                        <td id=\"T_0e4f1_row11_col1\" class=\"data row11 col1\" >False</td>\n",
       "            </tr>\n",
       "            <tr>\n",
       "                        <th id=\"T_0e4f1_level0_row12\" class=\"row_heading level0 row12\" >12</th>\n",
       "                        <td id=\"T_0e4f1_row12_col0\" class=\"data row12 col0\" >Experiment Name</td>\n",
       "                        <td id=\"T_0e4f1_row12_col1\" class=\"data row12 col1\" >cluster-default-name</td>\n",
       "            </tr>\n",
       "            <tr>\n",
       "                        <th id=\"T_0e4f1_level0_row13\" class=\"row_heading level0 row13\" >13</th>\n",
       "                        <td id=\"T_0e4f1_row13_col0\" class=\"data row13 col0\" >USI</td>\n",
       "                        <td id=\"T_0e4f1_row13_col1\" class=\"data row13 col1\" >74d1</td>\n",
       "            </tr>\n",
       "            <tr>\n",
       "                        <th id=\"T_0e4f1_level0_row14\" class=\"row_heading level0 row14\" >14</th>\n",
       "                        <td id=\"T_0e4f1_row14_col0\" class=\"data row14 col0\" >Imputation Type</td>\n",
       "                        <td id=\"T_0e4f1_row14_col1\" class=\"data row14 col1\" >simple</td>\n",
       "            </tr>\n",
       "            <tr>\n",
       "                        <th id=\"T_0e4f1_level0_row15\" class=\"row_heading level0 row15\" >15</th>\n",
       "                        <td id=\"T_0e4f1_row15_col0\" class=\"data row15 col0\" >Iterative Imputation Iteration</td>\n",
       "                        <td id=\"T_0e4f1_row15_col1\" class=\"data row15 col1\" >None</td>\n",
       "            </tr>\n",
       "            <tr>\n",
       "                        <th id=\"T_0e4f1_level0_row16\" class=\"row_heading level0 row16\" >16</th>\n",
       "                        <td id=\"T_0e4f1_row16_col0\" class=\"data row16 col0\" >Numeric Imputer</td>\n",
       "                        <td id=\"T_0e4f1_row16_col1\" class=\"data row16 col1\" >mean</td>\n",
       "            </tr>\n",
       "            <tr>\n",
       "                        <th id=\"T_0e4f1_level0_row17\" class=\"row_heading level0 row17\" >17</th>\n",
       "                        <td id=\"T_0e4f1_row17_col0\" class=\"data row17 col0\" >Iterative Imputation Numeric Model</td>\n",
       "                        <td id=\"T_0e4f1_row17_col1\" class=\"data row17 col1\" >None</td>\n",
       "            </tr>\n",
       "            <tr>\n",
       "                        <th id=\"T_0e4f1_level0_row18\" class=\"row_heading level0 row18\" >18</th>\n",
       "                        <td id=\"T_0e4f1_row18_col0\" class=\"data row18 col0\" >Categorical Imputer</td>\n",
       "                        <td id=\"T_0e4f1_row18_col1\" class=\"data row18 col1\" >mode</td>\n",
       "            </tr>\n",
       "            <tr>\n",
       "                        <th id=\"T_0e4f1_level0_row19\" class=\"row_heading level0 row19\" >19</th>\n",
       "                        <td id=\"T_0e4f1_row19_col0\" class=\"data row19 col0\" >Iterative Imputation Categorical Model</td>\n",
       "                        <td id=\"T_0e4f1_row19_col1\" class=\"data row19 col1\" >None</td>\n",
       "            </tr>\n",
       "            <tr>\n",
       "                        <th id=\"T_0e4f1_level0_row20\" class=\"row_heading level0 row20\" >20</th>\n",
       "                        <td id=\"T_0e4f1_row20_col0\" class=\"data row20 col0\" >Unknown Categoricals Handling</td>\n",
       "                        <td id=\"T_0e4f1_row20_col1\" class=\"data row20 col1\" >least_frequent</td>\n",
       "            </tr>\n",
       "            <tr>\n",
       "                        <th id=\"T_0e4f1_level0_row21\" class=\"row_heading level0 row21\" >21</th>\n",
       "                        <td id=\"T_0e4f1_row21_col0\" class=\"data row21 col0\" >Normalize</td>\n",
       "                        <td id=\"T_0e4f1_row21_col1\" class=\"data row21 col1\" >True</td>\n",
       "            </tr>\n",
       "            <tr>\n",
       "                        <th id=\"T_0e4f1_level0_row22\" class=\"row_heading level0 row22\" >22</th>\n",
       "                        <td id=\"T_0e4f1_row22_col0\" class=\"data row22 col0\" >Normalize Method</td>\n",
       "                        <td id=\"T_0e4f1_row22_col1\" class=\"data row22 col1\" >zscore</td>\n",
       "            </tr>\n",
       "            <tr>\n",
       "                        <th id=\"T_0e4f1_level0_row23\" class=\"row_heading level0 row23\" >23</th>\n",
       "                        <td id=\"T_0e4f1_row23_col0\" class=\"data row23 col0\" >Transformation</td>\n",
       "                        <td id=\"T_0e4f1_row23_col1\" class=\"data row23 col1\" >False</td>\n",
       "            </tr>\n",
       "            <tr>\n",
       "                        <th id=\"T_0e4f1_level0_row24\" class=\"row_heading level0 row24\" >24</th>\n",
       "                        <td id=\"T_0e4f1_row24_col0\" class=\"data row24 col0\" >Transformation Method</td>\n",
       "                        <td id=\"T_0e4f1_row24_col1\" class=\"data row24 col1\" >None</td>\n",
       "            </tr>\n",
       "            <tr>\n",
       "                        <th id=\"T_0e4f1_level0_row25\" class=\"row_heading level0 row25\" >25</th>\n",
       "                        <td id=\"T_0e4f1_row25_col0\" class=\"data row25 col0\" >PCA</td>\n",
       "                        <td id=\"T_0e4f1_row25_col1\" class=\"data row25 col1\" >False</td>\n",
       "            </tr>\n",
       "            <tr>\n",
       "                        <th id=\"T_0e4f1_level0_row26\" class=\"row_heading level0 row26\" >26</th>\n",
       "                        <td id=\"T_0e4f1_row26_col0\" class=\"data row26 col0\" >PCA Method</td>\n",
       "                        <td id=\"T_0e4f1_row26_col1\" class=\"data row26 col1\" >None</td>\n",
       "            </tr>\n",
       "            <tr>\n",
       "                        <th id=\"T_0e4f1_level0_row27\" class=\"row_heading level0 row27\" >27</th>\n",
       "                        <td id=\"T_0e4f1_row27_col0\" class=\"data row27 col0\" >PCA Components</td>\n",
       "                        <td id=\"T_0e4f1_row27_col1\" class=\"data row27 col1\" >None</td>\n",
       "            </tr>\n",
       "            <tr>\n",
       "                        <th id=\"T_0e4f1_level0_row28\" class=\"row_heading level0 row28\" >28</th>\n",
       "                        <td id=\"T_0e4f1_row28_col0\" class=\"data row28 col0\" >Ignore Low Variance</td>\n",
       "                        <td id=\"T_0e4f1_row28_col1\" class=\"data row28 col1\" >False</td>\n",
       "            </tr>\n",
       "            <tr>\n",
       "                        <th id=\"T_0e4f1_level0_row29\" class=\"row_heading level0 row29\" >29</th>\n",
       "                        <td id=\"T_0e4f1_row29_col0\" class=\"data row29 col0\" >Combine Rare Levels</td>\n",
       "                        <td id=\"T_0e4f1_row29_col1\" class=\"data row29 col1\" >False</td>\n",
       "            </tr>\n",
       "            <tr>\n",
       "                        <th id=\"T_0e4f1_level0_row30\" class=\"row_heading level0 row30\" >30</th>\n",
       "                        <td id=\"T_0e4f1_row30_col0\" class=\"data row30 col0\" >Rare Level Threshold</td>\n",
       "                        <td id=\"T_0e4f1_row30_col1\" class=\"data row30 col1\" >None</td>\n",
       "            </tr>\n",
       "            <tr>\n",
       "                        <th id=\"T_0e4f1_level0_row31\" class=\"row_heading level0 row31\" >31</th>\n",
       "                        <td id=\"T_0e4f1_row31_col0\" class=\"data row31 col0\" >Numeric Binning</td>\n",
       "                        <td id=\"T_0e4f1_row31_col1\" class=\"data row31 col1\" >False</td>\n",
       "            </tr>\n",
       "            <tr>\n",
       "                        <th id=\"T_0e4f1_level0_row32\" class=\"row_heading level0 row32\" >32</th>\n",
       "                        <td id=\"T_0e4f1_row32_col0\" class=\"data row32 col0\" >Remove Outliers</td>\n",
       "                        <td id=\"T_0e4f1_row32_col1\" class=\"data row32 col1\" >False</td>\n",
       "            </tr>\n",
       "            <tr>\n",
       "                        <th id=\"T_0e4f1_level0_row33\" class=\"row_heading level0 row33\" >33</th>\n",
       "                        <td id=\"T_0e4f1_row33_col0\" class=\"data row33 col0\" >Outliers Threshold</td>\n",
       "                        <td id=\"T_0e4f1_row33_col1\" class=\"data row33 col1\" >None</td>\n",
       "            </tr>\n",
       "            <tr>\n",
       "                        <th id=\"T_0e4f1_level0_row34\" class=\"row_heading level0 row34\" >34</th>\n",
       "                        <td id=\"T_0e4f1_row34_col0\" class=\"data row34 col0\" >Remove Multicollinearity</td>\n",
       "                        <td id=\"T_0e4f1_row34_col1\" class=\"data row34 col1\" >False</td>\n",
       "            </tr>\n",
       "            <tr>\n",
       "                        <th id=\"T_0e4f1_level0_row35\" class=\"row_heading level0 row35\" >35</th>\n",
       "                        <td id=\"T_0e4f1_row35_col0\" class=\"data row35 col0\" >Multicollinearity Threshold</td>\n",
       "                        <td id=\"T_0e4f1_row35_col1\" class=\"data row35 col1\" >None</td>\n",
       "            </tr>\n",
       "            <tr>\n",
       "                        <th id=\"T_0e4f1_level0_row36\" class=\"row_heading level0 row36\" >36</th>\n",
       "                        <td id=\"T_0e4f1_row36_col0\" class=\"data row36 col0\" >Remove Perfect Collinearity</td>\n",
       "                        <td id=\"T_0e4f1_row36_col1\" class=\"data row36 col1\" >False</td>\n",
       "            </tr>\n",
       "            <tr>\n",
       "                        <th id=\"T_0e4f1_level0_row37\" class=\"row_heading level0 row37\" >37</th>\n",
       "                        <td id=\"T_0e4f1_row37_col0\" class=\"data row37 col0\" >Clustering</td>\n",
       "                        <td id=\"T_0e4f1_row37_col1\" class=\"data row37 col1\" >False</td>\n",
       "            </tr>\n",
       "            <tr>\n",
       "                        <th id=\"T_0e4f1_level0_row38\" class=\"row_heading level0 row38\" >38</th>\n",
       "                        <td id=\"T_0e4f1_row38_col0\" class=\"data row38 col0\" >Clustering Iteration</td>\n",
       "                        <td id=\"T_0e4f1_row38_col1\" class=\"data row38 col1\" >None</td>\n",
       "            </tr>\n",
       "            <tr>\n",
       "                        <th id=\"T_0e4f1_level0_row39\" class=\"row_heading level0 row39\" >39</th>\n",
       "                        <td id=\"T_0e4f1_row39_col0\" class=\"data row39 col0\" >Polynomial Features</td>\n",
       "                        <td id=\"T_0e4f1_row39_col1\" class=\"data row39 col1\" >False</td>\n",
       "            </tr>\n",
       "            <tr>\n",
       "                        <th id=\"T_0e4f1_level0_row40\" class=\"row_heading level0 row40\" >40</th>\n",
       "                        <td id=\"T_0e4f1_row40_col0\" class=\"data row40 col0\" >Polynomial Degree</td>\n",
       "                        <td id=\"T_0e4f1_row40_col1\" class=\"data row40 col1\" >None</td>\n",
       "            </tr>\n",
       "            <tr>\n",
       "                        <th id=\"T_0e4f1_level0_row41\" class=\"row_heading level0 row41\" >41</th>\n",
       "                        <td id=\"T_0e4f1_row41_col0\" class=\"data row41 col0\" >Trignometry Features</td>\n",
       "                        <td id=\"T_0e4f1_row41_col1\" class=\"data row41 col1\" >False</td>\n",
       "            </tr>\n",
       "            <tr>\n",
       "                        <th id=\"T_0e4f1_level0_row42\" class=\"row_heading level0 row42\" >42</th>\n",
       "                        <td id=\"T_0e4f1_row42_col0\" class=\"data row42 col0\" >Polynomial Threshold</td>\n",
       "                        <td id=\"T_0e4f1_row42_col1\" class=\"data row42 col1\" >None</td>\n",
       "            </tr>\n",
       "            <tr>\n",
       "                        <th id=\"T_0e4f1_level0_row43\" class=\"row_heading level0 row43\" >43</th>\n",
       "                        <td id=\"T_0e4f1_row43_col0\" class=\"data row43 col0\" >Group Features</td>\n",
       "                        <td id=\"T_0e4f1_row43_col1\" class=\"data row43 col1\" >False</td>\n",
       "            </tr>\n",
       "            <tr>\n",
       "                        <th id=\"T_0e4f1_level0_row44\" class=\"row_heading level0 row44\" >44</th>\n",
       "                        <td id=\"T_0e4f1_row44_col0\" class=\"data row44 col0\" >Feature Selection</td>\n",
       "                        <td id=\"T_0e4f1_row44_col1\" class=\"data row44 col1\" >False</td>\n",
       "            </tr>\n",
       "            <tr>\n",
       "                        <th id=\"T_0e4f1_level0_row45\" class=\"row_heading level0 row45\" >45</th>\n",
       "                        <td id=\"T_0e4f1_row45_col0\" class=\"data row45 col0\" >Feature Selection Method</td>\n",
       "                        <td id=\"T_0e4f1_row45_col1\" class=\"data row45 col1\" >classic</td>\n",
       "            </tr>\n",
       "            <tr>\n",
       "                        <th id=\"T_0e4f1_level0_row46\" class=\"row_heading level0 row46\" >46</th>\n",
       "                        <td id=\"T_0e4f1_row46_col0\" class=\"data row46 col0\" >Features Selection Threshold</td>\n",
       "                        <td id=\"T_0e4f1_row46_col1\" class=\"data row46 col1\" >None</td>\n",
       "            </tr>\n",
       "            <tr>\n",
       "                        <th id=\"T_0e4f1_level0_row47\" class=\"row_heading level0 row47\" >47</th>\n",
       "                        <td id=\"T_0e4f1_row47_col0\" class=\"data row47 col0\" >Feature Interaction</td>\n",
       "                        <td id=\"T_0e4f1_row47_col1\" class=\"data row47 col1\" >False</td>\n",
       "            </tr>\n",
       "            <tr>\n",
       "                        <th id=\"T_0e4f1_level0_row48\" class=\"row_heading level0 row48\" >48</th>\n",
       "                        <td id=\"T_0e4f1_row48_col0\" class=\"data row48 col0\" >Feature Ratio</td>\n",
       "                        <td id=\"T_0e4f1_row48_col1\" class=\"data row48 col1\" >False</td>\n",
       "            </tr>\n",
       "            <tr>\n",
       "                        <th id=\"T_0e4f1_level0_row49\" class=\"row_heading level0 row49\" >49</th>\n",
       "                        <td id=\"T_0e4f1_row49_col0\" class=\"data row49 col0\" >Interaction Threshold</td>\n",
       "                        <td id=\"T_0e4f1_row49_col1\" class=\"data row49 col1\" >None</td>\n",
       "            </tr>\n",
       "    </tbody></table>"
      ],
      "text/plain": [
       "<pandas.io.formats.style.Styler at 0x1e32fee9be0>"
      ]
     },
     "metadata": {},
     "output_type": "display_data"
    }
   ],
   "source": [
    "from pycaret.clustering import *\n",
    "\n",
    "exp_clu101 = setup(data, normalize = True, use_gpu = True)"
   ]
  },
  {
   "cell_type": "markdown",
   "metadata": {},
   "source": [
    "Run on jewellery dataset"
   ]
  },
  {
   "cell_type": "code",
   "execution_count": 5,
   "metadata": {},
   "outputs": [],
   "source": [
    "data = jewellery.sample(frac=0.95, random_state=786).reset_index(drop=True)\n",
    "data_unseen = jewellery.drop(data.index).reset_index(drop=True)"
   ]
  },
  {
   "cell_type": "code",
   "execution_count": 6,
   "metadata": {},
   "outputs": [
    {
     "data": {
      "text/html": [
       "<div>\n",
       "<style scoped>\n",
       "    .dataframe tbody tr th:only-of-type {\n",
       "        vertical-align: middle;\n",
       "    }\n",
       "\n",
       "    .dataframe tbody tr th {\n",
       "        vertical-align: top;\n",
       "    }\n",
       "\n",
       "    .dataframe thead th {\n",
       "        text-align: right;\n",
       "    }\n",
       "</style>\n",
       "<table border=\"1\" class=\"dataframe\">\n",
       "  <thead>\n",
       "    <tr style=\"text-align: right;\">\n",
       "      <th></th>\n",
       "      <th>Silhouette</th>\n",
       "      <th>Calinski-Harabasz</th>\n",
       "      <th>Davies-Bouldin</th>\n",
       "      <th>Homogeneity</th>\n",
       "      <th>Rand Index</th>\n",
       "      <th>Completeness</th>\n",
       "    </tr>\n",
       "  </thead>\n",
       "  <tbody>\n",
       "    <tr>\n",
       "      <th>0</th>\n",
       "      <td>0.756</td>\n",
       "      <td>1475.5598</td>\n",
       "      <td>0.3762</td>\n",
       "      <td>0</td>\n",
       "      <td>0</td>\n",
       "      <td>0</td>\n",
       "    </tr>\n",
       "  </tbody>\n",
       "</table>\n",
       "</div>"
      ],
      "text/plain": [
       "   Silhouette  Calinski-Harabasz  Davies-Bouldin  Homogeneity  Rand Index  \\\n",
       "0       0.756          1475.5598          0.3762            0           0   \n",
       "\n",
       "   Completeness  \n",
       "0             0  "
      ]
     },
     "metadata": {},
     "output_type": "display_data"
    },
    {
     "name": "stdout",
     "output_type": "stream",
     "text": [
      "KMeans(algorithm='auto', copy_x=True, init='k-means++', max_iter=300,\n",
      "       n_clusters=4, n_init=10, n_jobs=-1, precompute_distances='deprecated',\n",
      "       random_state=5242, tol=0.0001, verbose=0)\n"
     ]
    }
   ],
   "source": [
    "kmeans = create_model('kmeans')\n",
    "print(kmeans)"
   ]
  },
  {
   "cell_type": "code",
   "execution_count": 7,
   "metadata": {},
   "outputs": [
    {
     "data": {
      "text/html": [
       "<div>\n",
       "<style scoped>\n",
       "    .dataframe tbody tr th:only-of-type {\n",
       "        vertical-align: middle;\n",
       "    }\n",
       "\n",
       "    .dataframe tbody tr th {\n",
       "        vertical-align: top;\n",
       "    }\n",
       "\n",
       "    .dataframe thead th {\n",
       "        text-align: right;\n",
       "    }\n",
       "</style>\n",
       "<table border=\"1\" class=\"dataframe\">\n",
       "  <thead>\n",
       "    <tr style=\"text-align: right;\">\n",
       "      <th></th>\n",
       "      <th>Silhouette</th>\n",
       "      <th>Calinski-Harabasz</th>\n",
       "      <th>Davies-Bouldin</th>\n",
       "      <th>Homogeneity</th>\n",
       "      <th>Rand Index</th>\n",
       "      <th>Completeness</th>\n",
       "    </tr>\n",
       "  </thead>\n",
       "  <tbody>\n",
       "    <tr>\n",
       "      <th>0</th>\n",
       "      <td>-0.4988</td>\n",
       "      <td>20.8367</td>\n",
       "      <td>3.3452</td>\n",
       "      <td>0</td>\n",
       "      <td>0</td>\n",
       "      <td>0</td>\n",
       "    </tr>\n",
       "  </tbody>\n",
       "</table>\n",
       "</div>"
      ],
      "text/plain": [
       "   Silhouette  Calinski-Harabasz  Davies-Bouldin  Homogeneity  Rand Index  \\\n",
       "0     -0.4988            20.8367          3.3452            0           0   \n",
       "\n",
       "   Completeness  \n",
       "0             0  "
      ]
     },
     "metadata": {},
     "output_type": "display_data"
    },
    {
     "name": "stdout",
     "output_type": "stream",
     "text": [
      "KModes(cat_dissim=<function matching_dissim at 0x000001E32FEE54C0>, init='Cao',\n",
      "       max_iter=100, n_clusters=6, n_init=1, n_jobs=-1, random_state=5242,\n",
      "       verbose=0)\n"
     ]
    }
   ],
   "source": [
    "kmodes = create_model('kmodes', num_clusters = 6)\n",
    "print(kmodes)"
   ]
  },
  {
   "cell_type": "code",
   "execution_count": 8,
   "metadata": {},
   "outputs": [
    {
     "data": {
      "text/html": [
       "<div>\n",
       "<style scoped>\n",
       "    .dataframe tbody tr th:only-of-type {\n",
       "        vertical-align: middle;\n",
       "    }\n",
       "\n",
       "    .dataframe tbody tr th {\n",
       "        vertical-align: top;\n",
       "    }\n",
       "\n",
       "    .dataframe thead th {\n",
       "        text-align: right;\n",
       "    }\n",
       "</style>\n",
       "<table border=\"1\" class=\"dataframe\">\n",
       "  <thead>\n",
       "    <tr style=\"text-align: right;\">\n",
       "      <th></th>\n",
       "      <th>Age</th>\n",
       "      <th>Income</th>\n",
       "      <th>SpendingScore</th>\n",
       "      <th>Savings</th>\n",
       "      <th>Cluster</th>\n",
       "    </tr>\n",
       "  </thead>\n",
       "  <tbody>\n",
       "    <tr>\n",
       "      <th>0</th>\n",
       "      <td>87</td>\n",
       "      <td>24578</td>\n",
       "      <td>0.376165</td>\n",
       "      <td>17789.247522</td>\n",
       "      <td>Cluster 0</td>\n",
       "    </tr>\n",
       "    <tr>\n",
       "      <th>1</th>\n",
       "      <td>62</td>\n",
       "      <td>68279</td>\n",
       "      <td>0.719685</td>\n",
       "      <td>7028.675510</td>\n",
       "      <td>Cluster 1</td>\n",
       "    </tr>\n",
       "    <tr>\n",
       "      <th>2</th>\n",
       "      <td>37</td>\n",
       "      <td>106894</td>\n",
       "      <td>0.343236</td>\n",
       "      <td>14075.217366</td>\n",
       "      <td>Cluster 2</td>\n",
       "    </tr>\n",
       "    <tr>\n",
       "      <th>3</th>\n",
       "      <td>35</td>\n",
       "      <td>112878</td>\n",
       "      <td>0.300914</td>\n",
       "      <td>13755.482302</td>\n",
       "      <td>Cluster 2</td>\n",
       "    </tr>\n",
       "    <tr>\n",
       "      <th>4</th>\n",
       "      <td>89</td>\n",
       "      <td>26127</td>\n",
       "      <td>0.304474</td>\n",
       "      <td>17194.828019</td>\n",
       "      <td>Cluster 0</td>\n",
       "    </tr>\n",
       "  </tbody>\n",
       "</table>\n",
       "</div>"
      ],
      "text/plain": [
       "   Age  Income  SpendingScore       Savings    Cluster\n",
       "0   87   24578       0.376165  17789.247522  Cluster 0\n",
       "1   62   68279       0.719685   7028.675510  Cluster 1\n",
       "2   37  106894       0.343236  14075.217366  Cluster 2\n",
       "3   35  112878       0.300914  13755.482302  Cluster 2\n",
       "4   89   26127       0.304474  17194.828019  Cluster 0"
      ]
     },
     "execution_count": 8,
     "metadata": {},
     "output_type": "execute_result"
    }
   ],
   "source": [
    "kmean_results = assign_model(kmeans)\n",
    "kmean_results.head()"
   ]
  },
  {
   "cell_type": "markdown",
   "metadata": {},
   "source": [
    "Plot K-Means clusters"
   ]
  },
  {
   "cell_type": "code",
   "execution_count": 9,
   "metadata": {},
   "outputs": [
    {
     "data": {
      "application/vnd.plotly.v1+json": {
       "config": {
        "plotlyServerURL": "https://plot.ly"
       },
       "data": [
        {
         "customdata": [
          [
           87
          ],
          [
           82
          ],
          [
           84
          ],
          [
           82
          ],
          [
           93
          ],
          [
           87
          ],
          [
           91
          ],
          [
           84
          ],
          [
           89
          ],
          [
           94
          ],
          [
           86
          ],
          [
           94
          ],
          [
           86
          ],
          [
           88
          ],
          [
           87
          ],
          [
           85
          ],
          [
           92
          ],
          [
           85
          ],
          [
           90
          ],
          [
           84
          ],
          [
           90
          ],
          [
           90
          ],
          [
           86
          ],
          [
           82
          ],
          [
           86
          ],
          [
           88
          ],
          [
           88
          ],
          [
           82
          ],
          [
           83
          ],
          [
           84
          ],
          [
           83
          ],
          [
           88
          ],
          [
           85
          ],
          [
           89
          ],
          [
           92
          ],
          [
           92
          ],
          [
           84
          ],
          [
           88
          ],
          [
           86
          ],
          [
           86
          ],
          [
           91
          ],
          [
           88
          ],
          [
           92
          ],
          [
           83
          ],
          [
           83
          ],
          [
           88
          ],
          [
           79
          ],
          [
           85
          ],
          [
           92
          ],
          [
           84
          ],
          [
           87
          ],
          [
           89
          ],
          [
           94
          ],
          [
           83
          ],
          [
           90
          ],
          [
           87
          ],
          [
           87
          ],
          [
           88
          ],
          [
           87
          ],
          [
           94
          ],
          [
           90
          ],
          [
           86
          ],
          [
           92
          ],
          [
           91
          ],
          [
           95
          ],
          [
           85
          ],
          [
           88
          ],
          [
           90
          ],
          [
           79
          ],
          [
           88
          ],
          [
           91
          ],
          [
           84
          ],
          [
           89
          ],
          [
           87
          ],
          [
           83
          ],
          [
           87
          ],
          [
           94
          ],
          [
           91
          ],
          [
           91
          ],
          [
           90
          ],
          [
           89
          ],
          [
           90
          ],
          [
           86
          ],
          [
           85
          ],
          [
           88
          ],
          [
           97
          ],
          [
           89
          ],
          [
           90
          ],
          [
           89
          ],
          [
           84
          ],
          [
           94
          ],
          [
           85
          ],
          [
           82
          ],
          [
           85
          ],
          [
           83
          ],
          [
           87
          ],
          [
           93
          ],
          [
           89
          ],
          [
           88
          ],
          [
           92
          ],
          [
           91
          ],
          [
           89
          ],
          [
           84
          ],
          [
           93
          ],
          [
           91
          ],
          [
           87
          ],
          [
           87
          ],
          [
           85
          ],
          [
           91
          ],
          [
           91
          ],
          [
           88
          ],
          [
           87
          ],
          [
           91
          ],
          [
           84
          ],
          [
           84
          ],
          [
           90
          ],
          [
           83
          ],
          [
           91
          ],
          [
           92
          ],
          [
           91
          ],
          [
           84
          ],
          [
           81
          ],
          [
           89
          ],
          [
           86
          ],
          [
           87
          ],
          [
           89
          ],
          [
           87
          ],
          [
           91
          ],
          [
           88
          ],
          [
           88
          ],
          [
           85
          ],
          [
           84
          ],
          [
           91
          ],
          [
           88
          ],
          [
           94
          ],
          [
           87
          ],
          [
           88
          ],
          [
           85
          ],
          [
           91
          ],
          [
           83
          ],
          [
           91
          ]
         ],
         "hovertemplate": "Cluster=Cluster 0<br>PCA1=%{x}<br>PCA2=%{y}<br>Feature=%{customdata[0]}<extra></extra>",
         "legendgroup": "Cluster 0",
         "marker": {
          "color": "#636efa",
          "opacity": 0.5,
          "symbol": "circle"
         },
         "mode": "markers",
         "name": "Cluster 0",
         "orientation": "v",
         "showlegend": true,
         "textposition": "top center",
         "type": "scatter",
         "x": [
          -2.1097934246063232,
          -1.9055562019348145,
          -2.034453868865967,
          -1.884932041168213,
          -2.3926408290863037,
          -2.033207893371582,
          -2.1315925121307373,
          -1.825629711151123,
          -2.1052322387695312,
          -2.033158779144287,
          -1.914723515510559,
          -2.2727880477905273,
          -2.1017379760742188,
          -2.0756654739379883,
          -2.1473121643066406,
          -1.7486094236373901,
          -1.9802402257919312,
          -2.0064828395843506,
          -2.084885597229004,
          -1.8251969814300537,
          -1.9791680574417114,
          -2.005101442337036,
          -2.0471622943878174,
          -2.0260748863220215,
          -2.289764165878296,
          -1.9194728136062622,
          -2.3448026180267334,
          -1.6564927101135254,
          -2.0485541820526123,
          -2.011179208755493,
          -2.054788589477539,
          -1.8481025695800781,
          -2.1292171478271484,
          -2.244011402130127,
          -2.0888218879699707,
          -2.027817487716675,
          -2.052049398422241,
          -1.6876140832901,
          -2.001786947250366,
          -2.381070375442505,
          -2.257347345352173,
          -2.161566972732544,
          -2.1070332527160645,
          -1.6887704133987427,
          -2.0389158725738525,
          -1.9538878202438354,
          -1.6235963106155396,
          -2.18865704536438,
          -2.034759283065796,
          -2.2899720668792725,
          -2.1438069343566895,
          -2.1302378177642822,
          -2.297366142272949,
          -1.8666765689849854,
          -1.8826165199279785,
          -1.8871662616729736,
          -1.8601888418197632,
          -1.9192150831222534,
          -1.9878344535827637,
          -2.0936737060546875,
          -2.0961997509002686,
          -2.2778046131134033,
          -1.9593936204910278,
          -1.9921799898147583,
          -2.365098237991333,
          -2.039517641067505,
          -1.9954032897949219,
          -2.470592498779297,
          -1.703959584236145,
          -2.1674861907958984,
          -2.3737285137176514,
          -2.1090497970581055,
          -1.5526227951049805,
          -2.071537733078003,
          -1.661048412322998,
          -1.8484896421432495,
          -2.376986026763916,
          -2.2570176124572754,
          -2.3228065967559814,
          -2.056755781173706,
          -1.9313281774520874,
          -1.8959689140319824,
          -2.0629823207855225,
          -1.9315940141677856,
          -2.2730038166046143,
          -2.1358249187469482,
          -1.6576430797576904,
          -2.0244550704956055,
          -2.080357789993286,
          -2.082280397415161,
          -2.063173294067383,
          -1.8307563066482544,
          -2.1148173809051514,
          -1.7245222330093384,
          -2.147204875946045,
          -1.918478012084961,
          -2.6395981311798096,
          -1.9600107669830322,
          -1.8450449705123901,
          -2.2816154956817627,
          -2.0308310985565186,
          -2.025317430496216,
          -1.8556216955184937,
          -2.5417232513427734,
          -2.18308162689209,
          -1.9510624408721924,
          -1.6119498014450073,
          -2.079416275024414,
          -2.3517918586730957,
          -2.447601079940796,
          -1.824110507965088,
          -2.1884119510650635,
          -1.9608265161514282,
          -1.7989139556884766,
          -1.9834011793136597,
          -1.7803616523742676,
          -2.045706272125244,
          -2.161438226699829,
          -2.4160211086273193,
          -2.1491963863372803,
          -2.328847646713257,
          -1.8821114301681519,
          -2.077082395553589,
          -1.7326359748840332,
          -1.8820323944091797,
          -2.1994729042053223,
          -2.159146547317505,
          -2.4221725463867188,
          -1.93305504322052,
          -1.8286393880844116,
          -1.8319061994552612,
          -1.7849833965301514,
          -2.237736225128174,
          -2.297109842300415,
          -2.211301326751709,
          -1.9480072259902954,
          -2.153531551361084,
          -1.8118342161178589,
          -2.029977798461914,
          -2.022580862045288,
          -2.2454020977020264
         ],
         "xaxis": "x",
         "y": [
          -0.5743826031684875,
          -0.32188475131988525,
          -0.4408552050590515,
          -0.3340117633342743,
          -0.6194440126419067,
          -0.4216769337654114,
          -0.6114070415496826,
          -0.5499242544174194,
          -0.5920318365097046,
          -0.7687231302261353,
          -0.5522046089172363,
          -0.6714733242988586,
          -0.15966933965682983,
          -0.6708871722221375,
          -0.6974695324897766,
          -0.667108416557312,
          -0.5893392562866211,
          -0.42921000719070435,
          -0.39072486758232117,
          -0.5973426699638367,
          -0.4407506585121155,
          -0.5949138402938843,
          -0.706157922744751,
          -0.1807883083820343,
          -0.07752372324466705,
          -0.5432533025741577,
          -0.5389813184738159,
          -0.8194007277488708,
          -0.40162143111228943,
          -0.4276147782802582,
          -0.5821666121482849,
          -0.7240868806838989,
          -0.4203498959541321,
          -0.30956682562828064,
          -0.4503633975982666,
          -0.5218362212181091,
          -0.5838304162025452,
          -0.7258443236351013,
          -0.5793799161911011,
          -0.4717865586280823,
          -0.8996391892433167,
          -0.4235045909881592,
          -0.8644980788230896,
          -0.6653863191604614,
          -0.1739218533039093,
          -0.47136810421943665,
          -0.3128558397293091,
          -0.27637186646461487,
          -0.5761827826499939,
          -0.4317108392715454,
          -0.3903883993625641,
          -0.690738320350647,
          -0.5460086464881897,
          -0.3245922923088074,
          -0.5670067071914673,
          -0.9474308490753174,
          -0.5615614652633667,
          -0.6682393550872803,
          -0.6326888799667358,
          -0.7386513948440552,
          -0.48194828629493713,
          -0.1349746435880661,
          -0.6634127497673035,
          -0.5964533090591431,
          -0.5693506598472595,
          -0.5930704474449158,
          -0.5614306926727295,
          -0.38978311419487,
          -0.34936150908470154,
          -0.6504165530204773,
          -0.12698045372962952,
          -0.40594637393951416,
          -1.11509108543396,
          -0.5847139954566956,
          -0.48867306113243103,
          -0.6429885029792786,
          -0.7398949265480042,
          -0.5176296234130859,
          -0.7076607942581177,
          -0.6565431952476501,
          -0.6624720096588135,
          -0.649024248123169,
          -0.4622344970703125,
          -0.32589539885520935,
          -0.21704742312431335,
          -0.7725072503089905,
          -0.7157514095306396,
          -0.7750405669212341,
          -0.8060947060585022,
          -0.3355007469654083,
          -0.4626505374908447,
          -0.6135533452033997,
          -0.327136367559433,
          -0.6506784558296204,
          -0.2522818446159363,
          -0.650951087474823,
          -0.37782716751098633,
          -0.5384697914123535,
          -0.641278088092804,
          -0.6315758228302002,
          -0.5635919570922852,
          -0.7770988345146179,
          -0.31520789861679077,
          -0.5806563496589661,
          -0.6015787124633789,
          -0.4783969819545746,
          -0.3403852880001068,
          -0.3059869408607483,
          -0.6150153279304504,
          -0.2673783004283905,
          -0.7284946441650391,
          -0.5465573668479919,
          -0.48866134881973267,
          -0.38859856128692627,
          -0.6637402176856995,
          -0.7114287614822388,
          -0.476743221282959,
          -0.6238234639167786,
          -0.5400001406669617,
          -0.6574432253837585,
          -0.1244293749332428,
          -0.21300622820854187,
          -0.5739440321922302,
          -0.1938887983560562,
          -0.7086379528045654,
          -0.4865455627441406,
          -0.6102275252342224,
          -0.2989993691444397,
          -0.9882431030273438,
          -0.5571644306182861,
          -0.45592156052589417,
          -0.21953091025352478,
          -0.4757924973964691,
          -0.5579604506492615,
          -0.812359094619751,
          -0.2291339784860611,
          -0.49292895197868347,
          -0.7604343891143799,
          -0.678611159324646,
          -0.31269338726997375,
          -0.4705822169780731
         ],
         "yaxis": "y"
        },
        {
         "customdata": [
          [
           68
          ],
          [
           57
          ],
          [
           55
          ],
          [
           59
          ],
          [
           57
          ],
          [
           63
          ],
          [
           63
          ],
          [
           63
          ],
          [
           64
          ],
          [
           59
          ],
          [
           56
          ],
          [
           62
          ],
          [
           59
          ],
          [
           62
          ],
          [
           64
          ],
          [
           61
          ],
          [
           59
          ],
          [
           59
          ],
          [
           56
          ],
          [
           56
          ],
          [
           59
          ],
          [
           59
          ],
          [
           65
          ],
          [
           58
          ],
          [
           59
          ],
          [
           58
          ],
          [
           60
          ],
          [
           61
          ],
          [
           62
          ],
          [
           55
          ],
          [
           59
          ],
          [
           59
          ],
          [
           66
          ],
          [
           61
          ],
          [
           59
          ],
          [
           56
          ],
          [
           64
          ],
          [
           63
          ],
          [
           61
          ],
          [
           61
          ],
          [
           59
          ],
          [
           53
          ],
          [
           66
          ],
          [
           63
          ],
          [
           60
          ],
          [
           61
          ],
          [
           60
          ],
          [
           57
          ],
          [
           59
          ],
          [
           59
          ],
          [
           61
          ],
          [
           58
          ],
          [
           55
          ],
          [
           64
          ],
          [
           60
          ],
          [
           64
          ],
          [
           59
          ],
          [
           63
          ],
          [
           62
          ],
          [
           66
          ],
          [
           65
          ],
          [
           62
          ],
          [
           60
          ],
          [
           62
          ],
          [
           61
          ],
          [
           58
          ],
          [
           57
          ],
          [
           65
          ],
          [
           57
          ],
          [
           58
          ],
          [
           61
          ],
          [
           56
          ],
          [
           62
          ],
          [
           60
          ],
          [
           55
          ],
          [
           57
          ],
          [
           68
          ],
          [
           53
          ],
          [
           59
          ],
          [
           55
          ],
          [
           56
          ],
          [
           60
          ],
          [
           56
          ],
          [
           64
          ],
          [
           60
          ],
          [
           58
          ],
          [
           61
          ],
          [
           55
          ],
          [
           58
          ],
          [
           60
          ],
          [
           61
          ],
          [
           56
          ],
          [
           59
          ],
          [
           56
          ],
          [
           59
          ],
          [
           58
          ],
          [
           67
          ],
          [
           62
          ],
          [
           62
          ],
          [
           63
          ],
          [
           59
          ],
          [
           61
          ],
          [
           58
          ],
          [
           58
          ],
          [
           57
          ],
          [
           58
          ],
          [
           64
          ],
          [
           62
          ],
          [
           66
          ],
          [
           62
          ],
          [
           62
          ],
          [
           58
          ],
          [
           57
          ],
          [
           51
          ],
          [
           57
          ],
          [
           67
          ],
          [
           64
          ],
          [
           61
          ],
          [
           62
          ],
          [
           65
          ],
          [
           61
          ],
          [
           59
          ],
          [
           63
          ],
          [
           61
          ],
          [
           61
          ],
          [
           62
          ],
          [
           56
          ],
          [
           59
          ],
          [
           58
          ],
          [
           56
          ],
          [
           63
          ],
          [
           58
          ],
          [
           61
          ],
          [
           59
          ],
          [
           58
          ],
          [
           62
          ],
          [
           57
          ],
          [
           55
          ],
          [
           53
          ],
          [
           65
          ],
          [
           64
          ],
          [
           58
          ],
          [
           60
          ],
          [
           60
          ],
          [
           58
          ],
          [
           54
          ],
          [
           55
          ]
         ],
         "hovertemplate": "Cluster=Cluster 1<br>PCA1=%{x}<br>PCA2=%{y}<br>Feature=%{customdata[0]}<extra></extra>",
         "legendgroup": "Cluster 1",
         "marker": {
          "color": "#EF553B",
          "opacity": 0.5,
          "symbol": "circle"
         },
         "mode": "markers",
         "name": "Cluster 1",
         "orientation": "v",
         "showlegend": true,
         "textposition": "top center",
         "type": "scatter",
         "x": [
          1.0568373203277588,
          1.215595006942749,
          1.0325024127960205,
          0.8641813397407532,
          1.0939526557922363,
          1.1635187864303589,
          0.6421526074409485,
          0.7882195711135864,
          0.6208908557891846,
          0.9306222796440125,
          1.101986289024353,
          1.0092331171035767,
          1.0641059875488281,
          0.951004683971405,
          0.6937643885612488,
          1.052718997001648,
          1.0846449136734009,
          0.9914131164550781,
          1.1345605850219727,
          1.1675525903701782,
          1.0650488138198853,
          0.9095891714096069,
          0.8864260911941528,
          1.2126113176345825,
          1.1539877653121948,
          1.0010653734207153,
          1.1822543144226074,
          0.9902875423431396,
          0.9848857522010803,
          1.2538896799087524,
          1.1746107339859009,
          0.9375758171081543,
          1.1094489097595215,
          0.8294006586074829,
          1.032959222793579,
          0.8853917717933655,
          1.090286374092102,
          1.2518991231918335,
          1.2436095476150513,
          0.8395092487335205,
          0.6883593797683716,
          1.0419667959213257,
          1.0248693227767944,
          1.2181291580200195,
          0.9482849836349487,
          1.0124249458312988,
          0.9442473649978638,
          0.9912184476852417,
          1.013458013534546,
          0.9568217992782593,
          0.7573962211608887,
          0.7358922362327576,
          1.0062893629074097,
          1.0232688188552856,
          0.922271728515625,
          0.9341970086097717,
          0.6773456931114197,
          1.2439374923706055,
          0.7798243165016174,
          1.0043443441390991,
          0.7031108140945435,
          0.6245306134223938,
          1.4279638528823853,
          1.120656967163086,
          1.0049431324005127,
          1.3178578615188599,
          1.3492748737335205,
          0.9083349704742432,
          1.2652161121368408,
          1.1540913581848145,
          0.959164023399353,
          1.2299423217773438,
          0.9073916673660278,
          0.9795473217964172,
          1.1538677215576172,
          0.9823516011238098,
          0.7767238616943359,
          0.8998479843139648,
          1.026625156402588,
          0.9887658357620239,
          0.9088019132614136,
          1.0739445686340332,
          0.939552903175354,
          1.0582129955291748,
          0.6989739537239075,
          0.9672753810882568,
          0.982173502445221,
          1.0228198766708374,
          0.9474956393241882,
          0.9994643926620483,
          1.2274565696716309,
          1.2503281831741333,
          1.3497737646102905,
          0.8378328680992126,
          1.365194320678711,
          1.04718017578125,
          0.8218817710876465,
          0.9761859178543091,
          0.887917697429657,
          0.89239901304245,
          1.2589595317840576,
          0.751259446144104,
          0.9820770025253296,
          1.1301167011260986,
          1.0401476621627808,
          1.3256549835205078,
          0.9869308471679688,
          1.0287046432495117,
          0.8068161010742188,
          1.093949556350708,
          0.8911787867546082,
          1.3320139646530151,
          0.9852810502052307,
          1.265472412109375,
          1.3939142227172852,
          0.7773605585098267,
          1.1203609704971313,
          0.7066409587860107,
          1.2171404361724854,
          0.7508745789527893,
          1.0354115962982178,
          1.3728644847869873,
          0.9591057300567627,
          1.26096773147583,
          0.9457544684410095,
          0.8211848139762878,
          1.0102049112319946,
          0.9186155796051025,
          1.1490395069122314,
          1.0527868270874023,
          0.8886099457740784,
          1.214221477508545,
          1.0137040615081787,
          0.9069461226463318,
          0.9860264658927917,
          1.2969541549682617,
          1.1995909214019775,
          1.2562507390975952,
          1.3997209072113037,
          0.9516944885253906,
          1.103276014328003,
          1.0155298709869385,
          0.8263250589370728,
          0.8032341599464417,
          1.230225682258606,
          1.233322024345398,
          1.4642192125320435
         ],
         "xaxis": "x",
         "y": [
          -1.2643234729766846,
          -1.0191253423690796,
          -0.7697370648384094,
          -0.7380585670471191,
          -1.0156011581420898,
          -0.9680854678153992,
          -1.2724288702011108,
          -1.0410996675491333,
          -1.1304199695587158,
          -1.011725902557373,
          -0.9869754314422607,
          -1.0805306434631348,
          -1.12699294090271,
          -0.835809588432312,
          -1.2598835229873657,
          -0.9485355615615845,
          -1.1563026905059814,
          -1.440832257270813,
          -1.1799840927124023,
          -0.9604818820953369,
          -1.0933902263641357,
          -0.8602265119552612,
          -1.078749418258667,
          -1.0098544359207153,
          -1.0734202861785889,
          -0.7534595131874084,
          -1.3740864992141724,
          -1.2490394115447998,
          -1.2088817358016968,
          -1.0139495134353638,
          -1.1671384572982788,
          -0.9487748146057129,
          -1.0917834043502808,
          -1.0425485372543335,
          -1.2402780055999756,
          -1.0337142944335938,
          -1.1647441387176514,
          -1.1342542171478271,
          -1.3494255542755127,
          -0.8633735179901123,
          -0.7359246015548706,
          -0.750109851360321,
          -1.3081026077270508,
          -1.3482286930084229,
          -0.9506756067276001,
          -1.1622766256332397,
          -1.0794695615768433,
          -1.108095645904541,
          -0.9748407006263733,
          -1.1169902086257935,
          -0.8793227672576904,
          -0.8287845253944397,
          -1.0463683605194092,
          -1.028780221939087,
          -1.0126495361328125,
          -1.3369234800338745,
          -0.8685885071754456,
          -1.5620118379592896,
          -1.1991711854934692,
          -1.4535892009735107,
          -1.0469549894332886,
          -0.7322400808334351,
          -1.2155611515045166,
          -1.366539716720581,
          -1.1457654237747192,
          -1.313401699066162,
          -1.1564680337905884,
          -1.3328214883804321,
          -1.1189262866973877,
          -0.9271845817565918,
          -1.3133878707885742,
          -0.9501596093177795,
          -1.2562686204910278,
          -1.1771982908248901,
          -0.8741656541824341,
          -1.0944527387619019,
          -1.2348378896713257,
          -0.9621983170509338,
          -1.1780732870101929,
          -0.8756387829780579,
          -0.9748141169548035,
          -1.2867729663848877,
          -0.9203441739082336,
          -1.307365894317627,
          -0.9751191735267639,
          -0.9853945970535278,
          -1.078100562095642,
          -0.9178363680839539,
          -0.981526255607605,
          -1.1297107934951782,
          -1.2162504196166992,
          -0.8104172945022583,
          -1.0592520236968994,
          -1.068664312362671,
          -0.8664235472679138,
          -0.8911158442497253,
          -1.4758126735687256,
          -1.3476738929748535,
          -1.1564115285873413,
          -1.1201399564743042,
          -1.3669655323028564,
          -1.0318050384521484,
          -0.8482697010040283,
          -1.024691104888916,
          -0.868634045124054,
          -1.1730743646621704,
          -1.0329861640930176,
          -1.236023187637329,
          -1.1246750354766846,
          -1.057748556137085,
          -1.0497546195983887,
          -1.0732094049453735,
          -0.9361315965652466,
          -0.9590678215026855,
          -1.096147894859314,
          -1.2275763750076294,
          -0.8866880536079407,
          -0.9139438271522522,
          -1.4083441495895386,
          -1.0374325513839722,
          -1.1229017972946167,
          -1.077729344367981,
          -1.0695427656173706,
          -1.4070544242858887,
          -1.0423702001571655,
          -1.055232048034668,
          -0.5386163592338562,
          -1.0376790761947632,
          -0.9498670101165771,
          -0.7423543930053711,
          -0.7973592281341553,
          -1.0242714881896973,
          -0.988851010799408,
          -0.6531239151954651,
          -0.8977806568145752,
          -1.3339812755584717,
          -0.922444760799408,
          -1.0421851873397827,
          -0.9932634234428406,
          -1.3639553785324097,
          -0.9131554961204529,
          -1.0473850965499878,
          -0.925751805305481,
          -1.1151193380355835,
          -1.3037527799606323,
          -0.9253388047218323,
          -1.2125575542449951
         ],
         "yaxis": "y"
        },
        {
         "customdata": [
          [
           35
          ],
          [
           34
          ],
          [
           37
          ],
          [
           31
          ],
          [
           82
          ],
          [
           30
          ],
          [
           84
          ],
          [
           33
          ],
          [
           37
          ],
          [
           31
          ],
          [
           29
          ],
          [
           90
          ],
          [
           31
          ],
          [
           31
          ],
          [
           36
          ],
          [
           84
          ],
          [
           31
          ],
          [
           86
          ],
          [
           28
          ],
          [
           34
          ],
          [
           31
          ],
          [
           37
          ],
          [
           83
          ],
          [
           29
          ],
          [
           83
          ],
          [
           37
          ],
          [
           29
          ],
          [
           34
          ],
          [
           31
          ],
          [
           31
          ],
          [
           27
          ],
          [
           33
          ],
          [
           93
          ],
          [
           36
          ],
          [
           38
          ],
          [
           35
          ],
          [
           37
          ],
          [
           31
          ],
          [
           35
          ],
          [
           37
          ],
          [
           29
          ],
          [
           24
          ],
          [
           91
          ],
          [
           30
          ],
          [
           33
          ],
          [
           36
          ],
          [
           86
          ],
          [
           34
          ],
          [
           32
          ],
          [
           36
          ],
          [
           33
          ],
          [
           92
          ],
          [
           87
          ],
          [
           29
          ],
          [
           42
          ],
          [
           34
          ],
          [
           33
          ],
          [
           30
          ],
          [
           28
          ],
          [
           31
          ],
          [
           28
          ],
          [
           29
          ],
          [
           36
          ],
          [
           30
          ],
          [
           38
          ],
          [
           34
          ],
          [
           25
          ],
          [
           25
          ],
          [
           86
          ],
          [
           28
          ],
          [
           30
          ],
          [
           30
          ],
          [
           32
          ],
          [
           88
          ],
          [
           31
          ],
          [
           88
          ],
          [
           35
          ],
          [
           33
          ],
          [
           31
          ],
          [
           77
          ],
          [
           32
          ],
          [
           36
          ],
          [
           37
          ],
          [
           36
          ],
          [
           35
          ],
          [
           33
          ],
          [
           35
          ],
          [
           32
          ],
          [
           30
          ],
          [
           31
          ],
          [
           37
          ],
          [
           26
          ],
          [
           29
          ],
          [
           32
          ],
          [
           33
          ],
          [
           39
          ],
          [
           37
          ],
          [
           28
          ],
          [
           85
          ],
          [
           22
          ],
          [
           33
          ],
          [
           31
          ],
          [
           89
          ],
          [
           30
          ],
          [
           36
          ],
          [
           85
          ],
          [
           38
          ],
          [
           36
          ],
          [
           35
          ],
          [
           28
          ],
          [
           39
          ],
          [
           33
          ],
          [
           82
          ],
          [
           31
          ],
          [
           38
          ],
          [
           44
          ],
          [
           31
          ],
          [
           33
          ],
          [
           37
          ],
          [
           84
          ],
          [
           39
          ],
          [
           29
          ],
          [
           40
          ],
          [
           84
          ],
          [
           29
          ],
          [
           90
          ],
          [
           30
          ],
          [
           34
          ],
          [
           34
          ],
          [
           29
          ],
          [
           35
          ],
          [
           34
          ],
          [
           33
          ],
          [
           88
          ],
          [
           29
          ],
          [
           33
          ],
          [
           34
          ],
          [
           35
          ],
          [
           32
          ],
          [
           28
          ],
          [
           30
          ],
          [
           36
          ],
          [
           33
          ],
          [
           35
          ],
          [
           43
          ],
          [
           31
          ],
          [
           83
          ],
          [
           31
          ]
         ],
         "hovertemplate": "Cluster=Cluster 2<br>PCA1=%{x}<br>PCA2=%{y}<br>Feature=%{customdata[0]}<extra></extra>",
         "legendgroup": "Cluster 2",
         "marker": {
          "color": "#00cc96",
          "opacity": 0.5,
          "symbol": "circle"
         },
         "mode": "markers",
         "name": "Cluster 2",
         "orientation": "v",
         "showlegend": true,
         "textposition": "top center",
         "type": "scatter",
         "x": [
          0.034745290875434875,
          0.2674456834793091,
          0.41515183448791504,
          0.4598028361797333,
          -1.024925947189331,
          0.2763001322746277,
          -1.2486134767532349,
          0.06100520119071007,
          -0.09125486016273499,
          0.3541642427444458,
          0.49522024393081665,
          -1.1901658773422241,
          0.5205585360527039,
          0.0064123086631298065,
          0.12309803813695908,
          -1.1702990531921387,
          0.43018460273742676,
          -0.7410851120948792,
          0.47513720393180847,
          0.2563590407371521,
          0.43654242157936096,
          -0.11581707745790482,
          -1.1080242395401,
          0.5985907912254333,
          -1.1786595582962036,
          -0.13077111542224884,
          0.2129262387752533,
          0.16140995919704437,
          0.7506008148193359,
          0.3858226239681244,
          0.3100614547729492,
          0.3388245105743408,
          -1.1579219102859497,
          0.2555555999279022,
          0.36307859420776367,
          0.24390947818756104,
          0.15875837206840515,
          0.1344819813966751,
          0.4216815233230591,
          0.3464336097240448,
          0.274934321641922,
          0.49139684438705444,
          -1.221434235572815,
          0.1308204084634781,
          0.09204544126987457,
          0.3276052176952362,
          -1.170091152191162,
          0.3164287507534027,
          0.07223379611968994,
          0.1876046359539032,
          0.23925931751728058,
          -1.0733085870742798,
          -0.9444330334663391,
          0.21573537588119507,
          0.13234582543373108,
          0.4084344804286957,
          0.27782291173934937,
          0.3109543025493622,
          0.4455886781215668,
          0.2942633032798767,
          0.15784268081188202,
          0.2841992676258087,
          0.08849317580461502,
          0.1286424845457077,
          0.24173495173454285,
          0.4364997446537018,
          0.31545379757881165,
          0.42846250534057617,
          -1.2296802997589111,
          0.13219834864139557,
          0.44542115926742554,
          0.4542049467563629,
          -0.06784244626760483,
          -1.0763026475906372,
          0.046300258487463,
          -1.6095830202102661,
          0.22866249084472656,
          0.39878004789352417,
          0.2655447721481323,
          -0.8147807121276855,
          0.4956592321395874,
          -0.13074485957622528,
          0.20855075120925903,
          0.16834470629692078,
          -0.03554435819387436,
          0.26401060819625854,
          0.11100737750530243,
          0.45026639103889465,
          0.41410788893699646,
          0.35988184809684753,
          0.19141581654548645,
          0.16640542447566986,
          0.5523293614387512,
          0.007388448808342218,
          0.20703797042369843,
          -0.025228042155504227,
          0.33646902441978455,
          0.2594737708568573,
          -1.3794018030166626,
          0.43154284358024597,
          0.22812551259994507,
          0.5155799984931946,
          -1.2739425897598267,
          0.25953859090805054,
          -0.04515283182263374,
          -1.0002167224884033,
          0.298271119594574,
          0.261105477809906,
          0.18010269105434418,
          0.17645226418972015,
          -0.16160398721694946,
          -0.00009904894250212237,
          -0.9462125897407532,
          0.4964604377746582,
          -0.07334507256746292,
          0.23928667604923248,
          0.2643043100833893,
          0.25596851110458374,
          0.1749594509601593,
          -0.8810862302780151,
          0.003503313520923257,
          0.35369348526000977,
          -0.15528540313243866,
          -1.0687053203582764,
          0.40187451243400574,
          -0.929510235786438,
          0.2535122334957123,
          0.3322191536426544,
          -0.20656847953796387,
          0.17131949961185455,
          0.09290685504674911,
          -0.02521636337041855,
          0.445098876953125,
          -1.0172719955444336,
          0.6470509767532349,
          0.3738008737564087,
          0.21500641107559204,
          0.2063881754875183,
          0.354947566986084,
          0.5967770218849182,
          0.5614354610443115,
          -0.008914523757994175,
          0.4183178246021271,
          0.32256191968917847,
          0.18801338970661163,
          0.37390202283859253,
          -0.9341963529586792,
          0.45359423756599426
         ],
         "xaxis": "x",
         "y": [
          1.82809579372406,
          1.6082348823547363,
          1.395732045173645,
          1.6138596534729004,
          1.5509346723556519,
          1.7892379760742188,
          1.318722128868103,
          1.5811725854873657,
          1.7841700315475464,
          1.5589147806167603,
          1.8344030380249023,
          1.3757636547088623,
          1.6564503908157349,
          1.7761720418930054,
          1.6794896125793457,
          1.1960163116455078,
          1.6545538902282715,
          1.2148008346557617,
          1.834152340888977,
          1.3716405630111694,
          1.6293158531188965,
          1.924773931503296,
          1.3703453540802002,
          1.8165713548660278,
          1.4861923456192017,
          1.6136300563812256,
          1.7165263891220093,
          1.6061598062515259,
          1.3334330320358276,
          1.545668125152588,
          1.8547347784042358,
          1.5755540132522583,
          1.3109303712844849,
          1.3775445222854614,
          1.5524080991744995,
          1.8551948070526123,
          1.6985224485397339,
          1.7110451459884644,
          1.617698311805725,
          1.4233087301254272,
          1.8754502534866333,
          1.8912428617477417,
          1.2375339269638062,
          1.9396824836730957,
          1.9550760984420776,
          1.536895751953125,
          1.2689675092697144,
          1.119591236114502,
          1.8845139741897583,
          1.4525078535079956,
          1.6941477060317993,
          1.1632542610168457,
          1.0598944425582886,
          1.491605520248413,
          1.4206695556640625,
          1.5913058519363403,
          1.6049009561538696,
          1.781351923942566,
          1.490601897239685,
          1.6518369913101196,
          1.6062839031219482,
          1.6687731742858887,
          1.7204986810684204,
          1.7719500064849854,
          1.36767578125,
          1.394522786140442,
          1.7731486558914185,
          1.746292233467102,
          1.5735732316970825,
          1.803698182106018,
          1.5624691247940063,
          1.413029670715332,
          1.812156319618225,
          1.2491875886917114,
          1.8653178215026855,
          1.525270938873291,
          1.7038415670394897,
          1.7847251892089844,
          1.9654927253723145,
          1.6540621519088745,
          1.7646809816360474,
          1.695816159248352,
          1.6118981838226318,
          1.621706247329712,
          1.860313892364502,
          1.2718104124069214,
          1.6052024364471436,
          1.6361145973205566,
          1.6980843544006348,
          1.4213550090789795,
          1.2901577949523926,
          1.7525593042373657,
          1.6914359331130981,
          1.6253271102905273,
          1.542988657951355,
          1.4525673389434814,
          1.5419903993606567,
          1.6029212474822998,
          1.3692110776901245,
          1.9579542875289917,
          1.7110388278961182,
          1.7337416410446167,
          1.3178764581680298,
          1.4431499242782593,
          1.5669820308685303,
          1.1911832094192505,
          1.652296543121338,
          1.5115965604782104,
          1.5744612216949463,
          1.7313103675842285,
          1.6345844268798828,
          1.726157546043396,
          1.3926711082458496,
          1.6344012022018433,
          1.3735876083374023,
          1.4767861366271973,
          1.712876796722412,
          1.342207431793213,
          1.5941780805587769,
          1.2797811031341553,
          1.4218940734863281,
          1.5877944231033325,
          1.5396372079849243,
          1.2436782121658325,
          1.6375476121902466,
          0.9785557389259338,
          1.4682281017303467,
          1.8927457332611084,
          1.8487094640731812,
          1.6682296991348267,
          1.662052869796753,
          1.7623441219329834,
          1.7281439304351807,
          1.3040180206298828,
          1.5507903099060059,
          1.5793726444244385,
          1.6100971698760986,
          1.5923248529434204,
          1.6074762344360352,
          1.5919432640075684,
          1.5583277940750122,
          1.5011701583862305,
          1.3294154405593872,
          1.3768501281738281,
          1.1717889308929443,
          1.6280356645584106,
          1.1677097082138062,
          1.7034436464309692
         ],
         "yaxis": "y"
        },
        {
         "customdata": [
          [
           26
          ],
          [
           26
          ],
          [
           26
          ],
          [
           25
          ],
          [
           20
          ],
          [
           24
          ],
          [
           24
          ],
          [
           29
          ],
          [
           31
          ],
          [
           23
          ],
          [
           26
          ],
          [
           22
          ],
          [
           28
          ],
          [
           28
          ],
          [
           28
          ],
          [
           17
          ],
          [
           25
          ],
          [
           21
          ],
          [
           25
          ],
          [
           18
          ],
          [
           24
          ],
          [
           24
          ],
          [
           25
          ],
          [
           29
          ],
          [
           21
          ],
          [
           20
          ],
          [
           27
          ],
          [
           27
          ],
          [
           28
          ],
          [
           17
          ],
          [
           23
          ],
          [
           23
          ],
          [
           26
          ],
          [
           18
          ],
          [
           22
          ],
          [
           24
          ],
          [
           30
          ],
          [
           20
          ],
          [
           25
          ],
          [
           17
          ],
          [
           22
          ],
          [
           28
          ],
          [
           24
          ],
          [
           28
          ]
         ],
         "hovertemplate": "Cluster=Cluster 3<br>PCA1=%{x}<br>PCA2=%{y}<br>Feature=%{customdata[0]}<extra></extra>",
         "legendgroup": "Cluster 3",
         "marker": {
          "color": "#ab63fa",
          "opacity": 0.5,
          "symbol": "circle"
         },
         "mode": "markers",
         "name": "Cluster 3",
         "orientation": "v",
         "showlegend": true,
         "textposition": "top center",
         "type": "scatter",
         "x": [
          2.9927968978881836,
          2.8055927753448486,
          3.071188449859619,
          2.922471046447754,
          3.0671448707580566,
          3.384925603866577,
          3.152090072631836,
          3.0633795261383057,
          2.9348509311676025,
          3.043208599090576,
          2.7020413875579834,
          3.0253825187683105,
          2.7721619606018066,
          2.657731771469116,
          3.243189811706543,
          3.3653926849365234,
          3.0406839847564697,
          3.06758189201355,
          2.788961410522461,
          3.063349485397339,
          3.074045419692993,
          3.1776256561279297,
          3.363233804702759,
          3.0472898483276367,
          3.18037748336792,
          3.0115551948547363,
          3.1867825984954834,
          2.9246764183044434,
          3.1581485271453857,
          3.2946085929870605,
          3.076845407485962,
          3.3374078273773193,
          3.0787246227264404,
          2.9058330059051514,
          3.2758989334106445,
          3.0162174701690674,
          2.6268763542175293,
          2.954387903213501,
          3.109752893447876,
          3.2519102096557617,
          3.00002384185791,
          3.1063692569732666,
          3.125420093536377,
          2.671372175216675
         ],
         "xaxis": "x",
         "y": [
          0.053329724818468094,
          0.006455530878156424,
          -0.30210551619529724,
          0.1330290138721466,
          0.10646321624517441,
          -0.04449471831321716,
          0.0259808711707592,
          0.10705459117889404,
          -0.3094322085380554,
          0.07921658456325531,
          0.1995842307806015,
          -0.20022577047348022,
          0.045161616057157516,
          -0.013649201951920986,
          -0.41629359126091003,
          0.16048969328403473,
          -0.016645969823002815,
          0.003494957694783807,
          0.20798452198505402,
          0.24887092411518097,
          0.018592925742268562,
          -0.14580029249191284,
          -0.08095147460699081,
          -0.346242755651474,
          -0.016153009608387947,
          0.008611544966697693,
          -0.3562124967575073,
          -0.18152765929698944,
          -0.24834831058979034,
          0.20215989649295807,
          -0.026853304356336594,
          0.03490401431918144,
          -0.13957622647285461,
          0.25039005279541016,
          0.0022474101278930902,
          0.07595530152320862,
          -0.03278548642992973,
          0.22146379947662354,
          -0.0459117665886879,
          -0.07030528783798218,
          0.2556617856025696,
          -0.39508774876594543,
          0.09223616123199463,
          -0.12712319195270538
         ],
         "yaxis": "y"
        }
       ],
       "layout": {
        "height": 600,
        "legend": {
         "title": {
          "text": "Cluster"
         },
         "tracegroupgap": 0
        },
        "margin": {
         "t": 60
        },
        "plot_bgcolor": "rgb(240,240,240)",
        "template": {
         "data": {
          "bar": [
           {
            "error_x": {
             "color": "#2a3f5f"
            },
            "error_y": {
             "color": "#2a3f5f"
            },
            "marker": {
             "line": {
              "color": "#E5ECF6",
              "width": 0.5
             },
             "pattern": {
              "fillmode": "overlay",
              "size": 10,
              "solidity": 0.2
             }
            },
            "type": "bar"
           }
          ],
          "barpolar": [
           {
            "marker": {
             "line": {
              "color": "#E5ECF6",
              "width": 0.5
             },
             "pattern": {
              "fillmode": "overlay",
              "size": 10,
              "solidity": 0.2
             }
            },
            "type": "barpolar"
           }
          ],
          "carpet": [
           {
            "aaxis": {
             "endlinecolor": "#2a3f5f",
             "gridcolor": "white",
             "linecolor": "white",
             "minorgridcolor": "white",
             "startlinecolor": "#2a3f5f"
            },
            "baxis": {
             "endlinecolor": "#2a3f5f",
             "gridcolor": "white",
             "linecolor": "white",
             "minorgridcolor": "white",
             "startlinecolor": "#2a3f5f"
            },
            "type": "carpet"
           }
          ],
          "choropleth": [
           {
            "colorbar": {
             "outlinewidth": 0,
             "ticks": ""
            },
            "type": "choropleth"
           }
          ],
          "contour": [
           {
            "colorbar": {
             "outlinewidth": 0,
             "ticks": ""
            },
            "colorscale": [
             [
              0,
              "#0d0887"
             ],
             [
              0.1111111111111111,
              "#46039f"
             ],
             [
              0.2222222222222222,
              "#7201a8"
             ],
             [
              0.3333333333333333,
              "#9c179e"
             ],
             [
              0.4444444444444444,
              "#bd3786"
             ],
             [
              0.5555555555555556,
              "#d8576b"
             ],
             [
              0.6666666666666666,
              "#ed7953"
             ],
             [
              0.7777777777777778,
              "#fb9f3a"
             ],
             [
              0.8888888888888888,
              "#fdca26"
             ],
             [
              1,
              "#f0f921"
             ]
            ],
            "type": "contour"
           }
          ],
          "contourcarpet": [
           {
            "colorbar": {
             "outlinewidth": 0,
             "ticks": ""
            },
            "type": "contourcarpet"
           }
          ],
          "heatmap": [
           {
            "colorbar": {
             "outlinewidth": 0,
             "ticks": ""
            },
            "colorscale": [
             [
              0,
              "#0d0887"
             ],
             [
              0.1111111111111111,
              "#46039f"
             ],
             [
              0.2222222222222222,
              "#7201a8"
             ],
             [
              0.3333333333333333,
              "#9c179e"
             ],
             [
              0.4444444444444444,
              "#bd3786"
             ],
             [
              0.5555555555555556,
              "#d8576b"
             ],
             [
              0.6666666666666666,
              "#ed7953"
             ],
             [
              0.7777777777777778,
              "#fb9f3a"
             ],
             [
              0.8888888888888888,
              "#fdca26"
             ],
             [
              1,
              "#f0f921"
             ]
            ],
            "type": "heatmap"
           }
          ],
          "heatmapgl": [
           {
            "colorbar": {
             "outlinewidth": 0,
             "ticks": ""
            },
            "colorscale": [
             [
              0,
              "#0d0887"
             ],
             [
              0.1111111111111111,
              "#46039f"
             ],
             [
              0.2222222222222222,
              "#7201a8"
             ],
             [
              0.3333333333333333,
              "#9c179e"
             ],
             [
              0.4444444444444444,
              "#bd3786"
             ],
             [
              0.5555555555555556,
              "#d8576b"
             ],
             [
              0.6666666666666666,
              "#ed7953"
             ],
             [
              0.7777777777777778,
              "#fb9f3a"
             ],
             [
              0.8888888888888888,
              "#fdca26"
             ],
             [
              1,
              "#f0f921"
             ]
            ],
            "type": "heatmapgl"
           }
          ],
          "histogram": [
           {
            "marker": {
             "pattern": {
              "fillmode": "overlay",
              "size": 10,
              "solidity": 0.2
             }
            },
            "type": "histogram"
           }
          ],
          "histogram2d": [
           {
            "colorbar": {
             "outlinewidth": 0,
             "ticks": ""
            },
            "colorscale": [
             [
              0,
              "#0d0887"
             ],
             [
              0.1111111111111111,
              "#46039f"
             ],
             [
              0.2222222222222222,
              "#7201a8"
             ],
             [
              0.3333333333333333,
              "#9c179e"
             ],
             [
              0.4444444444444444,
              "#bd3786"
             ],
             [
              0.5555555555555556,
              "#d8576b"
             ],
             [
              0.6666666666666666,
              "#ed7953"
             ],
             [
              0.7777777777777778,
              "#fb9f3a"
             ],
             [
              0.8888888888888888,
              "#fdca26"
             ],
             [
              1,
              "#f0f921"
             ]
            ],
            "type": "histogram2d"
           }
          ],
          "histogram2dcontour": [
           {
            "colorbar": {
             "outlinewidth": 0,
             "ticks": ""
            },
            "colorscale": [
             [
              0,
              "#0d0887"
             ],
             [
              0.1111111111111111,
              "#46039f"
             ],
             [
              0.2222222222222222,
              "#7201a8"
             ],
             [
              0.3333333333333333,
              "#9c179e"
             ],
             [
              0.4444444444444444,
              "#bd3786"
             ],
             [
              0.5555555555555556,
              "#d8576b"
             ],
             [
              0.6666666666666666,
              "#ed7953"
             ],
             [
              0.7777777777777778,
              "#fb9f3a"
             ],
             [
              0.8888888888888888,
              "#fdca26"
             ],
             [
              1,
              "#f0f921"
             ]
            ],
            "type": "histogram2dcontour"
           }
          ],
          "mesh3d": [
           {
            "colorbar": {
             "outlinewidth": 0,
             "ticks": ""
            },
            "type": "mesh3d"
           }
          ],
          "parcoords": [
           {
            "line": {
             "colorbar": {
              "outlinewidth": 0,
              "ticks": ""
             }
            },
            "type": "parcoords"
           }
          ],
          "pie": [
           {
            "automargin": true,
            "type": "pie"
           }
          ],
          "scatter": [
           {
            "marker": {
             "colorbar": {
              "outlinewidth": 0,
              "ticks": ""
             }
            },
            "type": "scatter"
           }
          ],
          "scatter3d": [
           {
            "line": {
             "colorbar": {
              "outlinewidth": 0,
              "ticks": ""
             }
            },
            "marker": {
             "colorbar": {
              "outlinewidth": 0,
              "ticks": ""
             }
            },
            "type": "scatter3d"
           }
          ],
          "scattercarpet": [
           {
            "marker": {
             "colorbar": {
              "outlinewidth": 0,
              "ticks": ""
             }
            },
            "type": "scattercarpet"
           }
          ],
          "scattergeo": [
           {
            "marker": {
             "colorbar": {
              "outlinewidth": 0,
              "ticks": ""
             }
            },
            "type": "scattergeo"
           }
          ],
          "scattergl": [
           {
            "marker": {
             "colorbar": {
              "outlinewidth": 0,
              "ticks": ""
             }
            },
            "type": "scattergl"
           }
          ],
          "scattermapbox": [
           {
            "marker": {
             "colorbar": {
              "outlinewidth": 0,
              "ticks": ""
             }
            },
            "type": "scattermapbox"
           }
          ],
          "scatterpolar": [
           {
            "marker": {
             "colorbar": {
              "outlinewidth": 0,
              "ticks": ""
             }
            },
            "type": "scatterpolar"
           }
          ],
          "scatterpolargl": [
           {
            "marker": {
             "colorbar": {
              "outlinewidth": 0,
              "ticks": ""
             }
            },
            "type": "scatterpolargl"
           }
          ],
          "scatterternary": [
           {
            "marker": {
             "colorbar": {
              "outlinewidth": 0,
              "ticks": ""
             }
            },
            "type": "scatterternary"
           }
          ],
          "surface": [
           {
            "colorbar": {
             "outlinewidth": 0,
             "ticks": ""
            },
            "colorscale": [
             [
              0,
              "#0d0887"
             ],
             [
              0.1111111111111111,
              "#46039f"
             ],
             [
              0.2222222222222222,
              "#7201a8"
             ],
             [
              0.3333333333333333,
              "#9c179e"
             ],
             [
              0.4444444444444444,
              "#bd3786"
             ],
             [
              0.5555555555555556,
              "#d8576b"
             ],
             [
              0.6666666666666666,
              "#ed7953"
             ],
             [
              0.7777777777777778,
              "#fb9f3a"
             ],
             [
              0.8888888888888888,
              "#fdca26"
             ],
             [
              1,
              "#f0f921"
             ]
            ],
            "type": "surface"
           }
          ],
          "table": [
           {
            "cells": {
             "fill": {
              "color": "#EBF0F8"
             },
             "line": {
              "color": "white"
             }
            },
            "header": {
             "fill": {
              "color": "#C8D4E3"
             },
             "line": {
              "color": "white"
             }
            },
            "type": "table"
           }
          ]
         },
         "layout": {
          "annotationdefaults": {
           "arrowcolor": "#2a3f5f",
           "arrowhead": 0,
           "arrowwidth": 1
          },
          "autotypenumbers": "strict",
          "coloraxis": {
           "colorbar": {
            "outlinewidth": 0,
            "ticks": ""
           }
          },
          "colorscale": {
           "diverging": [
            [
             0,
             "#8e0152"
            ],
            [
             0.1,
             "#c51b7d"
            ],
            [
             0.2,
             "#de77ae"
            ],
            [
             0.3,
             "#f1b6da"
            ],
            [
             0.4,
             "#fde0ef"
            ],
            [
             0.5,
             "#f7f7f7"
            ],
            [
             0.6,
             "#e6f5d0"
            ],
            [
             0.7,
             "#b8e186"
            ],
            [
             0.8,
             "#7fbc41"
            ],
            [
             0.9,
             "#4d9221"
            ],
            [
             1,
             "#276419"
            ]
           ],
           "sequential": [
            [
             0,
             "#0d0887"
            ],
            [
             0.1111111111111111,
             "#46039f"
            ],
            [
             0.2222222222222222,
             "#7201a8"
            ],
            [
             0.3333333333333333,
             "#9c179e"
            ],
            [
             0.4444444444444444,
             "#bd3786"
            ],
            [
             0.5555555555555556,
             "#d8576b"
            ],
            [
             0.6666666666666666,
             "#ed7953"
            ],
            [
             0.7777777777777778,
             "#fb9f3a"
            ],
            [
             0.8888888888888888,
             "#fdca26"
            ],
            [
             1,
             "#f0f921"
            ]
           ],
           "sequentialminus": [
            [
             0,
             "#0d0887"
            ],
            [
             0.1111111111111111,
             "#46039f"
            ],
            [
             0.2222222222222222,
             "#7201a8"
            ],
            [
             0.3333333333333333,
             "#9c179e"
            ],
            [
             0.4444444444444444,
             "#bd3786"
            ],
            [
             0.5555555555555556,
             "#d8576b"
            ],
            [
             0.6666666666666666,
             "#ed7953"
            ],
            [
             0.7777777777777778,
             "#fb9f3a"
            ],
            [
             0.8888888888888888,
             "#fdca26"
            ],
            [
             1,
             "#f0f921"
            ]
           ]
          },
          "colorway": [
           "#636efa",
           "#EF553B",
           "#00cc96",
           "#ab63fa",
           "#FFA15A",
           "#19d3f3",
           "#FF6692",
           "#B6E880",
           "#FF97FF",
           "#FECB52"
          ],
          "font": {
           "color": "#2a3f5f"
          },
          "geo": {
           "bgcolor": "white",
           "lakecolor": "white",
           "landcolor": "#E5ECF6",
           "showlakes": true,
           "showland": true,
           "subunitcolor": "white"
          },
          "hoverlabel": {
           "align": "left"
          },
          "hovermode": "closest",
          "mapbox": {
           "style": "light"
          },
          "paper_bgcolor": "white",
          "plot_bgcolor": "#E5ECF6",
          "polar": {
           "angularaxis": {
            "gridcolor": "white",
            "linecolor": "white",
            "ticks": ""
           },
           "bgcolor": "#E5ECF6",
           "radialaxis": {
            "gridcolor": "white",
            "linecolor": "white",
            "ticks": ""
           }
          },
          "scene": {
           "xaxis": {
            "backgroundcolor": "#E5ECF6",
            "gridcolor": "white",
            "gridwidth": 2,
            "linecolor": "white",
            "showbackground": true,
            "ticks": "",
            "zerolinecolor": "white"
           },
           "yaxis": {
            "backgroundcolor": "#E5ECF6",
            "gridcolor": "white",
            "gridwidth": 2,
            "linecolor": "white",
            "showbackground": true,
            "ticks": "",
            "zerolinecolor": "white"
           },
           "zaxis": {
            "backgroundcolor": "#E5ECF6",
            "gridcolor": "white",
            "gridwidth": 2,
            "linecolor": "white",
            "showbackground": true,
            "ticks": "",
            "zerolinecolor": "white"
           }
          },
          "shapedefaults": {
           "line": {
            "color": "#2a3f5f"
           }
          },
          "ternary": {
           "aaxis": {
            "gridcolor": "white",
            "linecolor": "white",
            "ticks": ""
           },
           "baxis": {
            "gridcolor": "white",
            "linecolor": "white",
            "ticks": ""
           },
           "bgcolor": "#E5ECF6",
           "caxis": {
            "gridcolor": "white",
            "linecolor": "white",
            "ticks": ""
           }
          },
          "title": {
           "x": 0.05
          },
          "xaxis": {
           "automargin": true,
           "gridcolor": "white",
           "linecolor": "white",
           "ticks": "",
           "title": {
            "standoff": 15
           },
           "zerolinecolor": "white",
           "zerolinewidth": 2
          },
          "yaxis": {
           "automargin": true,
           "gridcolor": "white",
           "linecolor": "white",
           "ticks": "",
           "title": {
            "standoff": 15
           },
           "zerolinecolor": "white",
           "zerolinewidth": 2
          }
         }
        },
        "title": {
         "text": "2D Cluster PCA Plot"
        },
        "xaxis": {
         "anchor": "y",
         "domain": [
          0,
          1
         ],
         "title": {
          "text": "PCA1"
         }
        },
        "yaxis": {
         "anchor": "x",
         "domain": [
          0,
          1
         ],
         "title": {
          "text": "PCA2"
         }
        }
       }
      }
     },
     "metadata": {},
     "output_type": "display_data"
    }
   ],
   "source": [
    "plot_model(kmeans)"
   ]
  },
  {
   "cell_type": "code",
   "execution_count": 10,
   "metadata": {},
   "outputs": [
    {
     "data": {
      "image/png": "[encoded data removed]",
      "text/plain": [
       "<Figure size 576x396 with 1 Axes>"
      ]
     },
     "metadata": {},
     "output_type": "display_data"
    }
   ],
   "source": [
    "plot_model(kmeans, plot = 'elbow')"
   ]
  },
  {
   "cell_type": "code",
   "execution_count": 11,
   "metadata": {},
   "outputs": [
    {
     "data": {
      "image/png": "[encoded data removed]",
      "text/plain": [
       "<Figure size 576x396 with 1 Axes>"
      ]
     },
     "metadata": {},
     "output_type": "display_data"
    }
   ],
   "source": [
    "plot_model(kmeans, plot = 'silhouette')"
   ]
  },
  {
   "cell_type": "code",
   "execution_count": 12,
   "metadata": {},
   "outputs": [
    {
     "data": {
      "application/vnd.plotly.v1+json": {
       "config": {
        "plotlyServerURL": "https://plot.ly"
       },
       "data": [
        {
         "alignmentgroup": "True",
         "bingroup": "x",
         "hovertemplate": "Cluster=%{x}<br>count=%{y}<extra></extra>",
         "legendgroup": "Cluster 0",
         "marker": {
          "color": "#636efa",
          "opacity": 0.7,
          "pattern": {
           "shape": ""
          }
         },
         "name": "Cluster 0",
         "offsetgroup": "Cluster 0",
         "orientation": "v",
         "showlegend": true,
         "type": "histogram",
         "x": [
          "Cluster 0",
          "Cluster 0",
          "Cluster 0",
          "Cluster 0",
          "Cluster 0",
          "Cluster 0",
          "Cluster 0",
          "Cluster 0",
          "Cluster 0",
          "Cluster 0",
          "Cluster 0",
          "Cluster 0",
          "Cluster 0",
          "Cluster 0",
          "Cluster 0",
          "Cluster 0",
          "Cluster 0",
          "Cluster 0",
          "Cluster 0",
          "Cluster 0",
          "Cluster 0",
          "Cluster 0",
          "Cluster 0",
          "Cluster 0",
          "Cluster 0",
          "Cluster 0",
          "Cluster 0",
          "Cluster 0",
          "Cluster 0",
          "Cluster 0",
          "Cluster 0",
          "Cluster 0",
          "Cluster 0",
          "Cluster 0",
          "Cluster 0",
          "Cluster 0",
          "Cluster 0",
          "Cluster 0",
          "Cluster 0",
          "Cluster 0",
          "Cluster 0",
          "Cluster 0",
          "Cluster 0",
          "Cluster 0",
          "Cluster 0",
          "Cluster 0",
          "Cluster 0",
          "Cluster 0",
          "Cluster 0",
          "Cluster 0",
          "Cluster 0",
          "Cluster 0",
          "Cluster 0",
          "Cluster 0",
          "Cluster 0",
          "Cluster 0",
          "Cluster 0",
          "Cluster 0",
          "Cluster 0",
          "Cluster 0",
          "Cluster 0",
          "Cluster 0",
          "Cluster 0",
          "Cluster 0",
          "Cluster 0",
          "Cluster 0",
          "Cluster 0",
          "Cluster 0",
          "Cluster 0",
          "Cluster 0",
          "Cluster 0",
          "Cluster 0",
          "Cluster 0",
          "Cluster 0",
          "Cluster 0",
          "Cluster 0",
          "Cluster 0",
          "Cluster 0",
          "Cluster 0",
          "Cluster 0",
          "Cluster 0",
          "Cluster 0",
          "Cluster 0",
          "Cluster 0",
          "Cluster 0",
          "Cluster 0",
          "Cluster 0",
          "Cluster 0",
          "Cluster 0",
          "Cluster 0",
          "Cluster 0",
          "Cluster 0",
          "Cluster 0",
          "Cluster 0",
          "Cluster 0",
          "Cluster 0",
          "Cluster 0",
          "Cluster 0",
          "Cluster 0",
          "Cluster 0",
          "Cluster 0",
          "Cluster 0",
          "Cluster 0",
          "Cluster 0",
          "Cluster 0",
          "Cluster 0",
          "Cluster 0",
          "Cluster 0",
          "Cluster 0",
          "Cluster 0",
          "Cluster 0",
          "Cluster 0",
          "Cluster 0",
          "Cluster 0",
          "Cluster 0",
          "Cluster 0",
          "Cluster 0",
          "Cluster 0",
          "Cluster 0",
          "Cluster 0",
          "Cluster 0",
          "Cluster 0",
          "Cluster 0",
          "Cluster 0",
          "Cluster 0",
          "Cluster 0",
          "Cluster 0",
          "Cluster 0",
          "Cluster 0",
          "Cluster 0",
          "Cluster 0",
          "Cluster 0",
          "Cluster 0",
          "Cluster 0",
          "Cluster 0",
          "Cluster 0",
          "Cluster 0",
          "Cluster 0",
          "Cluster 0",
          "Cluster 0",
          "Cluster 0"
         ],
         "xaxis": "x",
         "yaxis": "y"
        },
        {
         "alignmentgroup": "True",
         "customdata": [
          [
           87,
           24578,
           0.3761654587506353,
           17789.247521813828
          ],
          [
           82,
           33636,
           0.3717829785401914,
           17866.83359752812
          ],
          [
           84,
           27693,
           0.3670629731870412,
           17879.558905551898
          ],
          [
           82,
           32494,
           0.3273154026360584,
           16799.44426666245
          ],
          [
           93,
           20440,
           0.2975730342292497,
           17406.074017844054
          ],
          [
           87,
           30178,
           0.2793159778940049,
           16123.070750832
          ],
          [
           91,
           26424,
           0.3193886529047028,
           16501.46877669979
          ],
          [
           84,
           30481,
           0.3970228936031003,
           16837.205964813103
          ],
          [
           89,
           25252,
           0.3217652209320886,
           16539.364186086335
          ],
          [
           94,
           27169,
           0.3141730453838618,
           15061.77621514237
          ],
          [
           86,
           28779,
           0.336523330181688,
           16047.268331461928
          ],
          [
           94,
           23854,
           0.3144466826182581,
           16828.410118749016
          ],
          [
           86,
           36031,
           0.2401766350783482,
           16945.326244896307
          ],
          [
           88,
           22602,
           0.3567448288797468,
           16740.343496726702
          ],
          [
           87,
           17760,
           0.3487775484305074,
           16869.507130301474
          ],
          [
           85,
           28408,
           0.3580738593579665,
           15063.335797441836
          ],
          [
           92,
           35484,
           0.3970636039704499,
           17324.045112814925
          ],
          [
           85,
           29204,
           0.3254914498834959,
           16918.90346036913
          ],
          [
           90,
           33188,
           0.2488100687902313,
           15866.913937696345
          ],
          [
           84,
           27179,
           0.3474234168306904,
           15612.6285477669
          ],
          [
           90,
           37503,
           0.3577883144645876,
           17258.57497274541
          ],
          [
           90,
           29029,
           0.303758971334624,
           15592.991530526488
          ],
          [
           86,
           18812,
           0.3415457603870515,
           16157.734142403424
          ],
          [
           82,
           33610,
           0.3012532342412973,
           17755.664940228176
          ],
          [
           86,
           35998,
           0.3216356471662456,
           20000
          ],
          [
           88,
           32708,
           0.3682153159958089,
           16711.0679804242
          ],
          [
           88,
           17851,
           0.2898659849627828,
           17472.470686173863
          ],
          [
           82,
           24221,
           0.4735496605323542,
           16251.75944521267
          ],
          [
           83,
           26882,
           0.347979632373841,
           17775.22817123954
          ],
          [
           84,
           27384,
           0.3136467169954889,
           16734.672754073246
          ],
          [
           83,
           18162,
           0.3013734548863508,
           16029.46921391427
          ],
          [
           88,
           28802,
           0.4083878319987072,
           16293.038332542192
          ],
          [
           85,
           26355,
           0.3423406666949811,
           17971.19363998381
          ],
          [
           89,
           31096,
           0.2785878455435617,
           17736.94259966666
          ],
          [
           92,
           36032,
           0.3369683066109672,
           17348.5998812573
          ],
          [
           92,
           35877,
           0.3668917159124752,
           17287.907016982324
          ],
          [
           84,
           22286,
           0.3955062459001081,
           17886.53737311577
          ],
          [
           88,
           33303,
           0.3997156855452149,
           15232.598068845287
          ],
          [
           86,
           23400,
           0.2780355384470266,
           15215.28126373834
          ],
          [
           86,
           15695,
           0.2571749664748936,
           17366.186263516567
          ],
          [
           91,
           12038,
           0.3498032558856572,
           16464.960504438823
          ],
          [
           88,
           28409,
           0.3056535336752106,
           17326.175608364214
          ],
          [
           92,
           18724,
           0.3278623148176303,
           15341.381109594677
          ],
          [
           83,
           28497,
           0.3938023931664612,
           15510.112981164848
          ],
          [
           83,
           33170,
           0.2410777442746463,
           16620.010473689304
          ],
          [
           88,
           35051,
           0.3860515062876168,
           17593.24679258195
          ],
          [
           79,
           38201,
           0.3697828881534748,
           16393.395697309446
          ],
          [
           85,
           29610,
           0.3181352453742131,
           18475.487468080937
          ],
          [
           92,
           33550,
           0.3685156285793065,
           17106.32591058189
          ],
          [
           84,
           18244,
           0.2926633744644019,
           17815.348406878897
          ],
          [
           87,
           29909,
           0.3421516318130468,
           18142.232746738577
          ],
          [
           89,
           20292,
           0.3121481952107594,
           16023.4456584523
          ],
          [
           94,
           27771,
           0.3025032231546656,
           17303.957194969433
          ],
          [
           83,
           34529,
           0.3172075114569807,
           16517.208746949746
          ],
          [
           90,
           35297,
           0.3551490190566364,
           16091.401954058958
          ],
          [
           87,
           15671,
           0.3507250914944152,
           14326.601120246103
          ],
          [
           87,
           30812,
           0.3144631516753479,
           15238.118997598336
          ],
          [
           88,
           28585,
           0.3977396663840212,
           16725.841854363774
          ],
          [
           87,
           26665,
           0.4021456613889217,
           17376.914743318182
          ],
          [
           94,
           28352,
           0.3768757353168557,
           16798.886114738052
          ],
          [
           90,
           30178,
           0.2823512821567113,
           16182.8384364088
          ],
          [
           86,
           31994,
           0.2494769403551006,
           18210.088099070614
          ],
          [
           92,
           32915,
           0.3885749195868542,
           16694.706839244012
          ],
          [
           91,
           30756,
           0.3036980300982536,
           15492.004711465304
          ],
          [
           95,
           27038,
           0.3313520070109343,
           18126.577451151075
          ],
          [
           85,
           21250,
           0.3104101151420251,
           16033.971166673777
          ],
          [
           88,
           27169,
           0.2800595048614143,
           15260.635546195435
          ],
          [
           90,
           22288,
           0.2713268321051207,
           18434.099152391347
          ],
          [
           79,
           32421,
           0.3032762059432743,
           15319.46766227239
          ],
          [
           88,
           19510,
           0.3167510258154691,
           16529.20080632274
          ],
          [
           91,
           36991,
           0.2685979050949867,
           19047.77233878285
          ],
          [
           84,
           24105,
           0.2718090229374729,
           16524.902538052145
          ],
          [
           89,
           24520,
           0.4438327068456706,
           13556.9358834699
          ],
          [
           87,
           23322,
           0.3068211973464496,
           16131.267659393412
          ],
          [
           83,
           34384,
           0.3247186821733416,
           14783.3790857945
          ],
          [
           87,
           30102,
           0.3903905943444749,
           16330.081190027213
          ],
          [
           94,
           18937,
           0.3470950600753079,
           17739.776098377628
          ],
          [
           91,
           25886,
           0.3017537675837046,
           17266.045729118025
          ],
          [
           91,
           16950,
           0.32300404344763,
           17172.609400509067
          ],
          [
           90,
           24376,
           0.2812794569155435,
           15134.994226396466
          ],
          [
           89,
           28160,
           0.3388488510290433,
           15607.061781887898
          ],
          [
           90,
           33490,
           0.4199085281737912,
           17091.904228934392
          ],
          [
           86,
           27705,
           0.3293769514872405,
           17130.85610211788
          ],
          [
           85,
           34802,
           0.2987969233586417,
           16450.003270402787
          ],
          [
           88,
           33251,
           0.3043913649608802,
           18868.24161249696
          ],
          [
           97,
           27271,
           0.283922895270403,
           14928.165597390327
          ],
          [
           89,
           34524,
           0.348118273264174,
           14051.256515312789
          ],
          [
           90,
           22782,
           0.3563068710287742,
           15924.071707885843
          ],
          [
           89,
           19202,
           0.3819877440174351,
           16626.222361477227
          ],
          [
           84,
           29492,
           0.3336031402694437,
           17954.09505703969
          ],
          [
           94,
           38923,
           0.3302260180973432,
           16971.181554867213
          ],
          [
           85,
           28401,
           0.3694371368158696,
           15990.49413056604
          ],
          [
           82,
           24391,
           0.276101346355296,
           17053.03010738692
          ],
          [
           85,
           27599,
           0.2819950483303406,
           13470.970605037028
          ],
          [
           83,
           28727,
           0.3082630418510537,
           18205.33626089001
          ],
          [
           87,
           25566,
           0.3167603729756968,
           15188.058749407255
          ],
          [
           93,
           19934,
           0.2031402397953781,
           17969.693768505334
          ],
          [
           89,
           33311,
           0.376146968508639,
           17093.06995548225
          ],
          [
           88,
           31366,
           0.3796208481334848,
           16079.622699815933
          ],
          [
           92,
           22616,
           0.3228506824321553,
           17275.661313984565
          ],
          [
           91,
           30148,
           0.2773889467565771,
           15324.287405101715
          ],
          [
           89,
           22008,
           0.3819060693389532,
           16458.398097731257
          ],
          [
           84,
           38042,
           0.3660858718547989,
           17465.856285855403
          ],
          [
           93,
           17672,
           0.3032923688871533,
           18516.451810726718
          ],
          [
           91,
           26917,
           0.3767135304583465,
           17986.618644605885
          ],
          [
           87,
           31481,
           0.317423970601333,
           16180.68808203422
          ],
          [
           87,
           46910,
           0.3085616998317755,
           14789.14847617646
          ],
          [
           85,
           30794,
           0.2862292747117071,
           17096.39150937826
          ],
          [
           91,
           20681,
           0.3546791690549572,
           18401.08844474873
          ],
          [
           91,
           29750,
           0.2884703320713124,
           19201.119916275755
          ],
          [
           88,
           26351,
           0.3041682062164746,
           14035.91755354235
          ],
          [
           87,
           23042,
           0.3663120107544869,
           18149.035872923057
          ],
          [
           91,
           36639,
           0.3261988874784867,
           16275.703341192586
          ],
          [
           84,
           36463,
           0.3536209572557781,
           16563.37259114783
          ],
          [
           84,
           20704,
           0.3794963151514172,
           16816.911895743782
          ],
          [
           90,
           33259,
           0.377571058498228,
           15315.028503741696
          ],
          [
           83,
           23206,
           0.3212403632065312,
           16870.672003783384
          ],
          [
           91,
           24370,
           0.2963285713632805,
           16141.048981383728
          ],
          [
           92,
           22484,
           0.3317732623948493,
           18615.632589788456
          ],
          [
           91,
           22672,
           0.2710645345158168,
           15407.646761130874
          ],
          [
           84,
           27544,
           0.2309337663207005,
           18207.36169648481
          ],
          [
           81,
           34425,
           0.272609779232364,
           16262.623790655764
          ],
          [
           89,
           26940,
           0.3260051328059917,
           16555.159377159824
          ],
          [
           86,
           46977,
           0.2827283910152334,
           15628.957075805023
          ],
          [
           87,
           26045,
           0.3752921226023747,
           15903.558359374923
          ],
          [
           89,
           26127,
           0.3044743722681633,
           17194.828018777476
          ],
          [
           87,
           18459,
           0.2645499059687874,
           15637.59765457844
          ],
          [
           91,
           29082,
           0.2824885213712914,
           18794.488169074688
          ],
          [
           88,
           17388,
           0.4661894446652393,
           16698.6210372462
          ],
          [
           88,
           34001,
           0.337569323887528,
           15530.934134298665
          ],
          [
           85,
           34634,
           0.3690001696241634,
           16719.815875018445
          ],
          [
           84,
           42018,
           0.2979936021899302,
           16148.370454036614
          ],
          [
           91,
           28777,
           0.3241935550357819,
           17808.2662415687
          ],
          [
           88,
           17946,
           0.2696436303999441,
           16715.160017840968
          ],
          [
           94,
           20719,
           0.3364022697976639,
           16281.832273239006
          ],
          [
           87,
           42592,
           0.3552896820382759,
           18086.287157859304
          ],
          [
           88,
           26092,
           0.3128732065230775,
           17105.79392615357
          ],
          [
           85,
           21652,
           0.3184561372216806,
           14175.16988549895
          ],
          [
           91,
           27168,
           0.3322388165540652,
           15893.729773516614
          ],
          [
           83,
           30721,
           0.3311418077630257,
           17705.99238527814
          ],
          [
           91,
           28165,
           0.3036929225036061,
           17460.179350212424
          ]
         ],
         "hovertemplate": "Cluster=%{x}<br>Age=%{customdata[0]}<br>Income=%{customdata[1]}<br>SpendingScore=%{customdata[2]}<br>Savings=%{customdata[3]}<extra></extra>",
         "legendgroup": "Cluster 0",
         "marker": {
          "color": "#636efa"
         },
         "name": "Cluster 0",
         "notched": true,
         "offsetgroup": "Cluster 0",
         "showlegend": false,
         "type": "box",
         "x": [
          "Cluster 0",
          "Cluster 0",
          "Cluster 0",
          "Cluster 0",
          "Cluster 0",
          "Cluster 0",
          "Cluster 0",
          "Cluster 0",
          "Cluster 0",
          "Cluster 0",
          "Cluster 0",
          "Cluster 0",
          "Cluster 0",
          "Cluster 0",
          "Cluster 0",
          "Cluster 0",
          "Cluster 0",
          "Cluster 0",
          "Cluster 0",
          "Cluster 0",
          "Cluster 0",
          "Cluster 0",
          "Cluster 0",
          "Cluster 0",
          "Cluster 0",
          "Cluster 0",
          "Cluster 0",
          "Cluster 0",
          "Cluster 0",
          "Cluster 0",
          "Cluster 0",
          "Cluster 0",
          "Cluster 0",
          "Cluster 0",
          "Cluster 0",
          "Cluster 0",
          "Cluster 0",
          "Cluster 0",
          "Cluster 0",
          "Cluster 0",
          "Cluster 0",
          "Cluster 0",
          "Cluster 0",
          "Cluster 0",
          "Cluster 0",
          "Cluster 0",
          "Cluster 0",
          "Cluster 0",
          "Cluster 0",
          "Cluster 0",
          "Cluster 0",
          "Cluster 0",
          "Cluster 0",
          "Cluster 0",
          "Cluster 0",
          "Cluster 0",
          "Cluster 0",
          "Cluster 0",
          "Cluster 0",
          "Cluster 0",
          "Cluster 0",
          "Cluster 0",
          "Cluster 0",
          "Cluster 0",
          "Cluster 0",
          "Cluster 0",
          "Cluster 0",
          "Cluster 0",
          "Cluster 0",
          "Cluster 0",
          "Cluster 0",
          "Cluster 0",
          "Cluster 0",
          "Cluster 0",
          "Cluster 0",
          "Cluster 0",
          "Cluster 0",
          "Cluster 0",
          "Cluster 0",
          "Cluster 0",
          "Cluster 0",
          "Cluster 0",
          "Cluster 0",
          "Cluster 0",
          "Cluster 0",
          "Cluster 0",
          "Cluster 0",
          "Cluster 0",
          "Cluster 0",
          "Cluster 0",
          "Cluster 0",
          "Cluster 0",
          "Cluster 0",
          "Cluster 0",
          "Cluster 0",
          "Cluster 0",
          "Cluster 0",
          "Cluster 0",
          "Cluster 0",
          "Cluster 0",
          "Cluster 0",
          "Cluster 0",
          "Cluster 0",
          "Cluster 0",
          "Cluster 0",
          "Cluster 0",
          "Cluster 0",
          "Cluster 0",
          "Cluster 0",
          "Cluster 0",
          "Cluster 0",
          "Cluster 0",
          "Cluster 0",
          "Cluster 0",
          "Cluster 0",
          "Cluster 0",
          "Cluster 0",
          "Cluster 0",
          "Cluster 0",
          "Cluster 0",
          "Cluster 0",
          "Cluster 0",
          "Cluster 0",
          "Cluster 0",
          "Cluster 0",
          "Cluster 0",
          "Cluster 0",
          "Cluster 0",
          "Cluster 0",
          "Cluster 0",
          "Cluster 0",
          "Cluster 0",
          "Cluster 0",
          "Cluster 0",
          "Cluster 0",
          "Cluster 0",
          "Cluster 0",
          "Cluster 0",
          "Cluster 0",
          "Cluster 0",
          "Cluster 0"
         ],
         "xaxis": "x2",
         "yaxis": "y2"
        },
        {
         "alignmentgroup": "True",
         "bingroup": "x",
         "hovertemplate": "Cluster=%{x}<br>count=%{y}<extra></extra>",
         "legendgroup": "Cluster 1",
         "marker": {
          "color": "#EF553B",
          "opacity": 0.7,
          "pattern": {
           "shape": ""
          }
         },
         "name": "Cluster 1",
         "offsetgroup": "Cluster 1",
         "orientation": "v",
         "showlegend": true,
         "type": "histogram",
         "x": [
          "Cluster 1",
          "Cluster 1",
          "Cluster 1",
          "Cluster 1",
          "Cluster 1",
          "Cluster 1",
          "Cluster 1",
          "Cluster 1",
          "Cluster 1",
          "Cluster 1",
          "Cluster 1",
          "Cluster 1",
          "Cluster 1",
          "Cluster 1",
          "Cluster 1",
          "Cluster 1",
          "Cluster 1",
          "Cluster 1",
          "Cluster 1",
          "Cluster 1",
          "Cluster 1",
          "Cluster 1",
          "Cluster 1",
          "Cluster 1",
          "Cluster 1",
          "Cluster 1",
          "Cluster 1",
          "Cluster 1",
          "Cluster 1",
          "Cluster 1",
          "Cluster 1",
          "Cluster 1",
          "Cluster 1",
          "Cluster 1",
          "Cluster 1",
          "Cluster 1",
          "Cluster 1",
          "Cluster 1",
          "Cluster 1",
          "Cluster 1",
          "Cluster 1",
          "Cluster 1",
          "Cluster 1",
          "Cluster 1",
          "Cluster 1",
          "Cluster 1",
          "Cluster 1",
          "Cluster 1",
          "Cluster 1",
          "Cluster 1",
          "Cluster 1",
          "Cluster 1",
          "Cluster 1",
          "Cluster 1",
          "Cluster 1",
          "Cluster 1",
          "Cluster 1",
          "Cluster 1",
          "Cluster 1",
          "Cluster 1",
          "Cluster 1",
          "Cluster 1",
          "Cluster 1",
          "Cluster 1",
          "Cluster 1",
          "Cluster 1",
          "Cluster 1",
          "Cluster 1",
          "Cluster 1",
          "Cluster 1",
          "Cluster 1",
          "Cluster 1",
          "Cluster 1",
          "Cluster 1",
          "Cluster 1",
          "Cluster 1",
          "Cluster 1",
          "Cluster 1",
          "Cluster 1",
          "Cluster 1",
          "Cluster 1",
          "Cluster 1",
          "Cluster 1",
          "Cluster 1",
          "Cluster 1",
          "Cluster 1",
          "Cluster 1",
          "Cluster 1",
          "Cluster 1",
          "Cluster 1",
          "Cluster 1",
          "Cluster 1",
          "Cluster 1",
          "Cluster 1",
          "Cluster 1",
          "Cluster 1",
          "Cluster 1",
          "Cluster 1",
          "Cluster 1",
          "Cluster 1",
          "Cluster 1",
          "Cluster 1",
          "Cluster 1",
          "Cluster 1",
          "Cluster 1",
          "Cluster 1",
          "Cluster 1",
          "Cluster 1",
          "Cluster 1",
          "Cluster 1",
          "Cluster 1",
          "Cluster 1",
          "Cluster 1",
          "Cluster 1",
          "Cluster 1",
          "Cluster 1",
          "Cluster 1",
          "Cluster 1",
          "Cluster 1",
          "Cluster 1",
          "Cluster 1",
          "Cluster 1",
          "Cluster 1",
          "Cluster 1",
          "Cluster 1",
          "Cluster 1",
          "Cluster 1",
          "Cluster 1",
          "Cluster 1",
          "Cluster 1",
          "Cluster 1",
          "Cluster 1",
          "Cluster 1",
          "Cluster 1",
          "Cluster 1",
          "Cluster 1",
          "Cluster 1",
          "Cluster 1",
          "Cluster 1",
          "Cluster 1",
          "Cluster 1",
          "Cluster 1",
          "Cluster 1",
          "Cluster 1",
          "Cluster 1",
          "Cluster 1",
          "Cluster 1"
         ],
         "xaxis": "x",
         "yaxis": "y"
        },
        {
         "alignmentgroup": "True",
         "customdata": [
          [
           68,
           77648,
           0.7965446939835457,
           6190.864082788901
          ],
          [
           57,
           76594,
           0.7906578552491133,
           6584.654681310476
          ],
          [
           55,
           76831,
           0.742113734041324,
           7806.398750466399
          ],
          [
           59,
           77978,
           0.7188952048526104,
           8316.31110205122
          ],
          [
           57,
           72055,
           0.7549723463413129,
           6544.847498075687
          ],
          [
           63,
           85761,
           0.8005979105724924,
           7175.090218501248
          ],
          [
           63,
           56875,
           0.7622805817657738,
           7837.233619544163
          ],
          [
           63,
           69849,
           0.7403870808915297,
           7670.690965941329
          ],
          [
           64,
           62886,
           0.7480162682831766,
           8302.588638401632
          ],
          [
           59,
           69738,
           0.742112121715572,
           7151.650866065036
          ],
          [
           56,
           73516,
           0.806499154055182,
           7696.832373798451
          ],
          [
           62,
           73480,
           0.7391949797931453,
           6277.675150528886
          ],
          [
           59,
           69460,
           0.7527238381125997,
           6101.372146632122
          ],
          [
           62,
           80093,
           0.6909167811268888,
           6756.749072752338
          ],
          [
           64,
           60493,
           0.7680563479442216,
           7708.112609459161
          ],
          [
           61,
           78837,
           0.7459489746307642,
           6811.303235949058
          ],
          [
           59,
           69115,
           0.75988343384532,
           5997.690199856996
          ],
          [
           59,
           56321,
           0.806565925193039,
           6129.288986032587
          ],
          [
           56,
           65313,
           0.7546029986455771,
           5574.243676707098
          ],
          [
           56,
           75599,
           0.7737370986430746,
           6799.625271842961
          ],
          [
           59,
           73057,
           0.8302949092020397,
           7819.393215767329
          ],
          [
           59,
           73350,
           0.6797735912164855,
           6710.5740183754415
          ],
          [
           65,
           74430,
           0.7517741617758547,
           7145.251128357927
          ],
          [
           58,
           78078,
           0.7837795500405715,
           6483.049643745244
          ],
          [
           59,
           75495,
           0.7945029052198103,
           6702.9519263157545
          ],
          [
           58,
           80248,
           0.7249557054919687,
           7641.16038162423
          ],
          [
           60,
           65942,
           0.8005783854654352,
           5253.265006608644
          ],
          [
           61,
           65914,
           0.7781022309770123,
           6406.877130352032
          ],
          [
           62,
           69326,
           0.798012338054483,
           7003.095703317772
          ],
          [
           55,
           73895,
           0.7471254610291731,
           5563.906948891499
          ],
          [
           59,
           72588,
           0.8017156979122673,
           6300.8437570950255
          ],
          [
           59,
           71302,
           0.7020090041734849,
           6595.726010227134
          ],
          [
           66,
           82526,
           0.7696800667721441,
           6205.662650191711
          ],
          [
           61,
           71033,
           0.8380950724014863,
           9456.876962701135
          ],
          [
           59,
           65700,
           0.8114711740198254,
           6932.487932327357
          ],
          [
           56,
           63866,
           0.7618879582513512,
           7762.255066659052
          ],
          [
           64,
           76410,
           0.7756041848937439,
           6135.308197117818
          ],
          [
           63,
           80705,
           0.7626699527314824,
           5154.330634621805
          ],
          [
           61,
           68842,
           0.7544065421993587,
           4077.6586565080543
          ],
          [
           61,
           74282,
           0.6922364738673796,
           7286.754751068365
          ],
          [
           59,
           74576,
           0.7812961239072382,
           10547.775367695343
          ],
          [
           53,
           74996,
           0.7387310917031671,
           7821.447803561914
          ],
          [
           66,
           72571,
           0.8115483367376335,
           6509.411506109981
          ],
          [
           63,
           72815,
           0.8200359737627068,
           5504.385543801038
          ],
          [
           60,
           74460,
           0.7545393292392412,
           7567.647652220367
          ],
          [
           61,
           71933,
           0.8441067966472876,
           8022.208541100705
          ],
          [
           60,
           71436,
           0.8320590985324969,
           8557.86012627717
          ],
          [
           57,
           65608,
           0.7662313009024402,
           6904.318224287021
          ],
          [
           59,
           74373,
           0.7656795619984281,
           7346.334503537976
          ],
          [
           59,
           68038,
           0.8014869916095588,
           7719.283632687175
          ],
          [
           61,
           73495,
           0.7727563051023116,
           9288.189785744367
          ],
          [
           58,
           69247,
           0.7237211912021976,
           8715.67957429646
          ],
          [
           55,
           64768,
           0.7332568512323248,
           6486.353872691102
          ],
          [
           64,
           78801,
           0.7403674891662984,
           6420.944071200261
          ],
          [
           60,
           70054,
           0.7143393610830643,
           6609.918507412547
          ],
          [
           64,
           64331,
           0.7571277508774099,
           5815.660096290825
          ],
          [
           59,
           67346,
           0.7251568963089163,
           8857.849116294088
          ],
          [
           63,
           67370,
           0.8999405530923943,
           5985.077029740456
          ],
          [
           62,
           62650,
           0.766572365027147,
           7533.673609198676
          ],
          [
           66,
           64866,
           0.766594189137425,
           5037.899138583947
          ],
          [
           65,
           71229,
           0.7878897626638453,
           9024.337460598084
          ],
          [
           62,
           74751,
           0.7026569520102857,
           9258.992965034067
          ],
          [
           60,
           79969,
           0.812104912914789,
           4879.334872972362
          ],
          [
           62,
           67731,
           0.8191699488980382,
           5956.555677017446
          ],
          [
           61,
           72060,
           0.8334590233217959,
           7924.641138154016
          ],
          [
           58,
           70272,
           0.8229596005059499,
           5290.087044285296
          ],
          [
           57,
           76573,
           0.8405990704520518,
           6225.376082433229
          ],
          [
           65,
           65736,
           0.7785687658100923,
           6387.2196944302905
          ],
          [
           57,
           74014,
           0.787378081122989,
           5783.846928267083
          ],
          [
           58,
           77559,
           0.7122963723872477,
           5742.524488088997
          ],
          [
           61,
           63846,
           0.8278622414878984,
           7283.504772674617
          ],
          [
           56,
           78992,
           0.8122757021441627,
           7285.180436851739
          ],
          [
           62,
           63596,
           0.7453271943508174,
           6142.2016193458685
          ],
          [
           60,
           65054,
           0.7086131723969877,
           5417.237293788359
          ],
          [
           55,
           78761,
           0.8271741985123882,
           8376.74947779104
          ],
          [
           57,
           64803,
           0.7285849289103553,
           6255.55264105716
          ],
          [
           68,
           68944,
           0.7455674638713768,
           6828.709702363695
          ],
          [
           53,
           62117,
           0.7331388477995737,
           7500.452413594261
          ],
          [
           59,
           67988,
           0.8114707012366371,
           7255.90311433466
          ],
          [
           55,
           71621,
           0.753342683616619,
           7780.589913955976
          ],
          [
           56,
           68463,
           0.8157116929554062,
           8995.180087953215
          ],
          [
           60,
           67491,
           0.84661848692906,
           7180.713788260257
          ],
          [
           56,
           68698,
           0.7162678503859907,
           7070.967006969191
          ],
          [
           64,
           71692,
           0.8426521453196145,
           7002.976554303355
          ],
          [
           60,
           65340,
           0.7316484923943142,
           8354.196507802662
          ],
          [
           58,
           69879,
           0.7209986871945887,
           6669.033518051874
          ],
          [
           61,
           72027,
           0.7623249166772856,
           6926.123598416466
          ],
          [
           55,
           71056,
           0.7565897119333272,
           7464.163256732262
          ],
          [
           58,
           70676,
           0.7640283880376706,
           7664.415650964042
          ],
          [
           60,
           70012,
           0.7944610508231513,
           7263.242447729872
          ],
          [
           61,
           74117,
           0.7702140596767938,
           5103.609230428381
          ],
          [
           56,
           84386,
           0.7849450699605269,
           7270.41953428175
          ],
          [
           59,
           82199,
           0.8035145098215853,
           5880.814834306346
          ],
          [
           56,
           60059,
           0.7275840223364691,
           7166.858605155183
          ],
          [
           59,
           90422,
           0.8062102206275251,
           6746.28108382082
          ],
          [
           58,
           76052,
           0.7215881830727278,
           6681.984386377028
          ],
          [
           67,
           59243,
           0.7436599996604758,
           5446.557472721708
          ],
          [
           62,
           62747,
           0.7705945596869115,
           5852.326242628098
          ],
          [
           62,
           67030,
           0.7467384433463651,
           6740.765182071713
          ],
          [
           63,
           70580,
           0.7665090449070475,
           7262.108723452132
          ],
          [
           59,
           69408,
           0.8799059975919311,
           6491.771149967825
          ],
          [
           61,
           65647,
           0.717489977384151,
           7497.231607003855
          ],
          [
           58,
           77101,
           0.7667195837506832,
           8148.49184821177
          ],
          [
           58,
           75757,
           0.8097944168848634,
           7390.577293437033
          ],
          [
           57,
           75332,
           0.7215024376129366,
           6845.056822204781
          ],
          [
           58,
           78611,
           0.910416682938019,
           7665.884294519009
          ],
          [
           64,
           76364,
           0.6993887663543108,
           5772.117135854975
          ],
          [
           62,
           69391,
           0.7921059737158539,
           6518.283467894094
          ],
          [
           66,
           71672,
           0.7538892176112998,
           7387.835437850722
          ],
          [
           62,
           78413,
           0.7907090657200839,
           6961.204192368095
          ],
          [
           62,
           71050,
           0.7353568506694507,
           6988.19736827388
          ],
          [
           58,
           80278,
           0.823358991009156,
           6335.97831998802
          ],
          [
           57,
           69655,
           0.6748906779058501,
           5889.831167170132
          ],
          [
           51,
           72086,
           0.7911147257599156,
           6732.096068632267
          ],
          [
           57,
           79794,
           0.82240840085096,
           5893.975284946178
          ],
          [
           67,
           68663,
           0.7738336308243648,
           7451.99401402587
          ],
          [
           64,
           88361,
           0.7745562258521365,
           7240.759687480846
          ],
          [
           61,
           69698,
           0.7416839698444291,
           8777.077471725162
          ],
          [
           62,
           69741,
           0.8462196017575947,
           5781.658046536959
          ],
          [
           65,
           70430,
           0.6969942581249643,
           6971.164886262858
          ],
          [
           61,
           73245,
           0.811160373170345,
           7413.784487271214
          ],
          [
           59,
           81799,
           0.7910820467274178,
           5417.661426197439
          ],
          [
           63,
           75078,
           0.7831591503681397,
           7468.8510795028
          ],
          [
           61,
           69001,
           0.8216687745413516,
           5074.12121172259
          ],
          [
           61,
           71171,
           0.7210804930623951,
           6457.790641224787
          ],
          [
           62,
           68279,
           0.7196850779929922,
           7028.675510384213
          ],
          [
           56,
           86484,
           0.7321233689266612,
           8777.496176839057
          ],
          [
           59,
           67781,
           0.7225483489421433,
           6701.527664794541
          ],
          [
           58,
           78635,
           0.7864400503429185,
           7162.7390430553605
          ],
          [
           56,
           80431,
           0.7594315957853627,
           8150.55743948241
          ],
          [
           63,
           82343,
           0.7323186222078123,
           8090.706739679063
          ],
          [
           58,
           77769,
           0.7913287771988531,
           6559.829923004832
          ],
          [
           61,
           76955,
           0.777117564607447,
           7467.0367023144945
          ],
          [
           59,
           80876,
           0.6573140731575163,
           7232.825142650887
          ],
          [
           58,
           74340,
           0.7351650452097145,
           7259.540921675671
          ],
          [
           62,
           73675,
           0.7966191667425384,
           4688.657157271711
          ],
          [
           57,
           79470,
           0.7734352958312237,
           6773.04908977712
          ],
          [
           55,
           74356,
           0.7998269700906482,
           6484.630737953293
          ],
          [
           53,
           76667,
           0.7600576501232099,
           5168.225474983632
          ],
          [
           65,
           66017,
           0.7861892594159869,
           6159.662935925753
          ],
          [
           64,
           86283,
           0.7568019251873561,
           6852.554866914717
          ],
          [
           58,
           70259,
           0.7697129169369328,
           7101.674514204499
          ],
          [
           60,
           70663,
           0.7153396972946453,
           7557.937593550947
          ],
          [
           60,
           63476,
           0.7519000198498227,
           7543.542801728055
          ],
          [
           58,
           70369,
           0.9045204855363144,
           7461.567502649429
          ],
          [
           54,
           76500,
           0.7851978501165687,
           6878.884248553975
          ],
          [
           55,
           76057,
           0.8778279844516369,
           6132.898204816149
          ]
         ],
         "hovertemplate": "Cluster=%{x}<br>Age=%{customdata[0]}<br>Income=%{customdata[1]}<br>SpendingScore=%{customdata[2]}<br>Savings=%{customdata[3]}<extra></extra>",
         "legendgroup": "Cluster 1",
         "marker": {
          "color": "#EF553B"
         },
         "name": "Cluster 1",
         "notched": true,
         "offsetgroup": "Cluster 1",
         "showlegend": false,
         "type": "box",
         "x": [
          "Cluster 1",
          "Cluster 1",
          "Cluster 1",
          "Cluster 1",
          "Cluster 1",
          "Cluster 1",
          "Cluster 1",
          "Cluster 1",
          "Cluster 1",
          "Cluster 1",
          "Cluster 1",
          "Cluster 1",
          "Cluster 1",
          "Cluster 1",
          "Cluster 1",
          "Cluster 1",
          "Cluster 1",
          "Cluster 1",
          "Cluster 1",
          "Cluster 1",
          "Cluster 1",
          "Cluster 1",
          "Cluster 1",
          "Cluster 1",
          "Cluster 1",
          "Cluster 1",
          "Cluster 1",
          "Cluster 1",
          "Cluster 1",
          "Cluster 1",
          "Cluster 1",
          "Cluster 1",
          "Cluster 1",
          "Cluster 1",
          "Cluster 1",
          "Cluster 1",
          "Cluster 1",
          "Cluster 1",
          "Cluster 1",
          "Cluster 1",
          "Cluster 1",
          "Cluster 1",
          "Cluster 1",
          "Cluster 1",
          "Cluster 1",
          "Cluster 1",
          "Cluster 1",
          "Cluster 1",
          "Cluster 1",
          "Cluster 1",
          "Cluster 1",
          "Cluster 1",
          "Cluster 1",
          "Cluster 1",
          "Cluster 1",
          "Cluster 1",
          "Cluster 1",
          "Cluster 1",
          "Cluster 1",
          "Cluster 1",
          "Cluster 1",
          "Cluster 1",
          "Cluster 1",
          "Cluster 1",
          "Cluster 1",
          "Cluster 1",
          "Cluster 1",
          "Cluster 1",
          "Cluster 1",
          "Cluster 1",
          "Cluster 1",
          "Cluster 1",
          "Cluster 1",
          "Cluster 1",
          "Cluster 1",
          "Cluster 1",
          "Cluster 1",
          "Cluster 1",
          "Cluster 1",
          "Cluster 1",
          "Cluster 1",
          "Cluster 1",
          "Cluster 1",
          "Cluster 1",
          "Cluster 1",
          "Cluster 1",
          "Cluster 1",
          "Cluster 1",
          "Cluster 1",
          "Cluster 1",
          "Cluster 1",
          "Cluster 1",
          "Cluster 1",
          "Cluster 1",
          "Cluster 1",
          "Cluster 1",
          "Cluster 1",
          "Cluster 1",
          "Cluster 1",
          "Cluster 1",
          "Cluster 1",
          "Cluster 1",
          "Cluster 1",
          "Cluster 1",
          "Cluster 1",
          "Cluster 1",
          "Cluster 1",
          "Cluster 1",
          "Cluster 1",
          "Cluster 1",
          "Cluster 1",
          "Cluster 1",
          "Cluster 1",
          "Cluster 1",
          "Cluster 1",
          "Cluster 1",
          "Cluster 1",
          "Cluster 1",
          "Cluster 1",
          "Cluster 1",
          "Cluster 1",
          "Cluster 1",
          "Cluster 1",
          "Cluster 1",
          "Cluster 1",
          "Cluster 1",
          "Cluster 1",
          "Cluster 1",
          "Cluster 1",
          "Cluster 1",
          "Cluster 1",
          "Cluster 1",
          "Cluster 1",
          "Cluster 1",
          "Cluster 1",
          "Cluster 1",
          "Cluster 1",
          "Cluster 1",
          "Cluster 1",
          "Cluster 1",
          "Cluster 1",
          "Cluster 1",
          "Cluster 1",
          "Cluster 1",
          "Cluster 1",
          "Cluster 1",
          "Cluster 1"
         ],
         "xaxis": "x2",
         "yaxis": "y2"
        },
        {
         "alignmentgroup": "True",
         "bingroup": "x",
         "hovertemplate": "Cluster=%{x}<br>count=%{y}<extra></extra>",
         "legendgroup": "Cluster 2",
         "marker": {
          "color": "#00cc96",
          "opacity": 0.7,
          "pattern": {
           "shape": ""
          }
         },
         "name": "Cluster 2",
         "offsetgroup": "Cluster 2",
         "orientation": "v",
         "showlegend": true,
         "type": "histogram",
         "x": [
          "Cluster 2",
          "Cluster 2",
          "Cluster 2",
          "Cluster 2",
          "Cluster 2",
          "Cluster 2",
          "Cluster 2",
          "Cluster 2",
          "Cluster 2",
          "Cluster 2",
          "Cluster 2",
          "Cluster 2",
          "Cluster 2",
          "Cluster 2",
          "Cluster 2",
          "Cluster 2",
          "Cluster 2",
          "Cluster 2",
          "Cluster 2",
          "Cluster 2",
          "Cluster 2",
          "Cluster 2",
          "Cluster 2",
          "Cluster 2",
          "Cluster 2",
          "Cluster 2",
          "Cluster 2",
          "Cluster 2",
          "Cluster 2",
          "Cluster 2",
          "Cluster 2",
          "Cluster 2",
          "Cluster 2",
          "Cluster 2",
          "Cluster 2",
          "Cluster 2",
          "Cluster 2",
          "Cluster 2",
          "Cluster 2",
          "Cluster 2",
          "Cluster 2",
          "Cluster 2",
          "Cluster 2",
          "Cluster 2",
          "Cluster 2",
          "Cluster 2",
          "Cluster 2",
          "Cluster 2",
          "Cluster 2",
          "Cluster 2",
          "Cluster 2",
          "Cluster 2",
          "Cluster 2",
          "Cluster 2",
          "Cluster 2",
          "Cluster 2",
          "Cluster 2",
          "Cluster 2",
          "Cluster 2",
          "Cluster 2",
          "Cluster 2",
          "Cluster 2",
          "Cluster 2",
          "Cluster 2",
          "Cluster 2",
          "Cluster 2",
          "Cluster 2",
          "Cluster 2",
          "Cluster 2",
          "Cluster 2",
          "Cluster 2",
          "Cluster 2",
          "Cluster 2",
          "Cluster 2",
          "Cluster 2",
          "Cluster 2",
          "Cluster 2",
          "Cluster 2",
          "Cluster 2",
          "Cluster 2",
          "Cluster 2",
          "Cluster 2",
          "Cluster 2",
          "Cluster 2",
          "Cluster 2",
          "Cluster 2",
          "Cluster 2",
          "Cluster 2",
          "Cluster 2",
          "Cluster 2",
          "Cluster 2",
          "Cluster 2",
          "Cluster 2",
          "Cluster 2",
          "Cluster 2",
          "Cluster 2",
          "Cluster 2",
          "Cluster 2",
          "Cluster 2",
          "Cluster 2",
          "Cluster 2",
          "Cluster 2",
          "Cluster 2",
          "Cluster 2",
          "Cluster 2",
          "Cluster 2",
          "Cluster 2",
          "Cluster 2",
          "Cluster 2",
          "Cluster 2",
          "Cluster 2",
          "Cluster 2",
          "Cluster 2",
          "Cluster 2",
          "Cluster 2",
          "Cluster 2",
          "Cluster 2",
          "Cluster 2",
          "Cluster 2",
          "Cluster 2",
          "Cluster 2",
          "Cluster 2",
          "Cluster 2",
          "Cluster 2",
          "Cluster 2",
          "Cluster 2",
          "Cluster 2",
          "Cluster 2",
          "Cluster 2",
          "Cluster 2",
          "Cluster 2",
          "Cluster 2",
          "Cluster 2",
          "Cluster 2",
          "Cluster 2",
          "Cluster 2",
          "Cluster 2",
          "Cluster 2",
          "Cluster 2",
          "Cluster 2",
          "Cluster 2",
          "Cluster 2",
          "Cluster 2",
          "Cluster 2",
          "Cluster 2",
          "Cluster 2",
          "Cluster 2",
          "Cluster 2"
         ],
         "xaxis": "x",
         "yaxis": "y"
        },
        {
         "alignmentgroup": "True",
         "customdata": [
          [
           35,
           108499,
           0.2612719132713158,
           16046.08301542436
          ],
          [
           34,
           107255,
           0.3283430294033383,
           15130.595225546444
          ],
          [
           37,
           107958,
           0.346669076543185,
           13641.009538079368
          ],
          [
           31,
           107963,
           0.2905086327499087,
           13407.081391032512
          ],
          [
           82,
           126257,
           0.0780961943994333,
           15816.101922357922
          ],
          [
           30,
           108581,
           0.3094467811568004,
           15628.791650531211
          ],
          [
           84,
           114406,
           0.1238383746409725,
           16840.570583774286
          ],
          [
           33,
           98033,
           0.3095111158545869,
           15774.690605560643
          ],
          [
           37,
           107877,
           0.3346179841546032,
           17968.55392863446
          ],
          [
           31,
           105006,
           0.3741658782934958,
           15419.417763123292
          ],
          [
           29,
           116451,
           0.3406596106851227,
           15294.661511529368
          ],
          [
           90,
           124170,
           0.0307513143939138,
           14773.40720559984
          ],
          [
           31,
           112943,
           0.341239503307387,
           14297.702229457282
          ],
          [
           31,
           101209,
           0.3043229953712127,
           16917.571691218804
          ],
          [
           36,
           108004,
           0.3089229914936124,
           15813.964573146995
          ],
          [
           84,
           110582,
           0.0790490322794597,
           14937.995169685584
          ],
          [
           31,
           108067,
           0.2686742663930692,
           13316.767286164832
          ],
          [
           86,
           128378,
           0.1260834097584985,
           13585.778624417357
          ],
          [
           28,
           111937,
           0.2537347301209012,
           13669.110632506934
          ],
          [
           34,
           98752,
           0.3720337099315751,
           14975.384238944334
          ],
          [
           31,
           107994,
           0.2944689389706671,
           13685.97236173889
          ],
          [
           37,
           108651,
           0.1923436158292553,
           15881.242198260685
          ],
          [
           83,
           117943,
           0.0772132400334304,
           15391.952192206512
          ],
          [
           29,
           119366,
           0.3587713900686116,
           15012.8530142263
          ],
          [
           83,
           119429,
           0.0421548010785584,
           15607.561541234569
          ],
          [
           37,
           97678,
           0.2574704443875843,
           15834.113173627364
          ],
          [
           29,
           103223,
           0.3388162937437745,
           16252.88305306563
          ],
          [
           34,
           103204,
           0.3010873537839331,
           15149.810421179482
          ],
          [
           31,
           107932,
           0.3742421881649844,
           12207.526078087716
          ],
          [
           31,
           102618,
           0.2763779214063509,
           13209.301612848927
          ],
          [
           27,
           106758,
           0.2662947092346973,
           14942.560723173168
          ],
          [
           33,
           107100,
           0.3424354833732075,
           14895.473479049117
          ],
          [
           93,
           126601,
           0.0251701694773457,
           14117.44703707058
          ],
          [
           36,
           100158,
           0.316060414098024,
           13832.37937073453
          ],
          [
           38,
           113659,
           0.3334859873871594,
           14364.693391418998
          ],
          [
           35,
           117112,
           0.3047918711384766,
           15908.035997555322
          ],
          [
           37,
           110595,
           0.2866485050019983,
           15235.445457133226
          ],
          [
           31,
           101481,
           0.2702350511848681,
           15226.614133627569
          ],
          [
           35,
           112878,
           0.3009135799974076,
           13755.482301873282
          ],
          [
           37,
           106894,
           0.3432357689892068,
           14075.217365594552
          ],
          [
           29,
           110860,
           0.3194403010352474,
           16260.42103081417
          ],
          [
           24,
           110564,
           0.3049430059244968,
           14967.839625179657
          ],
          [
           91,
           118794,
           0.0192120658984376,
           14047.388986415734
          ],
          [
           30,
           107926,
           0.2301607310342209,
           15520.536309707046
          ],
          [
           33,
           111813,
           0.2382437868013801,
           15901.238967721654
          ],
          [
           36,
           109809,
           0.355660187354229,
           14978.502144076489
          ],
          [
           86,
           115689,
           0.057842956133581,
           14803.153273493916
          ],
          [
           34,
           89598,
           0.3401523810436963,
           12832.768720823738
          ],
          [
           32,
           108417,
           0.2873708671400807,
           16696.398659007995
          ],
          [
           36,
           101811,
           0.3406667947415742,
           15048.89961242685
          ],
          [
           33,
           108345,
           0.32541328975821,
           15646.321717359428
          ],
          [
           92,
           122879,
           0.0607240352184939,
           13709.670274517475
          ],
          [
           87,
           117564,
           0.1282795957567026,
           14000.248964992144
          ],
          [
           29,
           91375,
           0.2354504258588228,
           13104.962760687613
          ],
          [
           42,
           106990,
           0.330065422314764,
           14856.938997469417
          ],
          [
           34,
           111303,
           0.345312577109288,
           14624.318634976556
          ],
          [
           33,
           106345,
           0.3392354218755358,
           15300.45379012999
          ],
          [
           30,
           107302,
           0.2396771776819925,
           13993.24401848172
          ],
          [
           28,
           101206,
           0.3874406981253432,
           14936.775388622864
          ],
          [
           31,
           104388,
           0.2864732316476225,
           14406.561248437842
          ],
          [
           28,
           94762,
           0.3035961911057213,
           15352.521936894913
          ],
          [
           29,
           102028,
           0.2889604994756899,
           14634.430692347907
          ],
          [
           36,
           109038,
           0.3242132027621541,
           16502.389477657125
          ],
          [
           30,
           102056,
           0.2607006223919937,
           15370.66882713054
          ],
          [
           38,
           104738,
           0.4059588503683713,
           15634.313868027426
          ],
          [
           34,
           104284,
           0.3445454117798671,
           13541.801770810564
          ],
          [
           25,
           101503,
           0.2884688560740983,
           15026.262148820157
          ],
          [
           25,
           106772,
           0.3909047196000217,
           16353.471790615497
          ],
          [
           86,
           124372,
           0,
           15374.465952896948
          ],
          [
           28,
           100592,
           0.2595983487762325,
           15520.355775683653
          ],
          [
           30,
           106350,
           0.3694162857692796,
           14863.233588279092
          ],
          [
           30,
           99949,
           0.3446792235097859,
           13621.63972633141
          ],
          [
           32,
           101905,
           0.3074763135926986,
           17532.16478349903
          ],
          [
           88,
           120678,
           0.0632728512966028,
           14264.473846639945
          ],
          [
           31,
           105036,
           0.2722279930569666,
           16465.063521972657
          ],
          [
           88,
           114767,
           0.0322075423389263,
           17833.093470094427
          ],
          [
           35,
           110106,
           0.2867692710102035,
           14924.537223475552
          ],
          [
           33,
           116616,
           0.3209300476959025,
           15104.49811363824
          ],
          [
           31,
           116247,
           0.2943151380482853,
           16178.204715186295
          ],
          [
           77,
           128596,
           0.0408240706625097,
           14503.410786381415
          ],
          [
           32,
           117050,
           0.3113555349689566,
           14310.546206532164
          ],
          [
           36,
           99780,
           0.2654326074020303,
           16398.40133318453
          ],
          [
           37,
           108635,
           0.2864957031483905,
           14558.054542315444
          ],
          [
           36,
           104285,
           0.2123600508972585,
           13347.558779497918
          ],
          [
           35,
           107131,
           0.2424731551814768,
           16200.013010637644
          ],
          [
           33,
           92569,
           0.3360798055671445,
           13765.685995748696
          ],
          [
           35,
           102308,
           0.2751372175012176,
           14874.557991326978
          ],
          [
           32,
           110439,
           0.3069901582742725,
           13873.50756985278
          ],
          [
           30,
           108928,
           0.303863615036657,
           14339.652917342728
          ],
          [
           31,
           99457,
           0.3658064971511748,
           14580.613477014092
          ],
          [
           37,
           97831,
           0.3744658274308825,
           14935.144813058325
          ],
          [
           26,
           97750,
           0.293408760516068,
           15823.032361634105
          ],
          [
           29,
           112531,
           0.3427661743407053,
           14361.334979176148
          ],
          [
           32,
           95536,
           0.2662460568101488,
           15420.62564400274
          ],
          [
           33,
           101058,
           0.3150815497840024,
           14911.868398206978
          ],
          [
           39,
           100661,
           0.3766412501689559,
           16873.128638209408
          ],
          [
           37,
           110732,
           0.3226762482802641,
           14265.35184049776
          ],
          [
           28,
           97965,
           0.3134915614599665,
           14981.402201916082
          ],
          [
           85,
           111389,
           0.0367953622110323,
           16009.237762922365
          ],
          [
           22,
           109152,
           0.3234464163624235,
           16022.482482363524
          ],
          [
           33,
           106757,
           0.2583961137212551,
           14431.65279923437
          ],
          [
           31,
           114833,
           0.3050696862135815,
           13953.029721407644
          ],
          [
           89,
           119697,
           0.0916792017028315,
           16215.399076555512
          ],
          [
           30,
           96241,
           0.3773384910014747,
           15485.156009739389
          ],
          [
           36,
           98137,
           0.297401293159654,
           15978.332837131276
          ],
          [
           85,
           118169,
           0.123196057747337,
           14855.95102392762
          ],
          [
           38,
           115146,
           0.3144900731288347,
           14798.868153501797
          ],
          [
           36,
           105567,
           0.3126388486955741,
           14355.31094653896
          ],
          [
           35,
           104678,
           0.3279928581002429,
           15422.055799721802
          ],
          [
           28,
           99611,
           0.2795578681222758,
           15345.658121390226
          ],
          [
           39,
           99216,
           0.2166061433945727,
           15230.345105300736
          ],
          [
           33,
           99637,
           0.2282170773869075,
           15139.40314264753
          ],
          [
           82,
           121642,
           0.0546531904642098,
           14177.513323069668
          ],
          [
           31,
           110882,
           0.3252806065281125,
           14004.61374291491
          ],
          [
           38,
           94775,
           0.3803902009461493,
           16867.13082002739
          ],
          [
           44,
           114642,
           0.3092049154534187,
           14067.617788950563
          ],
          [
           31,
           107115,
           0.3280420856997338,
           15693.499570389358
          ],
          [
           33,
           94964,
           0.3302325026567214,
           14018.349867336628
          ],
          [
           37,
           106664,
           0.2775867542026021,
           14479.374117495969
          ],
          [
           84,
           122696,
           0.0821868319247355,
           13809.734086698068
          ],
          [
           39,
           100540,
           0.3849229829012918,
           16741.013894847743
          ],
          [
           29,
           101943,
           0.3256230614429721,
           14619.354282159027
          ],
          [
           40,
           98821,
           0.279080850187049,
           15995.160053914662
          ],
          [
           84,
           115237,
           0.0687782098136733,
           14396.568282311468
          ],
          [
           29,
           106014,
           0.347945113577731,
           15038.010746320377
          ],
          [
           90,
           117668,
           0.0827227429940155,
           12554.69274242066
          ],
          [
           30,
           98030,
           0.4111117138132285,
           16316.842905166694
          ],
          [
           34,
           119877,
           0.3054369951589357,
           15634.788286084158
          ],
          [
           34,
           98165,
           0.1741204938230648,
           15721.86284266975
          ],
          [
           29,
           99161,
           0.3079200040396055,
           15631.836772980836
          ],
          [
           35,
           105991,
           0.3433779781521022,
           16616.088239618915
          ],
          [
           34,
           102291,
           0.2478622761143138,
           15819.57760116052
          ],
          [
           33,
           114555,
           0.2792568364789493,
           13746.745438440072
          ],
          [
           88,
           123651,
           0.0290271402910519,
           13504.577571797936
          ],
          [
           29,
           111426,
           0.4002811559385194,
           14352.643773230728
          ],
          [
           33,
           105667,
           0.2507508056238616,
           12869.761073905089
          ],
          [
           34,
           103428,
           0.2474244093916155,
           13791.035761571968
          ],
          [
           35,
           106588,
           0.3422142051018276,
           15648.65667046098
          ],
          [
           32,
           106543,
           0.3107432443044589,
           14337.288328489092
          ],
          [
           28,
           109075,
           0.3627619606240113,
           14082.458238005996
          ],
          [
           30,
           107525,
           0.2948164301396663,
           12702.847385049916
          ],
          [
           36,
           96336,
           0.2880975671929816,
           15286.769335194169
          ],
          [
           33,
           100275,
           0.3630856827120957,
           13735.43874238108
          ],
          [
           35,
           101691,
           0.3491110181825554,
           14152.671689505803
          ],
          [
           43,
           101641,
           0.3819838041034955,
           14424.09799559298
          ],
          [
           31,
           105826,
           0.2862743235826754,
           13856.805832195869
          ],
          [
           83,
           117347,
           0.1556940923286098,
           15086.701120471578
          ],
          [
           31,
           111449,
           0.2941062030828216,
           13929.62155143948
          ]
         ],
         "hovertemplate": "Cluster=%{x}<br>Age=%{customdata[0]}<br>Income=%{customdata[1]}<br>SpendingScore=%{customdata[2]}<br>Savings=%{customdata[3]}<extra></extra>",
         "legendgroup": "Cluster 2",
         "marker": {
          "color": "#00cc96"
         },
         "name": "Cluster 2",
         "notched": true,
         "offsetgroup": "Cluster 2",
         "showlegend": false,
         "type": "box",
         "x": [
          "Cluster 2",
          "Cluster 2",
          "Cluster 2",
          "Cluster 2",
          "Cluster 2",
          "Cluster 2",
          "Cluster 2",
          "Cluster 2",
          "Cluster 2",
          "Cluster 2",
          "Cluster 2",
          "Cluster 2",
          "Cluster 2",
          "Cluster 2",
          "Cluster 2",
          "Cluster 2",
          "Cluster 2",
          "Cluster 2",
          "Cluster 2",
          "Cluster 2",
          "Cluster 2",
          "Cluster 2",
          "Cluster 2",
          "Cluster 2",
          "Cluster 2",
          "Cluster 2",
          "Cluster 2",
          "Cluster 2",
          "Cluster 2",
          "Cluster 2",
          "Cluster 2",
          "Cluster 2",
          "Cluster 2",
          "Cluster 2",
          "Cluster 2",
          "Cluster 2",
          "Cluster 2",
          "Cluster 2",
          "Cluster 2",
          "Cluster 2",
          "Cluster 2",
          "Cluster 2",
          "Cluster 2",
          "Cluster 2",
          "Cluster 2",
          "Cluster 2",
          "Cluster 2",
          "Cluster 2",
          "Cluster 2",
          "Cluster 2",
          "Cluster 2",
          "Cluster 2",
          "Cluster 2",
          "Cluster 2",
          "Cluster 2",
          "Cluster 2",
          "Cluster 2",
          "Cluster 2",
          "Cluster 2",
          "Cluster 2",
          "Cluster 2",
          "Cluster 2",
          "Cluster 2",
          "Cluster 2",
          "Cluster 2",
          "Cluster 2",
          "Cluster 2",
          "Cluster 2",
          "Cluster 2",
          "Cluster 2",
          "Cluster 2",
          "Cluster 2",
          "Cluster 2",
          "Cluster 2",
          "Cluster 2",
          "Cluster 2",
          "Cluster 2",
          "Cluster 2",
          "Cluster 2",
          "Cluster 2",
          "Cluster 2",
          "Cluster 2",
          "Cluster 2",
          "Cluster 2",
          "Cluster 2",
          "Cluster 2",
          "Cluster 2",
          "Cluster 2",
          "Cluster 2",
          "Cluster 2",
          "Cluster 2",
          "Cluster 2",
          "Cluster 2",
          "Cluster 2",
          "Cluster 2",
          "Cluster 2",
          "Cluster 2",
          "Cluster 2",
          "Cluster 2",
          "Cluster 2",
          "Cluster 2",
          "Cluster 2",
          "Cluster 2",
          "Cluster 2",
          "Cluster 2",
          "Cluster 2",
          "Cluster 2",
          "Cluster 2",
          "Cluster 2",
          "Cluster 2",
          "Cluster 2",
          "Cluster 2",
          "Cluster 2",
          "Cluster 2",
          "Cluster 2",
          "Cluster 2",
          "Cluster 2",
          "Cluster 2",
          "Cluster 2",
          "Cluster 2",
          "Cluster 2",
          "Cluster 2",
          "Cluster 2",
          "Cluster 2",
          "Cluster 2",
          "Cluster 2",
          "Cluster 2",
          "Cluster 2",
          "Cluster 2",
          "Cluster 2",
          "Cluster 2",
          "Cluster 2",
          "Cluster 2",
          "Cluster 2",
          "Cluster 2",
          "Cluster 2",
          "Cluster 2",
          "Cluster 2",
          "Cluster 2",
          "Cluster 2",
          "Cluster 2",
          "Cluster 2",
          "Cluster 2",
          "Cluster 2",
          "Cluster 2",
          "Cluster 2",
          "Cluster 2",
          "Cluster 2"
         ],
         "xaxis": "x2",
         "yaxis": "y2"
        },
        {
         "alignmentgroup": "True",
         "bingroup": "x",
         "hovertemplate": "Cluster=%{x}<br>count=%{y}<extra></extra>",
         "legendgroup": "Cluster 3",
         "marker": {
          "color": "#ab63fa",
          "opacity": 0.7,
          "pattern": {
           "shape": ""
          }
         },
         "name": "Cluster 3",
         "offsetgroup": "Cluster 3",
         "orientation": "v",
         "showlegend": true,
         "type": "histogram",
         "x": [
          "Cluster 3",
          "Cluster 3",
          "Cluster 3",
          "Cluster 3",
          "Cluster 3",
          "Cluster 3",
          "Cluster 3",
          "Cluster 3",
          "Cluster 3",
          "Cluster 3",
          "Cluster 3",
          "Cluster 3",
          "Cluster 3",
          "Cluster 3",
          "Cluster 3",
          "Cluster 3",
          "Cluster 3",
          "Cluster 3",
          "Cluster 3",
          "Cluster 3",
          "Cluster 3",
          "Cluster 3",
          "Cluster 3",
          "Cluster 3",
          "Cluster 3",
          "Cluster 3",
          "Cluster 3",
          "Cluster 3",
          "Cluster 3",
          "Cluster 3",
          "Cluster 3",
          "Cluster 3",
          "Cluster 3",
          "Cluster 3",
          "Cluster 3",
          "Cluster 3",
          "Cluster 3",
          "Cluster 3",
          "Cluster 3",
          "Cluster 3",
          "Cluster 3",
          "Cluster 3",
          "Cluster 3",
          "Cluster 3"
         ],
         "xaxis": "x",
         "yaxis": "y"
        },
        {
         "alignmentgroup": "True",
         "customdata": [
          [
           26,
           131827,
           0.8807194909406801,
           4352.699304837541
          ],
          [
           26,
           125662,
           0.9268183658411524,
           6089.47832250152
          ],
          [
           26,
           123005,
           0.9845261943505972,
           4371.23473281147
          ],
          [
           25,
           131009,
           0.8640569016468125,
           4792.426581212785
          ],
          [
           20,
           129469,
           0.9399954311014268,
           5522.573424346325
          ],
          [
           24,
           136644,
           0.8716976842508705,
           1617.2257000775644
          ],
          [
           24,
           134389,
           0.9388521378701832,
           4573.60634580409
          ],
          [
           29,
           142000,
           0.9400873084125808,
           5349.821181717665
          ],
          [
           31,
           122924,
           0.89046022417733,
           3071.9445761529696
          ],
          [
           23,
           129937,
           0.8727356634334804,
           4102.065424707484
          ],
          [
           26,
           127320,
           0.8250298045601994,
           5495.642137901323
          ],
          [
           22,
           120525,
           1,
           5495.165732288548
          ],
          [
           28,
           127699,
           0.8814245468734898,
           5490.8149556706885
          ],
          [
           28,
           121216,
           0.8569692823607705,
           5349.065446955783
          ],
          [
           28,
           123229,
           0.8733219541371664,
           610.4462190811464
          ],
          [
           17,
           136255,
           0.935876103673024,
           4126.22665140887
          ],
          [
           25,
           130361,
           0.9254385568124625,
           4691.55213906238
          ],
          [
           21,
           123678,
           0.8320252689431032,
           2838.815820835909
          ],
          [
           25,
           128625,
           0.8167389887954251,
           4914.117127206948
          ],
          [
           18,
           130813,
           0.890891247267583,
           5256.434559627984
          ],
          [
           24,
           130974,
           0.9118386021444842,
           4420.0727101369375
          ],
          [
           24,
           127352,
           0.9054521594192038,
           2961.716874324024
          ],
          [
           25,
           138021,
           0.944017175810026,
           3005.577482475175
          ],
          [
           29,
           122264,
           0.8985788437238403,
           2494.55627432471
          ],
          [
           21,
           129726,
           0.9517923119702948,
           4550.799521687883
          ],
          [
           20,
           122581,
           0.8940806156500202,
           4444.447684252053
          ],
          [
           27,
           125008,
           0.9596454072349518,
           2963.637708058779
          ],
          [
           27,
           122671,
           0.910107112831516,
           4206.28723870951
          ],
          [
           28,
           129019,
           0.9308319590820414,
           3016.8206434862623
          ],
          [
           17,
           134966,
           0.9072421746334024,
           4128.044795832437
          ],
          [
           23,
           126500,
           0.8650328592458483,
           3270.1504344070872
          ],
          [
           23,
           138443,
           0.9226565539031124,
           3297.058843994153
          ],
          [
           26,
           126617,
           0.8770521049168103,
           2913.368146562765
          ],
          [
           18,
           123718,
           0.8065528615489801,
           4420.445820614172
          ],
          [
           22,
           132948,
           0.8898001728484242,
           2839.7863574778585
          ],
          [
           24,
           129087,
           0.8271179432765905,
           3290.829468618805
          ],
          [
           30,
           122788,
           0.8728724057273831,
           5706.149573297764
          ],
          [
           20,
           129142,
           0.8870519941988757,
           5603.121027746489
          ],
          [
           25,
           130934,
           0.9137660194970426,
           3942.389134492165
          ],
          [
           17,
           123828,
           0.9420129076091708,
           3798.8403998790254
          ],
          [
           22,
           134209,
           0.8706980046008759,
           5138.109568643242
          ],
          [
           28,
           123153,
           0.9842407862639496,
           3697.51364538533
          ],
          [
           24,
           134384,
           0.8747208244890404,
           3731.339761444919
          ],
          [
           28,
           117108,
           0.857078493256913,
           4749.879237491619
          ]
         ],
         "hovertemplate": "Cluster=%{x}<br>Age=%{customdata[0]}<br>Income=%{customdata[1]}<br>SpendingScore=%{customdata[2]}<br>Savings=%{customdata[3]}<extra></extra>",
         "legendgroup": "Cluster 3",
         "marker": {
          "color": "#ab63fa"
         },
         "name": "Cluster 3",
         "notched": true,
         "offsetgroup": "Cluster 3",
         "showlegend": false,
         "type": "box",
         "x": [
          "Cluster 3",
          "Cluster 3",
          "Cluster 3",
          "Cluster 3",
          "Cluster 3",
          "Cluster 3",
          "Cluster 3",
          "Cluster 3",
          "Cluster 3",
          "Cluster 3",
          "Cluster 3",
          "Cluster 3",
          "Cluster 3",
          "Cluster 3",
          "Cluster 3",
          "Cluster 3",
          "Cluster 3",
          "Cluster 3",
          "Cluster 3",
          "Cluster 3",
          "Cluster 3",
          "Cluster 3",
          "Cluster 3",
          "Cluster 3",
          "Cluster 3",
          "Cluster 3",
          "Cluster 3",
          "Cluster 3",
          "Cluster 3",
          "Cluster 3",
          "Cluster 3",
          "Cluster 3",
          "Cluster 3",
          "Cluster 3",
          "Cluster 3",
          "Cluster 3",
          "Cluster 3",
          "Cluster 3",
          "Cluster 3",
          "Cluster 3",
          "Cluster 3",
          "Cluster 3",
          "Cluster 3",
          "Cluster 3"
         ],
         "xaxis": "x2",
         "yaxis": "y2"
        }
       ],
       "layout": {
        "barmode": "relative",
        "height": 600,
        "legend": {
         "title": {
          "text": "Cluster"
         },
         "tracegroupgap": 0
        },
        "margin": {
         "t": 60
        },
        "template": {
         "data": {
          "bar": [
           {
            "error_x": {
             "color": "#2a3f5f"
            },
            "error_y": {
             "color": "#2a3f5f"
            },
            "marker": {
             "line": {
              "color": "#E5ECF6",
              "width": 0.5
             },
             "pattern": {
              "fillmode": "overlay",
              "size": 10,
              "solidity": 0.2
             }
            },
            "type": "bar"
           }
          ],
          "barpolar": [
           {
            "marker": {
             "line": {
              "color": "#E5ECF6",
              "width": 0.5
             },
             "pattern": {
              "fillmode": "overlay",
              "size": 10,
              "solidity": 0.2
             }
            },
            "type": "barpolar"
           }
          ],
          "carpet": [
           {
            "aaxis": {
             "endlinecolor": "#2a3f5f",
             "gridcolor": "white",
             "linecolor": "white",
             "minorgridcolor": "white",
             "startlinecolor": "#2a3f5f"
            },
            "baxis": {
             "endlinecolor": "#2a3f5f",
             "gridcolor": "white",
             "linecolor": "white",
             "minorgridcolor": "white",
             "startlinecolor": "#2a3f5f"
            },
            "type": "carpet"
           }
          ],
          "choropleth": [
           {
            "colorbar": {
             "outlinewidth": 0,
             "ticks": ""
            },
            "type": "choropleth"
           }
          ],
          "contour": [
           {
            "colorbar": {
             "outlinewidth": 0,
             "ticks": ""
            },
            "colorscale": [
             [
              0,
              "#0d0887"
             ],
             [
              0.1111111111111111,
              "#46039f"
             ],
             [
              0.2222222222222222,
              "#7201a8"
             ],
             [
              0.3333333333333333,
              "#9c179e"
             ],
             [
              0.4444444444444444,
              "#bd3786"
             ],
             [
              0.5555555555555556,
              "#d8576b"
             ],
             [
              0.6666666666666666,
              "#ed7953"
             ],
             [
              0.7777777777777778,
              "#fb9f3a"
             ],
             [
              0.8888888888888888,
              "#fdca26"
             ],
             [
              1,
              "#f0f921"
             ]
            ],
            "type": "contour"
           }
          ],
          "contourcarpet": [
           {
            "colorbar": {
             "outlinewidth": 0,
             "ticks": ""
            },
            "type": "contourcarpet"
           }
          ],
          "heatmap": [
           {
            "colorbar": {
             "outlinewidth": 0,
             "ticks": ""
            },
            "colorscale": [
             [
              0,
              "#0d0887"
             ],
             [
              0.1111111111111111,
              "#46039f"
             ],
             [
              0.2222222222222222,
              "#7201a8"
             ],
             [
              0.3333333333333333,
              "#9c179e"
             ],
             [
              0.4444444444444444,
              "#bd3786"
             ],
             [
              0.5555555555555556,
              "#d8576b"
             ],
             [
              0.6666666666666666,
              "#ed7953"
             ],
             [
              0.7777777777777778,
              "#fb9f3a"
             ],
             [
              0.8888888888888888,
              "#fdca26"
             ],
             [
              1,
              "#f0f921"
             ]
            ],
            "type": "heatmap"
           }
          ],
          "heatmapgl": [
           {
            "colorbar": {
             "outlinewidth": 0,
             "ticks": ""
            },
            "colorscale": [
             [
              0,
              "#0d0887"
             ],
             [
              0.1111111111111111,
              "#46039f"
             ],
             [
              0.2222222222222222,
              "#7201a8"
             ],
             [
              0.3333333333333333,
              "#9c179e"
             ],
             [
              0.4444444444444444,
              "#bd3786"
             ],
             [
              0.5555555555555556,
              "#d8576b"
             ],
             [
              0.6666666666666666,
              "#ed7953"
             ],
             [
              0.7777777777777778,
              "#fb9f3a"
             ],
             [
              0.8888888888888888,
              "#fdca26"
             ],
             [
              1,
              "#f0f921"
             ]
            ],
            "type": "heatmapgl"
           }
          ],
          "histogram": [
           {
            "marker": {
             "pattern": {
              "fillmode": "overlay",
              "size": 10,
              "solidity": 0.2
             }
            },
            "type": "histogram"
           }
          ],
          "histogram2d": [
           {
            "colorbar": {
             "outlinewidth": 0,
             "ticks": ""
            },
            "colorscale": [
             [
              0,
              "#0d0887"
             ],
             [
              0.1111111111111111,
              "#46039f"
             ],
             [
              0.2222222222222222,
              "#7201a8"
             ],
             [
              0.3333333333333333,
              "#9c179e"
             ],
             [
              0.4444444444444444,
              "#bd3786"
             ],
             [
              0.5555555555555556,
              "#d8576b"
             ],
             [
              0.6666666666666666,
              "#ed7953"
             ],
             [
              0.7777777777777778,
              "#fb9f3a"
             ],
             [
              0.8888888888888888,
              "#fdca26"
             ],
             [
              1,
              "#f0f921"
             ]
            ],
            "type": "histogram2d"
           }
          ],
          "histogram2dcontour": [
           {
            "colorbar": {
             "outlinewidth": 0,
             "ticks": ""
            },
            "colorscale": [
             [
              0,
              "#0d0887"
             ],
             [
              0.1111111111111111,
              "#46039f"
             ],
             [
              0.2222222222222222,
              "#7201a8"
             ],
             [
              0.3333333333333333,
              "#9c179e"
             ],
             [
              0.4444444444444444,
              "#bd3786"
             ],
             [
              0.5555555555555556,
              "#d8576b"
             ],
             [
              0.6666666666666666,
              "#ed7953"
             ],
             [
              0.7777777777777778,
              "#fb9f3a"
             ],
             [
              0.8888888888888888,
              "#fdca26"
             ],
             [
              1,
              "#f0f921"
             ]
            ],
            "type": "histogram2dcontour"
           }
          ],
          "mesh3d": [
           {
            "colorbar": {
             "outlinewidth": 0,
             "ticks": ""
            },
            "type": "mesh3d"
           }
          ],
          "parcoords": [
           {
            "line": {
             "colorbar": {
              "outlinewidth": 0,
              "ticks": ""
             }
            },
            "type": "parcoords"
           }
          ],
          "pie": [
           {
            "automargin": true,
            "type": "pie"
           }
          ],
          "scatter": [
           {
            "marker": {
             "colorbar": {
              "outlinewidth": 0,
              "ticks": ""
             }
            },
            "type": "scatter"
           }
          ],
          "scatter3d": [
           {
            "line": {
             "colorbar": {
              "outlinewidth": 0,
              "ticks": ""
             }
            },
            "marker": {
             "colorbar": {
              "outlinewidth": 0,
              "ticks": ""
             }
            },
            "type": "scatter3d"
           }
          ],
          "scattercarpet": [
           {
            "marker": {
             "colorbar": {
              "outlinewidth": 0,
              "ticks": ""
             }
            },
            "type": "scattercarpet"
           }
          ],
          "scattergeo": [
           {
            "marker": {
             "colorbar": {
              "outlinewidth": 0,
              "ticks": ""
             }
            },
            "type": "scattergeo"
           }
          ],
          "scattergl": [
           {
            "marker": {
             "colorbar": {
              "outlinewidth": 0,
              "ticks": ""
             }
            },
            "type": "scattergl"
           }
          ],
          "scattermapbox": [
           {
            "marker": {
             "colorbar": {
              "outlinewidth": 0,
              "ticks": ""
             }
            },
            "type": "scattermapbox"
           }
          ],
          "scatterpolar": [
           {
            "marker": {
             "colorbar": {
              "outlinewidth": 0,
              "ticks": ""
             }
            },
            "type": "scatterpolar"
           }
          ],
          "scatterpolargl": [
           {
            "marker": {
             "colorbar": {
              "outlinewidth": 0,
              "ticks": ""
             }
            },
            "type": "scatterpolargl"
           }
          ],
          "scatterternary": [
           {
            "marker": {
             "colorbar": {
              "outlinewidth": 0,
              "ticks": ""
             }
            },
            "type": "scatterternary"
           }
          ],
          "surface": [
           {
            "colorbar": {
             "outlinewidth": 0,
             "ticks": ""
            },
            "colorscale": [
             [
              0,
              "#0d0887"
             ],
             [
              0.1111111111111111,
              "#46039f"
             ],
             [
              0.2222222222222222,
              "#7201a8"
             ],
             [
              0.3333333333333333,
              "#9c179e"
             ],
             [
              0.4444444444444444,
              "#bd3786"
             ],
             [
              0.5555555555555556,
              "#d8576b"
             ],
             [
              0.6666666666666666,
              "#ed7953"
             ],
             [
              0.7777777777777778,
              "#fb9f3a"
             ],
             [
              0.8888888888888888,
              "#fdca26"
             ],
             [
              1,
              "#f0f921"
             ]
            ],
            "type": "surface"
           }
          ],
          "table": [
           {
            "cells": {
             "fill": {
              "color": "#EBF0F8"
             },
             "line": {
              "color": "white"
             }
            },
            "header": {
             "fill": {
              "color": "#C8D4E3"
             },
             "line": {
              "color": "white"
             }
            },
            "type": "table"
           }
          ]
         },
         "layout": {
          "annotationdefaults": {
           "arrowcolor": "#2a3f5f",
           "arrowhead": 0,
           "arrowwidth": 1
          },
          "autotypenumbers": "strict",
          "coloraxis": {
           "colorbar": {
            "outlinewidth": 0,
            "ticks": ""
           }
          },
          "colorscale": {
           "diverging": [
            [
             0,
             "#8e0152"
            ],
            [
             0.1,
             "#c51b7d"
            ],
            [
             0.2,
             "#de77ae"
            ],
            [
             0.3,
             "#f1b6da"
            ],
            [
             0.4,
             "#fde0ef"
            ],
            [
             0.5,
             "#f7f7f7"
            ],
            [
             0.6,
             "#e6f5d0"
            ],
            [
             0.7,
             "#b8e186"
            ],
            [
             0.8,
             "#7fbc41"
            ],
            [
             0.9,
             "#4d9221"
            ],
            [
             1,
             "#276419"
            ]
           ],
           "sequential": [
            [
             0,
             "#0d0887"
            ],
            [
             0.1111111111111111,
             "#46039f"
            ],
            [
             0.2222222222222222,
             "#7201a8"
            ],
            [
             0.3333333333333333,
             "#9c179e"
            ],
            [
             0.4444444444444444,
             "#bd3786"
            ],
            [
             0.5555555555555556,
             "#d8576b"
            ],
            [
             0.6666666666666666,
             "#ed7953"
            ],
            [
             0.7777777777777778,
             "#fb9f3a"
            ],
            [
             0.8888888888888888,
             "#fdca26"
            ],
            [
             1,
             "#f0f921"
            ]
           ],
           "sequentialminus": [
            [
             0,
             "#0d0887"
            ],
            [
             0.1111111111111111,
             "#46039f"
            ],
            [
             0.2222222222222222,
             "#7201a8"
            ],
            [
             0.3333333333333333,
             "#9c179e"
            ],
            [
             0.4444444444444444,
             "#bd3786"
            ],
            [
             0.5555555555555556,
             "#d8576b"
            ],
            [
             0.6666666666666666,
             "#ed7953"
            ],
            [
             0.7777777777777778,
             "#fb9f3a"
            ],
            [
             0.8888888888888888,
             "#fdca26"
            ],
            [
             1,
             "#f0f921"
            ]
           ]
          },
          "colorway": [
           "#636efa",
           "#EF553B",
           "#00cc96",
           "#ab63fa",
           "#FFA15A",
           "#19d3f3",
           "#FF6692",
           "#B6E880",
           "#FF97FF",
           "#FECB52"
          ],
          "font": {
           "color": "#2a3f5f"
          },
          "geo": {
           "bgcolor": "white",
           "lakecolor": "white",
           "landcolor": "#E5ECF6",
           "showlakes": true,
           "showland": true,
           "subunitcolor": "white"
          },
          "hoverlabel": {
           "align": "left"
          },
          "hovermode": "closest",
          "mapbox": {
           "style": "light"
          },
          "paper_bgcolor": "white",
          "plot_bgcolor": "#E5ECF6",
          "polar": {
           "angularaxis": {
            "gridcolor": "white",
            "linecolor": "white",
            "ticks": ""
           },
           "bgcolor": "#E5ECF6",
           "radialaxis": {
            "gridcolor": "white",
            "linecolor": "white",
            "ticks": ""
           }
          },
          "scene": {
           "xaxis": {
            "backgroundcolor": "#E5ECF6",
            "gridcolor": "white",
            "gridwidth": 2,
            "linecolor": "white",
            "showbackground": true,
            "ticks": "",
            "zerolinecolor": "white"
           },
           "yaxis": {
            "backgroundcolor": "#E5ECF6",
            "gridcolor": "white",
            "gridwidth": 2,
            "linecolor": "white",
            "showbackground": true,
            "ticks": "",
            "zerolinecolor": "white"
           },
           "zaxis": {
            "backgroundcolor": "#E5ECF6",
            "gridcolor": "white",
            "gridwidth": 2,
            "linecolor": "white",
            "showbackground": true,
            "ticks": "",
            "zerolinecolor": "white"
           }
          },
          "shapedefaults": {
           "line": {
            "color": "#2a3f5f"
           }
          },
          "ternary": {
           "aaxis": {
            "gridcolor": "white",
            "linecolor": "white",
            "ticks": ""
           },
           "baxis": {
            "gridcolor": "white",
            "linecolor": "white",
            "ticks": ""
           },
           "bgcolor": "#E5ECF6",
           "caxis": {
            "gridcolor": "white",
            "linecolor": "white",
            "ticks": ""
           }
          },
          "title": {
           "x": 0.05
          },
          "xaxis": {
           "automargin": true,
           "gridcolor": "white",
           "linecolor": "white",
           "ticks": "",
           "title": {
            "standoff": 15
           },
           "zerolinecolor": "white",
           "zerolinewidth": 2
          },
          "yaxis": {
           "automargin": true,
           "gridcolor": "white",
           "linecolor": "white",
           "ticks": "",
           "title": {
            "standoff": 15
           },
           "zerolinecolor": "white",
           "zerolinewidth": 2
          }
         }
        },
        "xaxis": {
         "anchor": "y",
         "categoryarray": [
          "Cluster 0",
          "Cluster 1",
          "Cluster 2",
          "Cluster 3"
         ],
         "categoryorder": "array",
         "domain": [
          0,
          1
         ],
         "title": {
          "text": "Cluster"
         }
        },
        "xaxis2": {
         "anchor": "y2",
         "domain": [
          0,
          1
         ],
         "matches": "x",
         "showgrid": true,
         "showticklabels": false
        },
        "yaxis": {
         "anchor": "x",
         "domain": [
          0,
          0.7326
         ],
         "title": {
          "text": "count"
         }
        },
        "yaxis2": {
         "anchor": "x2",
         "domain": [
          0.7426,
          1
         ],
         "matches": "y2",
         "showgrid": false,
         "showline": false,
         "showticklabels": false,
         "ticks": ""
        }
       }
      }
     },
     "metadata": {},
     "output_type": "display_data"
    }
   ],
   "source": [
    "plot_model(kmeans, plot = 'distribution') #to see size of clusters"
   ]
  },
  {
   "cell_type": "code",
   "execution_count": 13,
   "metadata": {},
   "outputs": [
    {
     "data": {
      "application/vnd.plotly.v1+json": {
       "config": {
        "plotlyServerURL": "https://plot.ly"
       },
       "data": [
        {
         "alignmentgroup": "True",
         "bingroup": "x",
         "hovertemplate": "Cluster=Cluster 0<br>Income=%{x}<br>count=%{y}<extra></extra>",
         "legendgroup": "Cluster 0",
         "marker": {
          "color": "#636efa",
          "opacity": 0.7,
          "pattern": {
           "shape": ""
          }
         },
         "name": "Cluster 0",
         "offsetgroup": "Cluster 0",
         "orientation": "v",
         "showlegend": true,
         "type": "histogram",
         "x": [
          24578,
          33636,
          27693,
          32494,
          20440,
          30178,
          26424,
          30481,
          25252,
          27169,
          28779,
          23854,
          36031,
          22602,
          17760,
          28408,
          35484,
          29204,
          33188,
          27179,
          37503,
          29029,
          18812,
          33610,
          35998,
          32708,
          17851,
          24221,
          26882,
          27384,
          18162,
          28802,
          26355,
          31096,
          36032,
          35877,
          22286,
          33303,
          23400,
          15695,
          12038,
          28409,
          18724,
          28497,
          33170,
          35051,
          38201,
          29610,
          33550,
          18244,
          29909,
          20292,
          27771,
          34529,
          35297,
          15671,
          30812,
          28585,
          26665,
          28352,
          30178,
          31994,
          32915,
          30756,
          27038,
          21250,
          27169,
          22288,
          32421,
          19510,
          36991,
          24105,
          24520,
          23322,
          34384,
          30102,
          18937,
          25886,
          16950,
          24376,
          28160,
          33490,
          27705,
          34802,
          33251,
          27271,
          34524,
          22782,
          19202,
          29492,
          38923,
          28401,
          24391,
          27599,
          28727,
          25566,
          19934,
          33311,
          31366,
          22616,
          30148,
          22008,
          38042,
          17672,
          26917,
          31481,
          46910,
          30794,
          20681,
          29750,
          26351,
          23042,
          36639,
          36463,
          20704,
          33259,
          23206,
          24370,
          22484,
          22672,
          27544,
          34425,
          26940,
          46977,
          26045,
          26127,
          18459,
          29082,
          17388,
          34001,
          34634,
          42018,
          28777,
          17946,
          20719,
          42592,
          26092,
          21652,
          27168,
          30721,
          28165
         ],
         "xaxis": "x",
         "yaxis": "y"
        },
        {
         "alignmentgroup": "True",
         "customdata": [
          [
           87,
           0.3761654587506353,
           17789.247521813828,
           "Cluster 0"
          ],
          [
           82,
           0.3717829785401914,
           17866.83359752812,
           "Cluster 0"
          ],
          [
           84,
           0.3670629731870412,
           17879.558905551898,
           "Cluster 0"
          ],
          [
           82,
           0.3273154026360584,
           16799.44426666245,
           "Cluster 0"
          ],
          [
           93,
           0.2975730342292497,
           17406.074017844054,
           "Cluster 0"
          ],
          [
           87,
           0.2793159778940049,
           16123.070750832,
           "Cluster 0"
          ],
          [
           91,
           0.3193886529047028,
           16501.46877669979,
           "Cluster 0"
          ],
          [
           84,
           0.3970228936031003,
           16837.205964813103,
           "Cluster 0"
          ],
          [
           89,
           0.3217652209320886,
           16539.364186086335,
           "Cluster 0"
          ],
          [
           94,
           0.3141730453838618,
           15061.77621514237,
           "Cluster 0"
          ],
          [
           86,
           0.336523330181688,
           16047.268331461928,
           "Cluster 0"
          ],
          [
           94,
           0.3144466826182581,
           16828.410118749016,
           "Cluster 0"
          ],
          [
           86,
           0.2401766350783482,
           16945.326244896307,
           "Cluster 0"
          ],
          [
           88,
           0.3567448288797468,
           16740.343496726702,
           "Cluster 0"
          ],
          [
           87,
           0.3487775484305074,
           16869.507130301474,
           "Cluster 0"
          ],
          [
           85,
           0.3580738593579665,
           15063.335797441836,
           "Cluster 0"
          ],
          [
           92,
           0.3970636039704499,
           17324.045112814925,
           "Cluster 0"
          ],
          [
           85,
           0.3254914498834959,
           16918.90346036913,
           "Cluster 0"
          ],
          [
           90,
           0.2488100687902313,
           15866.913937696345,
           "Cluster 0"
          ],
          [
           84,
           0.3474234168306904,
           15612.6285477669,
           "Cluster 0"
          ],
          [
           90,
           0.3577883144645876,
           17258.57497274541,
           "Cluster 0"
          ],
          [
           90,
           0.303758971334624,
           15592.991530526488,
           "Cluster 0"
          ],
          [
           86,
           0.3415457603870515,
           16157.734142403424,
           "Cluster 0"
          ],
          [
           82,
           0.3012532342412973,
           17755.664940228176,
           "Cluster 0"
          ],
          [
           86,
           0.3216356471662456,
           20000,
           "Cluster 0"
          ],
          [
           88,
           0.3682153159958089,
           16711.0679804242,
           "Cluster 0"
          ],
          [
           88,
           0.2898659849627828,
           17472.470686173863,
           "Cluster 0"
          ],
          [
           82,
           0.4735496605323542,
           16251.75944521267,
           "Cluster 0"
          ],
          [
           83,
           0.347979632373841,
           17775.22817123954,
           "Cluster 0"
          ],
          [
           84,
           0.3136467169954889,
           16734.672754073246,
           "Cluster 0"
          ],
          [
           83,
           0.3013734548863508,
           16029.46921391427,
           "Cluster 0"
          ],
          [
           88,
           0.4083878319987072,
           16293.038332542192,
           "Cluster 0"
          ],
          [
           85,
           0.3423406666949811,
           17971.19363998381,
           "Cluster 0"
          ],
          [
           89,
           0.2785878455435617,
           17736.94259966666,
           "Cluster 0"
          ],
          [
           92,
           0.3369683066109672,
           17348.5998812573,
           "Cluster 0"
          ],
          [
           92,
           0.3668917159124752,
           17287.907016982324,
           "Cluster 0"
          ],
          [
           84,
           0.3955062459001081,
           17886.53737311577,
           "Cluster 0"
          ],
          [
           88,
           0.3997156855452149,
           15232.598068845287,
           "Cluster 0"
          ],
          [
           86,
           0.2780355384470266,
           15215.28126373834,
           "Cluster 0"
          ],
          [
           86,
           0.2571749664748936,
           17366.186263516567,
           "Cluster 0"
          ],
          [
           91,
           0.3498032558856572,
           16464.960504438823,
           "Cluster 0"
          ],
          [
           88,
           0.3056535336752106,
           17326.175608364214,
           "Cluster 0"
          ],
          [
           92,
           0.3278623148176303,
           15341.381109594677,
           "Cluster 0"
          ],
          [
           83,
           0.3938023931664612,
           15510.112981164848,
           "Cluster 0"
          ],
          [
           83,
           0.2410777442746463,
           16620.010473689304,
           "Cluster 0"
          ],
          [
           88,
           0.3860515062876168,
           17593.24679258195,
           "Cluster 0"
          ],
          [
           79,
           0.3697828881534748,
           16393.395697309446,
           "Cluster 0"
          ],
          [
           85,
           0.3181352453742131,
           18475.487468080937,
           "Cluster 0"
          ],
          [
           92,
           0.3685156285793065,
           17106.32591058189,
           "Cluster 0"
          ],
          [
           84,
           0.2926633744644019,
           17815.348406878897,
           "Cluster 0"
          ],
          [
           87,
           0.3421516318130468,
           18142.232746738577,
           "Cluster 0"
          ],
          [
           89,
           0.3121481952107594,
           16023.4456584523,
           "Cluster 0"
          ],
          [
           94,
           0.3025032231546656,
           17303.957194969433,
           "Cluster 0"
          ],
          [
           83,
           0.3172075114569807,
           16517.208746949746,
           "Cluster 0"
          ],
          [
           90,
           0.3551490190566364,
           16091.401954058958,
           "Cluster 0"
          ],
          [
           87,
           0.3507250914944152,
           14326.601120246103,
           "Cluster 0"
          ],
          [
           87,
           0.3144631516753479,
           15238.118997598336,
           "Cluster 0"
          ],
          [
           88,
           0.3977396663840212,
           16725.841854363774,
           "Cluster 0"
          ],
          [
           87,
           0.4021456613889217,
           17376.914743318182,
           "Cluster 0"
          ],
          [
           94,
           0.3768757353168557,
           16798.886114738052,
           "Cluster 0"
          ],
          [
           90,
           0.2823512821567113,
           16182.8384364088,
           "Cluster 0"
          ],
          [
           86,
           0.2494769403551006,
           18210.088099070614,
           "Cluster 0"
          ],
          [
           92,
           0.3885749195868542,
           16694.706839244012,
           "Cluster 0"
          ],
          [
           91,
           0.3036980300982536,
           15492.004711465304,
           "Cluster 0"
          ],
          [
           95,
           0.3313520070109343,
           18126.577451151075,
           "Cluster 0"
          ],
          [
           85,
           0.3104101151420251,
           16033.971166673777,
           "Cluster 0"
          ],
          [
           88,
           0.2800595048614143,
           15260.635546195435,
           "Cluster 0"
          ],
          [
           90,
           0.2713268321051207,
           18434.099152391347,
           "Cluster 0"
          ],
          [
           79,
           0.3032762059432743,
           15319.46766227239,
           "Cluster 0"
          ],
          [
           88,
           0.3167510258154691,
           16529.20080632274,
           "Cluster 0"
          ],
          [
           91,
           0.2685979050949867,
           19047.77233878285,
           "Cluster 0"
          ],
          [
           84,
           0.2718090229374729,
           16524.902538052145,
           "Cluster 0"
          ],
          [
           89,
           0.4438327068456706,
           13556.9358834699,
           "Cluster 0"
          ],
          [
           87,
           0.3068211973464496,
           16131.267659393412,
           "Cluster 0"
          ],
          [
           83,
           0.3247186821733416,
           14783.3790857945,
           "Cluster 0"
          ],
          [
           87,
           0.3903905943444749,
           16330.081190027213,
           "Cluster 0"
          ],
          [
           94,
           0.3470950600753079,
           17739.776098377628,
           "Cluster 0"
          ],
          [
           91,
           0.3017537675837046,
           17266.045729118025,
           "Cluster 0"
          ],
          [
           91,
           0.32300404344763,
           17172.609400509067,
           "Cluster 0"
          ],
          [
           90,
           0.2812794569155435,
           15134.994226396466,
           "Cluster 0"
          ],
          [
           89,
           0.3388488510290433,
           15607.061781887898,
           "Cluster 0"
          ],
          [
           90,
           0.4199085281737912,
           17091.904228934392,
           "Cluster 0"
          ],
          [
           86,
           0.3293769514872405,
           17130.85610211788,
           "Cluster 0"
          ],
          [
           85,
           0.2987969233586417,
           16450.003270402787,
           "Cluster 0"
          ],
          [
           88,
           0.3043913649608802,
           18868.24161249696,
           "Cluster 0"
          ],
          [
           97,
           0.283922895270403,
           14928.165597390327,
           "Cluster 0"
          ],
          [
           89,
           0.348118273264174,
           14051.256515312789,
           "Cluster 0"
          ],
          [
           90,
           0.3563068710287742,
           15924.071707885843,
           "Cluster 0"
          ],
          [
           89,
           0.3819877440174351,
           16626.222361477227,
           "Cluster 0"
          ],
          [
           84,
           0.3336031402694437,
           17954.09505703969,
           "Cluster 0"
          ],
          [
           94,
           0.3302260180973432,
           16971.181554867213,
           "Cluster 0"
          ],
          [
           85,
           0.3694371368158696,
           15990.49413056604,
           "Cluster 0"
          ],
          [
           82,
           0.276101346355296,
           17053.03010738692,
           "Cluster 0"
          ],
          [
           85,
           0.2819950483303406,
           13470.970605037028,
           "Cluster 0"
          ],
          [
           83,
           0.3082630418510537,
           18205.33626089001,
           "Cluster 0"
          ],
          [
           87,
           0.3167603729756968,
           15188.058749407255,
           "Cluster 0"
          ],
          [
           93,
           0.2031402397953781,
           17969.693768505334,
           "Cluster 0"
          ],
          [
           89,
           0.376146968508639,
           17093.06995548225,
           "Cluster 0"
          ],
          [
           88,
           0.3796208481334848,
           16079.622699815933,
           "Cluster 0"
          ],
          [
           92,
           0.3228506824321553,
           17275.661313984565,
           "Cluster 0"
          ],
          [
           91,
           0.2773889467565771,
           15324.287405101715,
           "Cluster 0"
          ],
          [
           89,
           0.3819060693389532,
           16458.398097731257,
           "Cluster 0"
          ],
          [
           84,
           0.3660858718547989,
           17465.856285855403,
           "Cluster 0"
          ],
          [
           93,
           0.3032923688871533,
           18516.451810726718,
           "Cluster 0"
          ],
          [
           91,
           0.3767135304583465,
           17986.618644605885,
           "Cluster 0"
          ],
          [
           87,
           0.317423970601333,
           16180.68808203422,
           "Cluster 0"
          ],
          [
           87,
           0.3085616998317755,
           14789.14847617646,
           "Cluster 0"
          ],
          [
           85,
           0.2862292747117071,
           17096.39150937826,
           "Cluster 0"
          ],
          [
           91,
           0.3546791690549572,
           18401.08844474873,
           "Cluster 0"
          ],
          [
           91,
           0.2884703320713124,
           19201.119916275755,
           "Cluster 0"
          ],
          [
           88,
           0.3041682062164746,
           14035.91755354235,
           "Cluster 0"
          ],
          [
           87,
           0.3663120107544869,
           18149.035872923057,
           "Cluster 0"
          ],
          [
           91,
           0.3261988874784867,
           16275.703341192586,
           "Cluster 0"
          ],
          [
           84,
           0.3536209572557781,
           16563.37259114783,
           "Cluster 0"
          ],
          [
           84,
           0.3794963151514172,
           16816.911895743782,
           "Cluster 0"
          ],
          [
           90,
           0.377571058498228,
           15315.028503741696,
           "Cluster 0"
          ],
          [
           83,
           0.3212403632065312,
           16870.672003783384,
           "Cluster 0"
          ],
          [
           91,
           0.2963285713632805,
           16141.048981383728,
           "Cluster 0"
          ],
          [
           92,
           0.3317732623948493,
           18615.632589788456,
           "Cluster 0"
          ],
          [
           91,
           0.2710645345158168,
           15407.646761130874,
           "Cluster 0"
          ],
          [
           84,
           0.2309337663207005,
           18207.36169648481,
           "Cluster 0"
          ],
          [
           81,
           0.272609779232364,
           16262.623790655764,
           "Cluster 0"
          ],
          [
           89,
           0.3260051328059917,
           16555.159377159824,
           "Cluster 0"
          ],
          [
           86,
           0.2827283910152334,
           15628.957075805023,
           "Cluster 0"
          ],
          [
           87,
           0.3752921226023747,
           15903.558359374923,
           "Cluster 0"
          ],
          [
           89,
           0.3044743722681633,
           17194.828018777476,
           "Cluster 0"
          ],
          [
           87,
           0.2645499059687874,
           15637.59765457844,
           "Cluster 0"
          ],
          [
           91,
           0.2824885213712914,
           18794.488169074688,
           "Cluster 0"
          ],
          [
           88,
           0.4661894446652393,
           16698.6210372462,
           "Cluster 0"
          ],
          [
           88,
           0.337569323887528,
           15530.934134298665,
           "Cluster 0"
          ],
          [
           85,
           0.3690001696241634,
           16719.815875018445,
           "Cluster 0"
          ],
          [
           84,
           0.2979936021899302,
           16148.370454036614,
           "Cluster 0"
          ],
          [
           91,
           0.3241935550357819,
           17808.2662415687,
           "Cluster 0"
          ],
          [
           88,
           0.2696436303999441,
           16715.160017840968,
           "Cluster 0"
          ],
          [
           94,
           0.3364022697976639,
           16281.832273239006,
           "Cluster 0"
          ],
          [
           87,
           0.3552896820382759,
           18086.287157859304,
           "Cluster 0"
          ],
          [
           88,
           0.3128732065230775,
           17105.79392615357,
           "Cluster 0"
          ],
          [
           85,
           0.3184561372216806,
           14175.16988549895,
           "Cluster 0"
          ],
          [
           91,
           0.3322388165540652,
           15893.729773516614,
           "Cluster 0"
          ],
          [
           83,
           0.3311418077630257,
           17705.99238527814,
           "Cluster 0"
          ],
          [
           91,
           0.3036929225036061,
           17460.179350212424,
           "Cluster 0"
          ]
         ],
         "hovertemplate": "Cluster=%{customdata[3]}<br>Income=%{x}<br>Age=%{customdata[0]}<br>SpendingScore=%{customdata[1]}<br>Savings=%{customdata[2]}<extra></extra>",
         "legendgroup": "Cluster 0",
         "marker": {
          "color": "#636efa"
         },
         "name": "Cluster 0",
         "notched": true,
         "offsetgroup": "Cluster 0",
         "showlegend": false,
         "type": "box",
         "x": [
          24578,
          33636,
          27693,
          32494,
          20440,
          30178,
          26424,
          30481,
          25252,
          27169,
          28779,
          23854,
          36031,
          22602,
          17760,
          28408,
          35484,
          29204,
          33188,
          27179,
          37503,
          29029,
          18812,
          33610,
          35998,
          32708,
          17851,
          24221,
          26882,
          27384,
          18162,
          28802,
          26355,
          31096,
          36032,
          35877,
          22286,
          33303,
          23400,
          15695,
          12038,
          28409,
          18724,
          28497,
          33170,
          35051,
          38201,
          29610,
          33550,
          18244,
          29909,
          20292,
          27771,
          34529,
          35297,
          15671,
          30812,
          28585,
          26665,
          28352,
          30178,
          31994,
          32915,
          30756,
          27038,
          21250,
          27169,
          22288,
          32421,
          19510,
          36991,
          24105,
          24520,
          23322,
          34384,
          30102,
          18937,
          25886,
          16950,
          24376,
          28160,
          33490,
          27705,
          34802,
          33251,
          27271,
          34524,
          22782,
          19202,
          29492,
          38923,
          28401,
          24391,
          27599,
          28727,
          25566,
          19934,
          33311,
          31366,
          22616,
          30148,
          22008,
          38042,
          17672,
          26917,
          31481,
          46910,
          30794,
          20681,
          29750,
          26351,
          23042,
          36639,
          36463,
          20704,
          33259,
          23206,
          24370,
          22484,
          22672,
          27544,
          34425,
          26940,
          46977,
          26045,
          26127,
          18459,
          29082,
          17388,
          34001,
          34634,
          42018,
          28777,
          17946,
          20719,
          42592,
          26092,
          21652,
          27168,
          30721,
          28165
         ],
         "xaxis": "x2",
         "yaxis": "y2"
        },
        {
         "alignmentgroup": "True",
         "bingroup": "x",
         "hovertemplate": "Cluster=Cluster 1<br>Income=%{x}<br>count=%{y}<extra></extra>",
         "legendgroup": "Cluster 1",
         "marker": {
          "color": "#EF553B",
          "opacity": 0.7,
          "pattern": {
           "shape": ""
          }
         },
         "name": "Cluster 1",
         "offsetgroup": "Cluster 1",
         "orientation": "v",
         "showlegend": true,
         "type": "histogram",
         "x": [
          77648,
          76594,
          76831,
          77978,
          72055,
          85761,
          56875,
          69849,
          62886,
          69738,
          73516,
          73480,
          69460,
          80093,
          60493,
          78837,
          69115,
          56321,
          65313,
          75599,
          73057,
          73350,
          74430,
          78078,
          75495,
          80248,
          65942,
          65914,
          69326,
          73895,
          72588,
          71302,
          82526,
          71033,
          65700,
          63866,
          76410,
          80705,
          68842,
          74282,
          74576,
          74996,
          72571,
          72815,
          74460,
          71933,
          71436,
          65608,
          74373,
          68038,
          73495,
          69247,
          64768,
          78801,
          70054,
          64331,
          67346,
          67370,
          62650,
          64866,
          71229,
          74751,
          79969,
          67731,
          72060,
          70272,
          76573,
          65736,
          74014,
          77559,
          63846,
          78992,
          63596,
          65054,
          78761,
          64803,
          68944,
          62117,
          67988,
          71621,
          68463,
          67491,
          68698,
          71692,
          65340,
          69879,
          72027,
          71056,
          70676,
          70012,
          74117,
          84386,
          82199,
          60059,
          90422,
          76052,
          59243,
          62747,
          67030,
          70580,
          69408,
          65647,
          77101,
          75757,
          75332,
          78611,
          76364,
          69391,
          71672,
          78413,
          71050,
          80278,
          69655,
          72086,
          79794,
          68663,
          88361,
          69698,
          69741,
          70430,
          73245,
          81799,
          75078,
          69001,
          71171,
          68279,
          86484,
          67781,
          78635,
          80431,
          82343,
          77769,
          76955,
          80876,
          74340,
          73675,
          79470,
          74356,
          76667,
          66017,
          86283,
          70259,
          70663,
          63476,
          70369,
          76500,
          76057
         ],
         "xaxis": "x",
         "yaxis": "y"
        },
        {
         "alignmentgroup": "True",
         "customdata": [
          [
           68,
           0.7965446939835457,
           6190.864082788901,
           "Cluster 1"
          ],
          [
           57,
           0.7906578552491133,
           6584.654681310476,
           "Cluster 1"
          ],
          [
           55,
           0.742113734041324,
           7806.398750466399,
           "Cluster 1"
          ],
          [
           59,
           0.7188952048526104,
           8316.31110205122,
           "Cluster 1"
          ],
          [
           57,
           0.7549723463413129,
           6544.847498075687,
           "Cluster 1"
          ],
          [
           63,
           0.8005979105724924,
           7175.090218501248,
           "Cluster 1"
          ],
          [
           63,
           0.7622805817657738,
           7837.233619544163,
           "Cluster 1"
          ],
          [
           63,
           0.7403870808915297,
           7670.690965941329,
           "Cluster 1"
          ],
          [
           64,
           0.7480162682831766,
           8302.588638401632,
           "Cluster 1"
          ],
          [
           59,
           0.742112121715572,
           7151.650866065036,
           "Cluster 1"
          ],
          [
           56,
           0.806499154055182,
           7696.832373798451,
           "Cluster 1"
          ],
          [
           62,
           0.7391949797931453,
           6277.675150528886,
           "Cluster 1"
          ],
          [
           59,
           0.7527238381125997,
           6101.372146632122,
           "Cluster 1"
          ],
          [
           62,
           0.6909167811268888,
           6756.749072752338,
           "Cluster 1"
          ],
          [
           64,
           0.7680563479442216,
           7708.112609459161,
           "Cluster 1"
          ],
          [
           61,
           0.7459489746307642,
           6811.303235949058,
           "Cluster 1"
          ],
          [
           59,
           0.75988343384532,
           5997.690199856996,
           "Cluster 1"
          ],
          [
           59,
           0.806565925193039,
           6129.288986032587,
           "Cluster 1"
          ],
          [
           56,
           0.7546029986455771,
           5574.243676707098,
           "Cluster 1"
          ],
          [
           56,
           0.7737370986430746,
           6799.625271842961,
           "Cluster 1"
          ],
          [
           59,
           0.8302949092020397,
           7819.393215767329,
           "Cluster 1"
          ],
          [
           59,
           0.6797735912164855,
           6710.5740183754415,
           "Cluster 1"
          ],
          [
           65,
           0.7517741617758547,
           7145.251128357927,
           "Cluster 1"
          ],
          [
           58,
           0.7837795500405715,
           6483.049643745244,
           "Cluster 1"
          ],
          [
           59,
           0.7945029052198103,
           6702.9519263157545,
           "Cluster 1"
          ],
          [
           58,
           0.7249557054919687,
           7641.16038162423,
           "Cluster 1"
          ],
          [
           60,
           0.8005783854654352,
           5253.265006608644,
           "Cluster 1"
          ],
          [
           61,
           0.7781022309770123,
           6406.877130352032,
           "Cluster 1"
          ],
          [
           62,
           0.798012338054483,
           7003.095703317772,
           "Cluster 1"
          ],
          [
           55,
           0.7471254610291731,
           5563.906948891499,
           "Cluster 1"
          ],
          [
           59,
           0.8017156979122673,
           6300.8437570950255,
           "Cluster 1"
          ],
          [
           59,
           0.7020090041734849,
           6595.726010227134,
           "Cluster 1"
          ],
          [
           66,
           0.7696800667721441,
           6205.662650191711,
           "Cluster 1"
          ],
          [
           61,
           0.8380950724014863,
           9456.876962701135,
           "Cluster 1"
          ],
          [
           59,
           0.8114711740198254,
           6932.487932327357,
           "Cluster 1"
          ],
          [
           56,
           0.7618879582513512,
           7762.255066659052,
           "Cluster 1"
          ],
          [
           64,
           0.7756041848937439,
           6135.308197117818,
           "Cluster 1"
          ],
          [
           63,
           0.7626699527314824,
           5154.330634621805,
           "Cluster 1"
          ],
          [
           61,
           0.7544065421993587,
           4077.6586565080543,
           "Cluster 1"
          ],
          [
           61,
           0.6922364738673796,
           7286.754751068365,
           "Cluster 1"
          ],
          [
           59,
           0.7812961239072382,
           10547.775367695343,
           "Cluster 1"
          ],
          [
           53,
           0.7387310917031671,
           7821.447803561914,
           "Cluster 1"
          ],
          [
           66,
           0.8115483367376335,
           6509.411506109981,
           "Cluster 1"
          ],
          [
           63,
           0.8200359737627068,
           5504.385543801038,
           "Cluster 1"
          ],
          [
           60,
           0.7545393292392412,
           7567.647652220367,
           "Cluster 1"
          ],
          [
           61,
           0.8441067966472876,
           8022.208541100705,
           "Cluster 1"
          ],
          [
           60,
           0.8320590985324969,
           8557.86012627717,
           "Cluster 1"
          ],
          [
           57,
           0.7662313009024402,
           6904.318224287021,
           "Cluster 1"
          ],
          [
           59,
           0.7656795619984281,
           7346.334503537976,
           "Cluster 1"
          ],
          [
           59,
           0.8014869916095588,
           7719.283632687175,
           "Cluster 1"
          ],
          [
           61,
           0.7727563051023116,
           9288.189785744367,
           "Cluster 1"
          ],
          [
           58,
           0.7237211912021976,
           8715.67957429646,
           "Cluster 1"
          ],
          [
           55,
           0.7332568512323248,
           6486.353872691102,
           "Cluster 1"
          ],
          [
           64,
           0.7403674891662984,
           6420.944071200261,
           "Cluster 1"
          ],
          [
           60,
           0.7143393610830643,
           6609.918507412547,
           "Cluster 1"
          ],
          [
           64,
           0.7571277508774099,
           5815.660096290825,
           "Cluster 1"
          ],
          [
           59,
           0.7251568963089163,
           8857.849116294088,
           "Cluster 1"
          ],
          [
           63,
           0.8999405530923943,
           5985.077029740456,
           "Cluster 1"
          ],
          [
           62,
           0.766572365027147,
           7533.673609198676,
           "Cluster 1"
          ],
          [
           66,
           0.766594189137425,
           5037.899138583947,
           "Cluster 1"
          ],
          [
           65,
           0.7878897626638453,
           9024.337460598084,
           "Cluster 1"
          ],
          [
           62,
           0.7026569520102857,
           9258.992965034067,
           "Cluster 1"
          ],
          [
           60,
           0.812104912914789,
           4879.334872972362,
           "Cluster 1"
          ],
          [
           62,
           0.8191699488980382,
           5956.555677017446,
           "Cluster 1"
          ],
          [
           61,
           0.8334590233217959,
           7924.641138154016,
           "Cluster 1"
          ],
          [
           58,
           0.8229596005059499,
           5290.087044285296,
           "Cluster 1"
          ],
          [
           57,
           0.8405990704520518,
           6225.376082433229,
           "Cluster 1"
          ],
          [
           65,
           0.7785687658100923,
           6387.2196944302905,
           "Cluster 1"
          ],
          [
           57,
           0.787378081122989,
           5783.846928267083,
           "Cluster 1"
          ],
          [
           58,
           0.7122963723872477,
           5742.524488088997,
           "Cluster 1"
          ],
          [
           61,
           0.8278622414878984,
           7283.504772674617,
           "Cluster 1"
          ],
          [
           56,
           0.8122757021441627,
           7285.180436851739,
           "Cluster 1"
          ],
          [
           62,
           0.7453271943508174,
           6142.2016193458685,
           "Cluster 1"
          ],
          [
           60,
           0.7086131723969877,
           5417.237293788359,
           "Cluster 1"
          ],
          [
           55,
           0.8271741985123882,
           8376.74947779104,
           "Cluster 1"
          ],
          [
           57,
           0.7285849289103553,
           6255.55264105716,
           "Cluster 1"
          ],
          [
           68,
           0.7455674638713768,
           6828.709702363695,
           "Cluster 1"
          ],
          [
           53,
           0.7331388477995737,
           7500.452413594261,
           "Cluster 1"
          ],
          [
           59,
           0.8114707012366371,
           7255.90311433466,
           "Cluster 1"
          ],
          [
           55,
           0.753342683616619,
           7780.589913955976,
           "Cluster 1"
          ],
          [
           56,
           0.8157116929554062,
           8995.180087953215,
           "Cluster 1"
          ],
          [
           60,
           0.84661848692906,
           7180.713788260257,
           "Cluster 1"
          ],
          [
           56,
           0.7162678503859907,
           7070.967006969191,
           "Cluster 1"
          ],
          [
           64,
           0.8426521453196145,
           7002.976554303355,
           "Cluster 1"
          ],
          [
           60,
           0.7316484923943142,
           8354.196507802662,
           "Cluster 1"
          ],
          [
           58,
           0.7209986871945887,
           6669.033518051874,
           "Cluster 1"
          ],
          [
           61,
           0.7623249166772856,
           6926.123598416466,
           "Cluster 1"
          ],
          [
           55,
           0.7565897119333272,
           7464.163256732262,
           "Cluster 1"
          ],
          [
           58,
           0.7640283880376706,
           7664.415650964042,
           "Cluster 1"
          ],
          [
           60,
           0.7944610508231513,
           7263.242447729872,
           "Cluster 1"
          ],
          [
           61,
           0.7702140596767938,
           5103.609230428381,
           "Cluster 1"
          ],
          [
           56,
           0.7849450699605269,
           7270.41953428175,
           "Cluster 1"
          ],
          [
           59,
           0.8035145098215853,
           5880.814834306346,
           "Cluster 1"
          ],
          [
           56,
           0.7275840223364691,
           7166.858605155183,
           "Cluster 1"
          ],
          [
           59,
           0.8062102206275251,
           6746.28108382082,
           "Cluster 1"
          ],
          [
           58,
           0.7215881830727278,
           6681.984386377028,
           "Cluster 1"
          ],
          [
           67,
           0.7436599996604758,
           5446.557472721708,
           "Cluster 1"
          ],
          [
           62,
           0.7705945596869115,
           5852.326242628098,
           "Cluster 1"
          ],
          [
           62,
           0.7467384433463651,
           6740.765182071713,
           "Cluster 1"
          ],
          [
           63,
           0.7665090449070475,
           7262.108723452132,
           "Cluster 1"
          ],
          [
           59,
           0.8799059975919311,
           6491.771149967825,
           "Cluster 1"
          ],
          [
           61,
           0.717489977384151,
           7497.231607003855,
           "Cluster 1"
          ],
          [
           58,
           0.7667195837506832,
           8148.49184821177,
           "Cluster 1"
          ],
          [
           58,
           0.8097944168848634,
           7390.577293437033,
           "Cluster 1"
          ],
          [
           57,
           0.7215024376129366,
           6845.056822204781,
           "Cluster 1"
          ],
          [
           58,
           0.910416682938019,
           7665.884294519009,
           "Cluster 1"
          ],
          [
           64,
           0.6993887663543108,
           5772.117135854975,
           "Cluster 1"
          ],
          [
           62,
           0.7921059737158539,
           6518.283467894094,
           "Cluster 1"
          ],
          [
           66,
           0.7538892176112998,
           7387.835437850722,
           "Cluster 1"
          ],
          [
           62,
           0.7907090657200839,
           6961.204192368095,
           "Cluster 1"
          ],
          [
           62,
           0.7353568506694507,
           6988.19736827388,
           "Cluster 1"
          ],
          [
           58,
           0.823358991009156,
           6335.97831998802,
           "Cluster 1"
          ],
          [
           57,
           0.6748906779058501,
           5889.831167170132,
           "Cluster 1"
          ],
          [
           51,
           0.7911147257599156,
           6732.096068632267,
           "Cluster 1"
          ],
          [
           57,
           0.82240840085096,
           5893.975284946178,
           "Cluster 1"
          ],
          [
           67,
           0.7738336308243648,
           7451.99401402587,
           "Cluster 1"
          ],
          [
           64,
           0.7745562258521365,
           7240.759687480846,
           "Cluster 1"
          ],
          [
           61,
           0.7416839698444291,
           8777.077471725162,
           "Cluster 1"
          ],
          [
           62,
           0.8462196017575947,
           5781.658046536959,
           "Cluster 1"
          ],
          [
           65,
           0.6969942581249643,
           6971.164886262858,
           "Cluster 1"
          ],
          [
           61,
           0.811160373170345,
           7413.784487271214,
           "Cluster 1"
          ],
          [
           59,
           0.7910820467274178,
           5417.661426197439,
           "Cluster 1"
          ],
          [
           63,
           0.7831591503681397,
           7468.8510795028,
           "Cluster 1"
          ],
          [
           61,
           0.8216687745413516,
           5074.12121172259,
           "Cluster 1"
          ],
          [
           61,
           0.7210804930623951,
           6457.790641224787,
           "Cluster 1"
          ],
          [
           62,
           0.7196850779929922,
           7028.675510384213,
           "Cluster 1"
          ],
          [
           56,
           0.7321233689266612,
           8777.496176839057,
           "Cluster 1"
          ],
          [
           59,
           0.7225483489421433,
           6701.527664794541,
           "Cluster 1"
          ],
          [
           58,
           0.7864400503429185,
           7162.7390430553605,
           "Cluster 1"
          ],
          [
           56,
           0.7594315957853627,
           8150.55743948241,
           "Cluster 1"
          ],
          [
           63,
           0.7323186222078123,
           8090.706739679063,
           "Cluster 1"
          ],
          [
           58,
           0.7913287771988531,
           6559.829923004832,
           "Cluster 1"
          ],
          [
           61,
           0.777117564607447,
           7467.0367023144945,
           "Cluster 1"
          ],
          [
           59,
           0.6573140731575163,
           7232.825142650887,
           "Cluster 1"
          ],
          [
           58,
           0.7351650452097145,
           7259.540921675671,
           "Cluster 1"
          ],
          [
           62,
           0.7966191667425384,
           4688.657157271711,
           "Cluster 1"
          ],
          [
           57,
           0.7734352958312237,
           6773.04908977712,
           "Cluster 1"
          ],
          [
           55,
           0.7998269700906482,
           6484.630737953293,
           "Cluster 1"
          ],
          [
           53,
           0.7600576501232099,
           5168.225474983632,
           "Cluster 1"
          ],
          [
           65,
           0.7861892594159869,
           6159.662935925753,
           "Cluster 1"
          ],
          [
           64,
           0.7568019251873561,
           6852.554866914717,
           "Cluster 1"
          ],
          [
           58,
           0.7697129169369328,
           7101.674514204499,
           "Cluster 1"
          ],
          [
           60,
           0.7153396972946453,
           7557.937593550947,
           "Cluster 1"
          ],
          [
           60,
           0.7519000198498227,
           7543.542801728055,
           "Cluster 1"
          ],
          [
           58,
           0.9045204855363144,
           7461.567502649429,
           "Cluster 1"
          ],
          [
           54,
           0.7851978501165687,
           6878.884248553975,
           "Cluster 1"
          ],
          [
           55,
           0.8778279844516369,
           6132.898204816149,
           "Cluster 1"
          ]
         ],
         "hovertemplate": "Cluster=%{customdata[3]}<br>Income=%{x}<br>Age=%{customdata[0]}<br>SpendingScore=%{customdata[1]}<br>Savings=%{customdata[2]}<extra></extra>",
         "legendgroup": "Cluster 1",
         "marker": {
          "color": "#EF553B"
         },
         "name": "Cluster 1",
         "notched": true,
         "offsetgroup": "Cluster 1",
         "showlegend": false,
         "type": "box",
         "x": [
          77648,
          76594,
          76831,
          77978,
          72055,
          85761,
          56875,
          69849,
          62886,
          69738,
          73516,
          73480,
          69460,
          80093,
          60493,
          78837,
          69115,
          56321,
          65313,
          75599,
          73057,
          73350,
          74430,
          78078,
          75495,
          80248,
          65942,
          65914,
          69326,
          73895,
          72588,
          71302,
          82526,
          71033,
          65700,
          63866,
          76410,
          80705,
          68842,
          74282,
          74576,
          74996,
          72571,
          72815,
          74460,
          71933,
          71436,
          65608,
          74373,
          68038,
          73495,
          69247,
          64768,
          78801,
          70054,
          64331,
          67346,
          67370,
          62650,
          64866,
          71229,
          74751,
          79969,
          67731,
          72060,
          70272,
          76573,
          65736,
          74014,
          77559,
          63846,
          78992,
          63596,
          65054,
          78761,
          64803,
          68944,
          62117,
          67988,
          71621,
          68463,
          67491,
          68698,
          71692,
          65340,
          69879,
          72027,
          71056,
          70676,
          70012,
          74117,
          84386,
          82199,
          60059,
          90422,
          76052,
          59243,
          62747,
          67030,
          70580,
          69408,
          65647,
          77101,
          75757,
          75332,
          78611,
          76364,
          69391,
          71672,
          78413,
          71050,
          80278,
          69655,
          72086,
          79794,
          68663,
          88361,
          69698,
          69741,
          70430,
          73245,
          81799,
          75078,
          69001,
          71171,
          68279,
          86484,
          67781,
          78635,
          80431,
          82343,
          77769,
          76955,
          80876,
          74340,
          73675,
          79470,
          74356,
          76667,
          66017,
          86283,
          70259,
          70663,
          63476,
          70369,
          76500,
          76057
         ],
         "xaxis": "x2",
         "yaxis": "y2"
        },
        {
         "alignmentgroup": "True",
         "bingroup": "x",
         "hovertemplate": "Cluster=Cluster 2<br>Income=%{x}<br>count=%{y}<extra></extra>",
         "legendgroup": "Cluster 2",
         "marker": {
          "color": "#00cc96",
          "opacity": 0.7,
          "pattern": {
           "shape": ""
          }
         },
         "name": "Cluster 2",
         "offsetgroup": "Cluster 2",
         "orientation": "v",
         "showlegend": true,
         "type": "histogram",
         "x": [
          108499,
          107255,
          107958,
          107963,
          126257,
          108581,
          114406,
          98033,
          107877,
          105006,
          116451,
          124170,
          112943,
          101209,
          108004,
          110582,
          108067,
          128378,
          111937,
          98752,
          107994,
          108651,
          117943,
          119366,
          119429,
          97678,
          103223,
          103204,
          107932,
          102618,
          106758,
          107100,
          126601,
          100158,
          113659,
          117112,
          110595,
          101481,
          112878,
          106894,
          110860,
          110564,
          118794,
          107926,
          111813,
          109809,
          115689,
          89598,
          108417,
          101811,
          108345,
          122879,
          117564,
          91375,
          106990,
          111303,
          106345,
          107302,
          101206,
          104388,
          94762,
          102028,
          109038,
          102056,
          104738,
          104284,
          101503,
          106772,
          124372,
          100592,
          106350,
          99949,
          101905,
          120678,
          105036,
          114767,
          110106,
          116616,
          116247,
          128596,
          117050,
          99780,
          108635,
          104285,
          107131,
          92569,
          102308,
          110439,
          108928,
          99457,
          97831,
          97750,
          112531,
          95536,
          101058,
          100661,
          110732,
          97965,
          111389,
          109152,
          106757,
          114833,
          119697,
          96241,
          98137,
          118169,
          115146,
          105567,
          104678,
          99611,
          99216,
          99637,
          121642,
          110882,
          94775,
          114642,
          107115,
          94964,
          106664,
          122696,
          100540,
          101943,
          98821,
          115237,
          106014,
          117668,
          98030,
          119877,
          98165,
          99161,
          105991,
          102291,
          114555,
          123651,
          111426,
          105667,
          103428,
          106588,
          106543,
          109075,
          107525,
          96336,
          100275,
          101691,
          101641,
          105826,
          117347,
          111449
         ],
         "xaxis": "x",
         "yaxis": "y"
        },
        {
         "alignmentgroup": "True",
         "customdata": [
          [
           35,
           0.2612719132713158,
           16046.08301542436,
           "Cluster 2"
          ],
          [
           34,
           0.3283430294033383,
           15130.595225546444,
           "Cluster 2"
          ],
          [
           37,
           0.346669076543185,
           13641.009538079368,
           "Cluster 2"
          ],
          [
           31,
           0.2905086327499087,
           13407.081391032512,
           "Cluster 2"
          ],
          [
           82,
           0.0780961943994333,
           15816.101922357922,
           "Cluster 2"
          ],
          [
           30,
           0.3094467811568004,
           15628.791650531211,
           "Cluster 2"
          ],
          [
           84,
           0.1238383746409725,
           16840.570583774286,
           "Cluster 2"
          ],
          [
           33,
           0.3095111158545869,
           15774.690605560643,
           "Cluster 2"
          ],
          [
           37,
           0.3346179841546032,
           17968.55392863446,
           "Cluster 2"
          ],
          [
           31,
           0.3741658782934958,
           15419.417763123292,
           "Cluster 2"
          ],
          [
           29,
           0.3406596106851227,
           15294.661511529368,
           "Cluster 2"
          ],
          [
           90,
           0.0307513143939138,
           14773.40720559984,
           "Cluster 2"
          ],
          [
           31,
           0.341239503307387,
           14297.702229457282,
           "Cluster 2"
          ],
          [
           31,
           0.3043229953712127,
           16917.571691218804,
           "Cluster 2"
          ],
          [
           36,
           0.3089229914936124,
           15813.964573146995,
           "Cluster 2"
          ],
          [
           84,
           0.0790490322794597,
           14937.995169685584,
           "Cluster 2"
          ],
          [
           31,
           0.2686742663930692,
           13316.767286164832,
           "Cluster 2"
          ],
          [
           86,
           0.1260834097584985,
           13585.778624417357,
           "Cluster 2"
          ],
          [
           28,
           0.2537347301209012,
           13669.110632506934,
           "Cluster 2"
          ],
          [
           34,
           0.3720337099315751,
           14975.384238944334,
           "Cluster 2"
          ],
          [
           31,
           0.2944689389706671,
           13685.97236173889,
           "Cluster 2"
          ],
          [
           37,
           0.1923436158292553,
           15881.242198260685,
           "Cluster 2"
          ],
          [
           83,
           0.0772132400334304,
           15391.952192206512,
           "Cluster 2"
          ],
          [
           29,
           0.3587713900686116,
           15012.8530142263,
           "Cluster 2"
          ],
          [
           83,
           0.0421548010785584,
           15607.561541234569,
           "Cluster 2"
          ],
          [
           37,
           0.2574704443875843,
           15834.113173627364,
           "Cluster 2"
          ],
          [
           29,
           0.3388162937437745,
           16252.88305306563,
           "Cluster 2"
          ],
          [
           34,
           0.3010873537839331,
           15149.810421179482,
           "Cluster 2"
          ],
          [
           31,
           0.3742421881649844,
           12207.526078087716,
           "Cluster 2"
          ],
          [
           31,
           0.2763779214063509,
           13209.301612848927,
           "Cluster 2"
          ],
          [
           27,
           0.2662947092346973,
           14942.560723173168,
           "Cluster 2"
          ],
          [
           33,
           0.3424354833732075,
           14895.473479049117,
           "Cluster 2"
          ],
          [
           93,
           0.0251701694773457,
           14117.44703707058,
           "Cluster 2"
          ],
          [
           36,
           0.316060414098024,
           13832.37937073453,
           "Cluster 2"
          ],
          [
           38,
           0.3334859873871594,
           14364.693391418998,
           "Cluster 2"
          ],
          [
           35,
           0.3047918711384766,
           15908.035997555322,
           "Cluster 2"
          ],
          [
           37,
           0.2866485050019983,
           15235.445457133226,
           "Cluster 2"
          ],
          [
           31,
           0.2702350511848681,
           15226.614133627569,
           "Cluster 2"
          ],
          [
           35,
           0.3009135799974076,
           13755.482301873282,
           "Cluster 2"
          ],
          [
           37,
           0.3432357689892068,
           14075.217365594552,
           "Cluster 2"
          ],
          [
           29,
           0.3194403010352474,
           16260.42103081417,
           "Cluster 2"
          ],
          [
           24,
           0.3049430059244968,
           14967.839625179657,
           "Cluster 2"
          ],
          [
           91,
           0.0192120658984376,
           14047.388986415734,
           "Cluster 2"
          ],
          [
           30,
           0.2301607310342209,
           15520.536309707046,
           "Cluster 2"
          ],
          [
           33,
           0.2382437868013801,
           15901.238967721654,
           "Cluster 2"
          ],
          [
           36,
           0.355660187354229,
           14978.502144076489,
           "Cluster 2"
          ],
          [
           86,
           0.057842956133581,
           14803.153273493916,
           "Cluster 2"
          ],
          [
           34,
           0.3401523810436963,
           12832.768720823738,
           "Cluster 2"
          ],
          [
           32,
           0.2873708671400807,
           16696.398659007995,
           "Cluster 2"
          ],
          [
           36,
           0.3406667947415742,
           15048.89961242685,
           "Cluster 2"
          ],
          [
           33,
           0.32541328975821,
           15646.321717359428,
           "Cluster 2"
          ],
          [
           92,
           0.0607240352184939,
           13709.670274517475,
           "Cluster 2"
          ],
          [
           87,
           0.1282795957567026,
           14000.248964992144,
           "Cluster 2"
          ],
          [
           29,
           0.2354504258588228,
           13104.962760687613,
           "Cluster 2"
          ],
          [
           42,
           0.330065422314764,
           14856.938997469417,
           "Cluster 2"
          ],
          [
           34,
           0.345312577109288,
           14624.318634976556,
           "Cluster 2"
          ],
          [
           33,
           0.3392354218755358,
           15300.45379012999,
           "Cluster 2"
          ],
          [
           30,
           0.2396771776819925,
           13993.24401848172,
           "Cluster 2"
          ],
          [
           28,
           0.3874406981253432,
           14936.775388622864,
           "Cluster 2"
          ],
          [
           31,
           0.2864732316476225,
           14406.561248437842,
           "Cluster 2"
          ],
          [
           28,
           0.3035961911057213,
           15352.521936894913,
           "Cluster 2"
          ],
          [
           29,
           0.2889604994756899,
           14634.430692347907,
           "Cluster 2"
          ],
          [
           36,
           0.3242132027621541,
           16502.389477657125,
           "Cluster 2"
          ],
          [
           30,
           0.2607006223919937,
           15370.66882713054,
           "Cluster 2"
          ],
          [
           38,
           0.4059588503683713,
           15634.313868027426,
           "Cluster 2"
          ],
          [
           34,
           0.3445454117798671,
           13541.801770810564,
           "Cluster 2"
          ],
          [
           25,
           0.2884688560740983,
           15026.262148820157,
           "Cluster 2"
          ],
          [
           25,
           0.3909047196000217,
           16353.471790615497,
           "Cluster 2"
          ],
          [
           86,
           0,
           15374.465952896948,
           "Cluster 2"
          ],
          [
           28,
           0.2595983487762325,
           15520.355775683653,
           "Cluster 2"
          ],
          [
           30,
           0.3694162857692796,
           14863.233588279092,
           "Cluster 2"
          ],
          [
           30,
           0.3446792235097859,
           13621.63972633141,
           "Cluster 2"
          ],
          [
           32,
           0.3074763135926986,
           17532.16478349903,
           "Cluster 2"
          ],
          [
           88,
           0.0632728512966028,
           14264.473846639945,
           "Cluster 2"
          ],
          [
           31,
           0.2722279930569666,
           16465.063521972657,
           "Cluster 2"
          ],
          [
           88,
           0.0322075423389263,
           17833.093470094427,
           "Cluster 2"
          ],
          [
           35,
           0.2867692710102035,
           14924.537223475552,
           "Cluster 2"
          ],
          [
           33,
           0.3209300476959025,
           15104.49811363824,
           "Cluster 2"
          ],
          [
           31,
           0.2943151380482853,
           16178.204715186295,
           "Cluster 2"
          ],
          [
           77,
           0.0408240706625097,
           14503.410786381415,
           "Cluster 2"
          ],
          [
           32,
           0.3113555349689566,
           14310.546206532164,
           "Cluster 2"
          ],
          [
           36,
           0.2654326074020303,
           16398.40133318453,
           "Cluster 2"
          ],
          [
           37,
           0.2864957031483905,
           14558.054542315444,
           "Cluster 2"
          ],
          [
           36,
           0.2123600508972585,
           13347.558779497918,
           "Cluster 2"
          ],
          [
           35,
           0.2424731551814768,
           16200.013010637644,
           "Cluster 2"
          ],
          [
           33,
           0.3360798055671445,
           13765.685995748696,
           "Cluster 2"
          ],
          [
           35,
           0.2751372175012176,
           14874.557991326978,
           "Cluster 2"
          ],
          [
           32,
           0.3069901582742725,
           13873.50756985278,
           "Cluster 2"
          ],
          [
           30,
           0.303863615036657,
           14339.652917342728,
           "Cluster 2"
          ],
          [
           31,
           0.3658064971511748,
           14580.613477014092,
           "Cluster 2"
          ],
          [
           37,
           0.3744658274308825,
           14935.144813058325,
           "Cluster 2"
          ],
          [
           26,
           0.293408760516068,
           15823.032361634105,
           "Cluster 2"
          ],
          [
           29,
           0.3427661743407053,
           14361.334979176148,
           "Cluster 2"
          ],
          [
           32,
           0.2662460568101488,
           15420.62564400274,
           "Cluster 2"
          ],
          [
           33,
           0.3150815497840024,
           14911.868398206978,
           "Cluster 2"
          ],
          [
           39,
           0.3766412501689559,
           16873.128638209408,
           "Cluster 2"
          ],
          [
           37,
           0.3226762482802641,
           14265.35184049776,
           "Cluster 2"
          ],
          [
           28,
           0.3134915614599665,
           14981.402201916082,
           "Cluster 2"
          ],
          [
           85,
           0.0367953622110323,
           16009.237762922365,
           "Cluster 2"
          ],
          [
           22,
           0.3234464163624235,
           16022.482482363524,
           "Cluster 2"
          ],
          [
           33,
           0.2583961137212551,
           14431.65279923437,
           "Cluster 2"
          ],
          [
           31,
           0.3050696862135815,
           13953.029721407644,
           "Cluster 2"
          ],
          [
           89,
           0.0916792017028315,
           16215.399076555512,
           "Cluster 2"
          ],
          [
           30,
           0.3773384910014747,
           15485.156009739389,
           "Cluster 2"
          ],
          [
           36,
           0.297401293159654,
           15978.332837131276,
           "Cluster 2"
          ],
          [
           85,
           0.123196057747337,
           14855.95102392762,
           "Cluster 2"
          ],
          [
           38,
           0.3144900731288347,
           14798.868153501797,
           "Cluster 2"
          ],
          [
           36,
           0.3126388486955741,
           14355.31094653896,
           "Cluster 2"
          ],
          [
           35,
           0.3279928581002429,
           15422.055799721802,
           "Cluster 2"
          ],
          [
           28,
           0.2795578681222758,
           15345.658121390226,
           "Cluster 2"
          ],
          [
           39,
           0.2166061433945727,
           15230.345105300736,
           "Cluster 2"
          ],
          [
           33,
           0.2282170773869075,
           15139.40314264753,
           "Cluster 2"
          ],
          [
           82,
           0.0546531904642098,
           14177.513323069668,
           "Cluster 2"
          ],
          [
           31,
           0.3252806065281125,
           14004.61374291491,
           "Cluster 2"
          ],
          [
           38,
           0.3803902009461493,
           16867.13082002739,
           "Cluster 2"
          ],
          [
           44,
           0.3092049154534187,
           14067.617788950563,
           "Cluster 2"
          ],
          [
           31,
           0.3280420856997338,
           15693.499570389358,
           "Cluster 2"
          ],
          [
           33,
           0.3302325026567214,
           14018.349867336628,
           "Cluster 2"
          ],
          [
           37,
           0.2775867542026021,
           14479.374117495969,
           "Cluster 2"
          ],
          [
           84,
           0.0821868319247355,
           13809.734086698068,
           "Cluster 2"
          ],
          [
           39,
           0.3849229829012918,
           16741.013894847743,
           "Cluster 2"
          ],
          [
           29,
           0.3256230614429721,
           14619.354282159027,
           "Cluster 2"
          ],
          [
           40,
           0.279080850187049,
           15995.160053914662,
           "Cluster 2"
          ],
          [
           84,
           0.0687782098136733,
           14396.568282311468,
           "Cluster 2"
          ],
          [
           29,
           0.347945113577731,
           15038.010746320377,
           "Cluster 2"
          ],
          [
           90,
           0.0827227429940155,
           12554.69274242066,
           "Cluster 2"
          ],
          [
           30,
           0.4111117138132285,
           16316.842905166694,
           "Cluster 2"
          ],
          [
           34,
           0.3054369951589357,
           15634.788286084158,
           "Cluster 2"
          ],
          [
           34,
           0.1741204938230648,
           15721.86284266975,
           "Cluster 2"
          ],
          [
           29,
           0.3079200040396055,
           15631.836772980836,
           "Cluster 2"
          ],
          [
           35,
           0.3433779781521022,
           16616.088239618915,
           "Cluster 2"
          ],
          [
           34,
           0.2478622761143138,
           15819.57760116052,
           "Cluster 2"
          ],
          [
           33,
           0.2792568364789493,
           13746.745438440072,
           "Cluster 2"
          ],
          [
           88,
           0.0290271402910519,
           13504.577571797936,
           "Cluster 2"
          ],
          [
           29,
           0.4002811559385194,
           14352.643773230728,
           "Cluster 2"
          ],
          [
           33,
           0.2507508056238616,
           12869.761073905089,
           "Cluster 2"
          ],
          [
           34,
           0.2474244093916155,
           13791.035761571968,
           "Cluster 2"
          ],
          [
           35,
           0.3422142051018276,
           15648.65667046098,
           "Cluster 2"
          ],
          [
           32,
           0.3107432443044589,
           14337.288328489092,
           "Cluster 2"
          ],
          [
           28,
           0.3627619606240113,
           14082.458238005996,
           "Cluster 2"
          ],
          [
           30,
           0.2948164301396663,
           12702.847385049916,
           "Cluster 2"
          ],
          [
           36,
           0.2880975671929816,
           15286.769335194169,
           "Cluster 2"
          ],
          [
           33,
           0.3630856827120957,
           13735.43874238108,
           "Cluster 2"
          ],
          [
           35,
           0.3491110181825554,
           14152.671689505803,
           "Cluster 2"
          ],
          [
           43,
           0.3819838041034955,
           14424.09799559298,
           "Cluster 2"
          ],
          [
           31,
           0.2862743235826754,
           13856.805832195869,
           "Cluster 2"
          ],
          [
           83,
           0.1556940923286098,
           15086.701120471578,
           "Cluster 2"
          ],
          [
           31,
           0.2941062030828216,
           13929.62155143948,
           "Cluster 2"
          ]
         ],
         "hovertemplate": "Cluster=%{customdata[3]}<br>Income=%{x}<br>Age=%{customdata[0]}<br>SpendingScore=%{customdata[1]}<br>Savings=%{customdata[2]}<extra></extra>",
         "legendgroup": "Cluster 2",
         "marker": {
          "color": "#00cc96"
         },
         "name": "Cluster 2",
         "notched": true,
         "offsetgroup": "Cluster 2",
         "showlegend": false,
         "type": "box",
         "x": [
          108499,
          107255,
          107958,
          107963,
          126257,
          108581,
          114406,
          98033,
          107877,
          105006,
          116451,
          124170,
          112943,
          101209,
          108004,
          110582,
          108067,
          128378,
          111937,
          98752,
          107994,
          108651,
          117943,
          119366,
          119429,
          97678,
          103223,
          103204,
          107932,
          102618,
          106758,
          107100,
          126601,
          100158,
          113659,
          117112,
          110595,
          101481,
          112878,
          106894,
          110860,
          110564,
          118794,
          107926,
          111813,
          109809,
          115689,
          89598,
          108417,
          101811,
          108345,
          122879,
          117564,
          91375,
          106990,
          111303,
          106345,
          107302,
          101206,
          104388,
          94762,
          102028,
          109038,
          102056,
          104738,
          104284,
          101503,
          106772,
          124372,
          100592,
          106350,
          99949,
          101905,
          120678,
          105036,
          114767,
          110106,
          116616,
          116247,
          128596,
          117050,
          99780,
          108635,
          104285,
          107131,
          92569,
          102308,
          110439,
          108928,
          99457,
          97831,
          97750,
          112531,
          95536,
          101058,
          100661,
          110732,
          97965,
          111389,
          109152,
          106757,
          114833,
          119697,
          96241,
          98137,
          118169,
          115146,
          105567,
          104678,
          99611,
          99216,
          99637,
          121642,
          110882,
          94775,
          114642,
          107115,
          94964,
          106664,
          122696,
          100540,
          101943,
          98821,
          115237,
          106014,
          117668,
          98030,
          119877,
          98165,
          99161,
          105991,
          102291,
          114555,
          123651,
          111426,
          105667,
          103428,
          106588,
          106543,
          109075,
          107525,
          96336,
          100275,
          101691,
          101641,
          105826,
          117347,
          111449
         ],
         "xaxis": "x2",
         "yaxis": "y2"
        },
        {
         "alignmentgroup": "True",
         "bingroup": "x",
         "hovertemplate": "Cluster=Cluster 3<br>Income=%{x}<br>count=%{y}<extra></extra>",
         "legendgroup": "Cluster 3",
         "marker": {
          "color": "#ab63fa",
          "opacity": 0.7,
          "pattern": {
           "shape": ""
          }
         },
         "name": "Cluster 3",
         "offsetgroup": "Cluster 3",
         "orientation": "v",
         "showlegend": true,
         "type": "histogram",
         "x": [
          131827,
          125662,
          123005,
          131009,
          129469,
          136644,
          134389,
          142000,
          122924,
          129937,
          127320,
          120525,
          127699,
          121216,
          123229,
          136255,
          130361,
          123678,
          128625,
          130813,
          130974,
          127352,
          138021,
          122264,
          129726,
          122581,
          125008,
          122671,
          129019,
          134966,
          126500,
          138443,
          126617,
          123718,
          132948,
          129087,
          122788,
          129142,
          130934,
          123828,
          134209,
          123153,
          134384,
          117108
         ],
         "xaxis": "x",
         "yaxis": "y"
        },
        {
         "alignmentgroup": "True",
         "customdata": [
          [
           26,
           0.8807194909406801,
           4352.699304837541,
           "Cluster 3"
          ],
          [
           26,
           0.9268183658411524,
           6089.47832250152,
           "Cluster 3"
          ],
          [
           26,
           0.9845261943505972,
           4371.23473281147,
           "Cluster 3"
          ],
          [
           25,
           0.8640569016468125,
           4792.426581212785,
           "Cluster 3"
          ],
          [
           20,
           0.9399954311014268,
           5522.573424346325,
           "Cluster 3"
          ],
          [
           24,
           0.8716976842508705,
           1617.2257000775644,
           "Cluster 3"
          ],
          [
           24,
           0.9388521378701832,
           4573.60634580409,
           "Cluster 3"
          ],
          [
           29,
           0.9400873084125808,
           5349.821181717665,
           "Cluster 3"
          ],
          [
           31,
           0.89046022417733,
           3071.9445761529696,
           "Cluster 3"
          ],
          [
           23,
           0.8727356634334804,
           4102.065424707484,
           "Cluster 3"
          ],
          [
           26,
           0.8250298045601994,
           5495.642137901323,
           "Cluster 3"
          ],
          [
           22,
           1,
           5495.165732288548,
           "Cluster 3"
          ],
          [
           28,
           0.8814245468734898,
           5490.8149556706885,
           "Cluster 3"
          ],
          [
           28,
           0.8569692823607705,
           5349.065446955783,
           "Cluster 3"
          ],
          [
           28,
           0.8733219541371664,
           610.4462190811464,
           "Cluster 3"
          ],
          [
           17,
           0.935876103673024,
           4126.22665140887,
           "Cluster 3"
          ],
          [
           25,
           0.9254385568124625,
           4691.55213906238,
           "Cluster 3"
          ],
          [
           21,
           0.8320252689431032,
           2838.815820835909,
           "Cluster 3"
          ],
          [
           25,
           0.8167389887954251,
           4914.117127206948,
           "Cluster 3"
          ],
          [
           18,
           0.890891247267583,
           5256.434559627984,
           "Cluster 3"
          ],
          [
           24,
           0.9118386021444842,
           4420.0727101369375,
           "Cluster 3"
          ],
          [
           24,
           0.9054521594192038,
           2961.716874324024,
           "Cluster 3"
          ],
          [
           25,
           0.944017175810026,
           3005.577482475175,
           "Cluster 3"
          ],
          [
           29,
           0.8985788437238403,
           2494.55627432471,
           "Cluster 3"
          ],
          [
           21,
           0.9517923119702948,
           4550.799521687883,
           "Cluster 3"
          ],
          [
           20,
           0.8940806156500202,
           4444.447684252053,
           "Cluster 3"
          ],
          [
           27,
           0.9596454072349518,
           2963.637708058779,
           "Cluster 3"
          ],
          [
           27,
           0.910107112831516,
           4206.28723870951,
           "Cluster 3"
          ],
          [
           28,
           0.9308319590820414,
           3016.8206434862623,
           "Cluster 3"
          ],
          [
           17,
           0.9072421746334024,
           4128.044795832437,
           "Cluster 3"
          ],
          [
           23,
           0.8650328592458483,
           3270.1504344070872,
           "Cluster 3"
          ],
          [
           23,
           0.9226565539031124,
           3297.058843994153,
           "Cluster 3"
          ],
          [
           26,
           0.8770521049168103,
           2913.368146562765,
           "Cluster 3"
          ],
          [
           18,
           0.8065528615489801,
           4420.445820614172,
           "Cluster 3"
          ],
          [
           22,
           0.8898001728484242,
           2839.7863574778585,
           "Cluster 3"
          ],
          [
           24,
           0.8271179432765905,
           3290.829468618805,
           "Cluster 3"
          ],
          [
           30,
           0.8728724057273831,
           5706.149573297764,
           "Cluster 3"
          ],
          [
           20,
           0.8870519941988757,
           5603.121027746489,
           "Cluster 3"
          ],
          [
           25,
           0.9137660194970426,
           3942.389134492165,
           "Cluster 3"
          ],
          [
           17,
           0.9420129076091708,
           3798.8403998790254,
           "Cluster 3"
          ],
          [
           22,
           0.8706980046008759,
           5138.109568643242,
           "Cluster 3"
          ],
          [
           28,
           0.9842407862639496,
           3697.51364538533,
           "Cluster 3"
          ],
          [
           24,
           0.8747208244890404,
           3731.339761444919,
           "Cluster 3"
          ],
          [
           28,
           0.857078493256913,
           4749.879237491619,
           "Cluster 3"
          ]
         ],
         "hovertemplate": "Cluster=%{customdata[3]}<br>Income=%{x}<br>Age=%{customdata[0]}<br>SpendingScore=%{customdata[1]}<br>Savings=%{customdata[2]}<extra></extra>",
         "legendgroup": "Cluster 3",
         "marker": {
          "color": "#ab63fa"
         },
         "name": "Cluster 3",
         "notched": true,
         "offsetgroup": "Cluster 3",
         "showlegend": false,
         "type": "box",
         "x": [
          131827,
          125662,
          123005,
          131009,
          129469,
          136644,
          134389,
          142000,
          122924,
          129937,
          127320,
          120525,
          127699,
          121216,
          123229,
          136255,
          130361,
          123678,
          128625,
          130813,
          130974,
          127352,
          138021,
          122264,
          129726,
          122581,
          125008,
          122671,
          129019,
          134966,
          126500,
          138443,
          126617,
          123718,
          132948,
          129087,
          122788,
          129142,
          130934,
          123828,
          134209,
          123153,
          134384,
          117108
         ],
         "xaxis": "x2",
         "yaxis": "y2"
        }
       ],
       "layout": {
        "barmode": "relative",
        "height": 600,
        "legend": {
         "title": {
          "text": "Cluster"
         },
         "tracegroupgap": 0
        },
        "margin": {
         "t": 60
        },
        "template": {
         "data": {
          "bar": [
           {
            "error_x": {
             "color": "#2a3f5f"
            },
            "error_y": {
             "color": "#2a3f5f"
            },
            "marker": {
             "line": {
              "color": "#E5ECF6",
              "width": 0.5
             },
             "pattern": {
              "fillmode": "overlay",
              "size": 10,
              "solidity": 0.2
             }
            },
            "type": "bar"
           }
          ],
          "barpolar": [
           {
            "marker": {
             "line": {
              "color": "#E5ECF6",
              "width": 0.5
             },
             "pattern": {
              "fillmode": "overlay",
              "size": 10,
              "solidity": 0.2
             }
            },
            "type": "barpolar"
           }
          ],
          "carpet": [
           {
            "aaxis": {
             "endlinecolor": "#2a3f5f",
             "gridcolor": "white",
             "linecolor": "white",
             "minorgridcolor": "white",
             "startlinecolor": "#2a3f5f"
            },
            "baxis": {
             "endlinecolor": "#2a3f5f",
             "gridcolor": "white",
             "linecolor": "white",
             "minorgridcolor": "white",
             "startlinecolor": "#2a3f5f"
            },
            "type": "carpet"
           }
          ],
          "choropleth": [
           {
            "colorbar": {
             "outlinewidth": 0,
             "ticks": ""
            },
            "type": "choropleth"
           }
          ],
          "contour": [
           {
            "colorbar": {
             "outlinewidth": 0,
             "ticks": ""
            },
            "colorscale": [
             [
              0,
              "#0d0887"
             ],
             [
              0.1111111111111111,
              "#46039f"
             ],
             [
              0.2222222222222222,
              "#7201a8"
             ],
             [
              0.3333333333333333,
              "#9c179e"
             ],
             [
              0.4444444444444444,
              "#bd3786"
             ],
             [
              0.5555555555555556,
              "#d8576b"
             ],
             [
              0.6666666666666666,
              "#ed7953"
             ],
             [
              0.7777777777777778,
              "#fb9f3a"
             ],
             [
              0.8888888888888888,
              "#fdca26"
             ],
             [
              1,
              "#f0f921"
             ]
            ],
            "type": "contour"
           }
          ],
          "contourcarpet": [
           {
            "colorbar": {
             "outlinewidth": 0,
             "ticks": ""
            },
            "type": "contourcarpet"
           }
          ],
          "heatmap": [
           {
            "colorbar": {
             "outlinewidth": 0,
             "ticks": ""
            },
            "colorscale": [
             [
              0,
              "#0d0887"
             ],
             [
              0.1111111111111111,
              "#46039f"
             ],
             [
              0.2222222222222222,
              "#7201a8"
             ],
             [
              0.3333333333333333,
              "#9c179e"
             ],
             [
              0.4444444444444444,
              "#bd3786"
             ],
             [
              0.5555555555555556,
              "#d8576b"
             ],
             [
              0.6666666666666666,
              "#ed7953"
             ],
             [
              0.7777777777777778,
              "#fb9f3a"
             ],
             [
              0.8888888888888888,
              "#fdca26"
             ],
             [
              1,
              "#f0f921"
             ]
            ],
            "type": "heatmap"
           }
          ],
          "heatmapgl": [
           {
            "colorbar": {
             "outlinewidth": 0,
             "ticks": ""
            },
            "colorscale": [
             [
              0,
              "#0d0887"
             ],
             [
              0.1111111111111111,
              "#46039f"
             ],
             [
              0.2222222222222222,
              "#7201a8"
             ],
             [
              0.3333333333333333,
              "#9c179e"
             ],
             [
              0.4444444444444444,
              "#bd3786"
             ],
             [
              0.5555555555555556,
              "#d8576b"
             ],
             [
              0.6666666666666666,
              "#ed7953"
             ],
             [
              0.7777777777777778,
              "#fb9f3a"
             ],
             [
              0.8888888888888888,
              "#fdca26"
             ],
             [
              1,
              "#f0f921"
             ]
            ],
            "type": "heatmapgl"
           }
          ],
          "histogram": [
           {
            "marker": {
             "pattern": {
              "fillmode": "overlay",
              "size": 10,
              "solidity": 0.2
             }
            },
            "type": "histogram"
           }
          ],
          "histogram2d": [
           {
            "colorbar": {
             "outlinewidth": 0,
             "ticks": ""
            },
            "colorscale": [
             [
              0,
              "#0d0887"
             ],
             [
              0.1111111111111111,
              "#46039f"
             ],
             [
              0.2222222222222222,
              "#7201a8"
             ],
             [
              0.3333333333333333,
              "#9c179e"
             ],
             [
              0.4444444444444444,
              "#bd3786"
             ],
             [
              0.5555555555555556,
              "#d8576b"
             ],
             [
              0.6666666666666666,
              "#ed7953"
             ],
             [
              0.7777777777777778,
              "#fb9f3a"
             ],
             [
              0.8888888888888888,
              "#fdca26"
             ],
             [
              1,
              "#f0f921"
             ]
            ],
            "type": "histogram2d"
           }
          ],
          "histogram2dcontour": [
           {
            "colorbar": {
             "outlinewidth": 0,
             "ticks": ""
            },
            "colorscale": [
             [
              0,
              "#0d0887"
             ],
             [
              0.1111111111111111,
              "#46039f"
             ],
             [
              0.2222222222222222,
              "#7201a8"
             ],
             [
              0.3333333333333333,
              "#9c179e"
             ],
             [
              0.4444444444444444,
              "#bd3786"
             ],
             [
              0.5555555555555556,
              "#d8576b"
             ],
             [
              0.6666666666666666,
              "#ed7953"
             ],
             [
              0.7777777777777778,
              "#fb9f3a"
             ],
             [
              0.8888888888888888,
              "#fdca26"
             ],
             [
              1,
              "#f0f921"
             ]
            ],
            "type": "histogram2dcontour"
           }
          ],
          "mesh3d": [
           {
            "colorbar": {
             "outlinewidth": 0,
             "ticks": ""
            },
            "type": "mesh3d"
           }
          ],
          "parcoords": [
           {
            "line": {
             "colorbar": {
              "outlinewidth": 0,
              "ticks": ""
             }
            },
            "type": "parcoords"
           }
          ],
          "pie": [
           {
            "automargin": true,
            "type": "pie"
           }
          ],
          "scatter": [
           {
            "marker": {
             "colorbar": {
              "outlinewidth": 0,
              "ticks": ""
             }
            },
            "type": "scatter"
           }
          ],
          "scatter3d": [
           {
            "line": {
             "colorbar": {
              "outlinewidth": 0,
              "ticks": ""
             }
            },
            "marker": {
             "colorbar": {
              "outlinewidth": 0,
              "ticks": ""
             }
            },
            "type": "scatter3d"
           }
          ],
          "scattercarpet": [
           {
            "marker": {
             "colorbar": {
              "outlinewidth": 0,
              "ticks": ""
             }
            },
            "type": "scattercarpet"
           }
          ],
          "scattergeo": [
           {
            "marker": {
             "colorbar": {
              "outlinewidth": 0,
              "ticks": ""
             }
            },
            "type": "scattergeo"
           }
          ],
          "scattergl": [
           {
            "marker": {
             "colorbar": {
              "outlinewidth": 0,
              "ticks": ""
             }
            },
            "type": "scattergl"
           }
          ],
          "scattermapbox": [
           {
            "marker": {
             "colorbar": {
              "outlinewidth": 0,
              "ticks": ""
             }
            },
            "type": "scattermapbox"
           }
          ],
          "scatterpolar": [
           {
            "marker": {
             "colorbar": {
              "outlinewidth": 0,
              "ticks": ""
             }
            },
            "type": "scatterpolar"
           }
          ],
          "scatterpolargl": [
           {
            "marker": {
             "colorbar": {
              "outlinewidth": 0,
              "ticks": ""
             }
            },
            "type": "scatterpolargl"
           }
          ],
          "scatterternary": [
           {
            "marker": {
             "colorbar": {
              "outlinewidth": 0,
              "ticks": ""
             }
            },
            "type": "scatterternary"
           }
          ],
          "surface": [
           {
            "colorbar": {
             "outlinewidth": 0,
             "ticks": ""
            },
            "colorscale": [
             [
              0,
              "#0d0887"
             ],
             [
              0.1111111111111111,
              "#46039f"
             ],
             [
              0.2222222222222222,
              "#7201a8"
             ],
             [
              0.3333333333333333,
              "#9c179e"
             ],
             [
              0.4444444444444444,
              "#bd3786"
             ],
             [
              0.5555555555555556,
              "#d8576b"
             ],
             [
              0.6666666666666666,
              "#ed7953"
             ],
             [
              0.7777777777777778,
              "#fb9f3a"
             ],
             [
              0.8888888888888888,
              "#fdca26"
             ],
             [
              1,
              "#f0f921"
             ]
            ],
            "type": "surface"
           }
          ],
          "table": [
           {
            "cells": {
             "fill": {
              "color": "#EBF0F8"
             },
             "line": {
              "color": "white"
             }
            },
            "header": {
             "fill": {
              "color": "#C8D4E3"
             },
             "line": {
              "color": "white"
             }
            },
            "type": "table"
           }
          ]
         },
         "layout": {
          "annotationdefaults": {
           "arrowcolor": "#2a3f5f",
           "arrowhead": 0,
           "arrowwidth": 1
          },
          "autotypenumbers": "strict",
          "coloraxis": {
           "colorbar": {
            "outlinewidth": 0,
            "ticks": ""
           }
          },
          "colorscale": {
           "diverging": [
            [
             0,
             "#8e0152"
            ],
            [
             0.1,
             "#c51b7d"
            ],
            [
             0.2,
             "#de77ae"
            ],
            [
             0.3,
             "#f1b6da"
            ],
            [
             0.4,
             "#fde0ef"
            ],
            [
             0.5,
             "#f7f7f7"
            ],
            [
             0.6,
             "#e6f5d0"
            ],
            [
             0.7,
             "#b8e186"
            ],
            [
             0.8,
             "#7fbc41"
            ],
            [
             0.9,
             "#4d9221"
            ],
            [
             1,
             "#276419"
            ]
           ],
           "sequential": [
            [
             0,
             "#0d0887"
            ],
            [
             0.1111111111111111,
             "#46039f"
            ],
            [
             0.2222222222222222,
             "#7201a8"
            ],
            [
             0.3333333333333333,
             "#9c179e"
            ],
            [
             0.4444444444444444,
             "#bd3786"
            ],
            [
             0.5555555555555556,
             "#d8576b"
            ],
            [
             0.6666666666666666,
             "#ed7953"
            ],
            [
             0.7777777777777778,
             "#fb9f3a"
            ],
            [
             0.8888888888888888,
             "#fdca26"
            ],
            [
             1,
             "#f0f921"
            ]
           ],
           "sequentialminus": [
            [
             0,
             "#0d0887"
            ],
            [
             0.1111111111111111,
             "#46039f"
            ],
            [
             0.2222222222222222,
             "#7201a8"
            ],
            [
             0.3333333333333333,
             "#9c179e"
            ],
            [
             0.4444444444444444,
             "#bd3786"
            ],
            [
             0.5555555555555556,
             "#d8576b"
            ],
            [
             0.6666666666666666,
             "#ed7953"
            ],
            [
             0.7777777777777778,
             "#fb9f3a"
            ],
            [
             0.8888888888888888,
             "#fdca26"
            ],
            [
             1,
             "#f0f921"
            ]
           ]
          },
          "colorway": [
           "#636efa",
           "#EF553B",
           "#00cc96",
           "#ab63fa",
           "#FFA15A",
           "#19d3f3",
           "#FF6692",
           "#B6E880",
           "#FF97FF",
           "#FECB52"
          ],
          "font": {
           "color": "#2a3f5f"
          },
          "geo": {
           "bgcolor": "white",
           "lakecolor": "white",
           "landcolor": "#E5ECF6",
           "showlakes": true,
           "showland": true,
           "subunitcolor": "white"
          },
          "hoverlabel": {
           "align": "left"
          },
          "hovermode": "closest",
          "mapbox": {
           "style": "light"
          },
          "paper_bgcolor": "white",
          "plot_bgcolor": "#E5ECF6",
          "polar": {
           "angularaxis": {
            "gridcolor": "white",
            "linecolor": "white",
            "ticks": ""
           },
           "bgcolor": "#E5ECF6",
           "radialaxis": {
            "gridcolor": "white",
            "linecolor": "white",
            "ticks": ""
           }
          },
          "scene": {
           "xaxis": {
            "backgroundcolor": "#E5ECF6",
            "gridcolor": "white",
            "gridwidth": 2,
            "linecolor": "white",
            "showbackground": true,
            "ticks": "",
            "zerolinecolor": "white"
           },
           "yaxis": {
            "backgroundcolor": "#E5ECF6",
            "gridcolor": "white",
            "gridwidth": 2,
            "linecolor": "white",
            "showbackground": true,
            "ticks": "",
            "zerolinecolor": "white"
           },
           "zaxis": {
            "backgroundcolor": "#E5ECF6",
            "gridcolor": "white",
            "gridwidth": 2,
            "linecolor": "white",
            "showbackground": true,
            "ticks": "",
            "zerolinecolor": "white"
           }
          },
          "shapedefaults": {
           "line": {
            "color": "#2a3f5f"
           }
          },
          "ternary": {
           "aaxis": {
            "gridcolor": "white",
            "linecolor": "white",
            "ticks": ""
           },
           "baxis": {
            "gridcolor": "white",
            "linecolor": "white",
            "ticks": ""
           },
           "bgcolor": "#E5ECF6",
           "caxis": {
            "gridcolor": "white",
            "linecolor": "white",
            "ticks": ""
           }
          },
          "title": {
           "x": 0.05
          },
          "xaxis": {
           "automargin": true,
           "gridcolor": "white",
           "linecolor": "white",
           "ticks": "",
           "title": {
            "standoff": 15
           },
           "zerolinecolor": "white",
           "zerolinewidth": 2
          },
          "yaxis": {
           "automargin": true,
           "gridcolor": "white",
           "linecolor": "white",
           "ticks": "",
           "title": {
            "standoff": 15
           },
           "zerolinecolor": "white",
           "zerolinewidth": 2
          }
         }
        },
        "xaxis": {
         "anchor": "y",
         "domain": [
          0,
          1
         ],
         "title": {
          "text": "Income"
         }
        },
        "xaxis2": {
         "anchor": "y2",
         "domain": [
          0,
          1
         ],
         "matches": "x",
         "showgrid": true,
         "showticklabels": false
        },
        "yaxis": {
         "anchor": "x",
         "domain": [
          0,
          0.7326
         ],
         "title": {
          "text": "count"
         }
        },
        "yaxis2": {
         "anchor": "x2",
         "domain": [
          0.7426,
          1
         ],
         "matches": "y2",
         "showgrid": false,
         "showline": false,
         "showticklabels": false,
         "ticks": ""
        }
       }
      }
     },
     "metadata": {},
     "output_type": "display_data"
    }
   ],
   "source": [
    "plot_model(kmeans, plot = 'distribution', feature = 'Income')"
   ]
  },
  {
   "cell_type": "code",
   "execution_count": 14,
   "metadata": {},
   "outputs": [
    {
     "data": {
      "application/vnd.plotly.v1+json": {
       "config": {
        "plotlyServerURL": "https://plot.ly"
       },
       "data": [
        {
         "alignmentgroup": "True",
         "bingroup": "x",
         "hovertemplate": "Cluster=Cluster 0<br>SpendingScore=%{x}<br>count=%{y}<extra></extra>",
         "legendgroup": "Cluster 0",
         "marker": {
          "color": "#636efa",
          "opacity": 0.7,
          "pattern": {
           "shape": ""
          }
         },
         "name": "Cluster 0",
         "offsetgroup": "Cluster 0",
         "orientation": "v",
         "showlegend": true,
         "type": "histogram",
         "x": [
          0.3761654587506353,
          0.3717829785401914,
          0.3670629731870412,
          0.3273154026360584,
          0.2975730342292497,
          0.2793159778940049,
          0.3193886529047028,
          0.3970228936031003,
          0.3217652209320886,
          0.3141730453838618,
          0.336523330181688,
          0.3144466826182581,
          0.2401766350783482,
          0.3567448288797468,
          0.3487775484305074,
          0.3580738593579665,
          0.3970636039704499,
          0.3254914498834959,
          0.2488100687902313,
          0.3474234168306904,
          0.3577883144645876,
          0.303758971334624,
          0.3415457603870515,
          0.3012532342412973,
          0.3216356471662456,
          0.3682153159958089,
          0.2898659849627828,
          0.4735496605323542,
          0.347979632373841,
          0.3136467169954889,
          0.3013734548863508,
          0.4083878319987072,
          0.3423406666949811,
          0.2785878455435617,
          0.3369683066109672,
          0.3668917159124752,
          0.3955062459001081,
          0.3997156855452149,
          0.2780355384470266,
          0.2571749664748936,
          0.3498032558856572,
          0.3056535336752106,
          0.3278623148176303,
          0.3938023931664612,
          0.2410777442746463,
          0.3860515062876168,
          0.3697828881534748,
          0.3181352453742131,
          0.3685156285793065,
          0.2926633744644019,
          0.3421516318130468,
          0.3121481952107594,
          0.3025032231546656,
          0.3172075114569807,
          0.3551490190566364,
          0.3507250914944152,
          0.3144631516753479,
          0.3977396663840212,
          0.4021456613889217,
          0.3768757353168557,
          0.2823512821567113,
          0.2494769403551006,
          0.3885749195868542,
          0.3036980300982536,
          0.3313520070109343,
          0.3104101151420251,
          0.2800595048614143,
          0.2713268321051207,
          0.3032762059432743,
          0.3167510258154691,
          0.2685979050949867,
          0.2718090229374729,
          0.4438327068456706,
          0.3068211973464496,
          0.3247186821733416,
          0.3903905943444749,
          0.3470950600753079,
          0.3017537675837046,
          0.32300404344763,
          0.2812794569155435,
          0.3388488510290433,
          0.4199085281737912,
          0.3293769514872405,
          0.2987969233586417,
          0.3043913649608802,
          0.283922895270403,
          0.348118273264174,
          0.3563068710287742,
          0.3819877440174351,
          0.3336031402694437,
          0.3302260180973432,
          0.3694371368158696,
          0.276101346355296,
          0.2819950483303406,
          0.3082630418510537,
          0.3167603729756968,
          0.2031402397953781,
          0.376146968508639,
          0.3796208481334848,
          0.3228506824321553,
          0.2773889467565771,
          0.3819060693389532,
          0.3660858718547989,
          0.3032923688871533,
          0.3767135304583465,
          0.317423970601333,
          0.3085616998317755,
          0.2862292747117071,
          0.3546791690549572,
          0.2884703320713124,
          0.3041682062164746,
          0.3663120107544869,
          0.3261988874784867,
          0.3536209572557781,
          0.3794963151514172,
          0.377571058498228,
          0.3212403632065312,
          0.2963285713632805,
          0.3317732623948493,
          0.2710645345158168,
          0.2309337663207005,
          0.272609779232364,
          0.3260051328059917,
          0.2827283910152334,
          0.3752921226023747,
          0.3044743722681633,
          0.2645499059687874,
          0.2824885213712914,
          0.4661894446652393,
          0.337569323887528,
          0.3690001696241634,
          0.2979936021899302,
          0.3241935550357819,
          0.2696436303999441,
          0.3364022697976639,
          0.3552896820382759,
          0.3128732065230775,
          0.3184561372216806,
          0.3322388165540652,
          0.3311418077630257,
          0.3036929225036061
         ],
         "xaxis": "x",
         "yaxis": "y"
        },
        {
         "alignmentgroup": "True",
         "customdata": [
          [
           87,
           24578,
           17789.247521813828,
           "Cluster 0"
          ],
          [
           82,
           33636,
           17866.83359752812,
           "Cluster 0"
          ],
          [
           84,
           27693,
           17879.558905551898,
           "Cluster 0"
          ],
          [
           82,
           32494,
           16799.44426666245,
           "Cluster 0"
          ],
          [
           93,
           20440,
           17406.074017844054,
           "Cluster 0"
          ],
          [
           87,
           30178,
           16123.070750832,
           "Cluster 0"
          ],
          [
           91,
           26424,
           16501.46877669979,
           "Cluster 0"
          ],
          [
           84,
           30481,
           16837.205964813103,
           "Cluster 0"
          ],
          [
           89,
           25252,
           16539.364186086335,
           "Cluster 0"
          ],
          [
           94,
           27169,
           15061.77621514237,
           "Cluster 0"
          ],
          [
           86,
           28779,
           16047.268331461928,
           "Cluster 0"
          ],
          [
           94,
           23854,
           16828.410118749016,
           "Cluster 0"
          ],
          [
           86,
           36031,
           16945.326244896307,
           "Cluster 0"
          ],
          [
           88,
           22602,
           16740.343496726702,
           "Cluster 0"
          ],
          [
           87,
           17760,
           16869.507130301474,
           "Cluster 0"
          ],
          [
           85,
           28408,
           15063.335797441836,
           "Cluster 0"
          ],
          [
           92,
           35484,
           17324.045112814925,
           "Cluster 0"
          ],
          [
           85,
           29204,
           16918.90346036913,
           "Cluster 0"
          ],
          [
           90,
           33188,
           15866.913937696345,
           "Cluster 0"
          ],
          [
           84,
           27179,
           15612.6285477669,
           "Cluster 0"
          ],
          [
           90,
           37503,
           17258.57497274541,
           "Cluster 0"
          ],
          [
           90,
           29029,
           15592.991530526488,
           "Cluster 0"
          ],
          [
           86,
           18812,
           16157.734142403424,
           "Cluster 0"
          ],
          [
           82,
           33610,
           17755.664940228176,
           "Cluster 0"
          ],
          [
           86,
           35998,
           20000,
           "Cluster 0"
          ],
          [
           88,
           32708,
           16711.0679804242,
           "Cluster 0"
          ],
          [
           88,
           17851,
           17472.470686173863,
           "Cluster 0"
          ],
          [
           82,
           24221,
           16251.75944521267,
           "Cluster 0"
          ],
          [
           83,
           26882,
           17775.22817123954,
           "Cluster 0"
          ],
          [
           84,
           27384,
           16734.672754073246,
           "Cluster 0"
          ],
          [
           83,
           18162,
           16029.46921391427,
           "Cluster 0"
          ],
          [
           88,
           28802,
           16293.038332542192,
           "Cluster 0"
          ],
          [
           85,
           26355,
           17971.19363998381,
           "Cluster 0"
          ],
          [
           89,
           31096,
           17736.94259966666,
           "Cluster 0"
          ],
          [
           92,
           36032,
           17348.5998812573,
           "Cluster 0"
          ],
          [
           92,
           35877,
           17287.907016982324,
           "Cluster 0"
          ],
          [
           84,
           22286,
           17886.53737311577,
           "Cluster 0"
          ],
          [
           88,
           33303,
           15232.598068845287,
           "Cluster 0"
          ],
          [
           86,
           23400,
           15215.28126373834,
           "Cluster 0"
          ],
          [
           86,
           15695,
           17366.186263516567,
           "Cluster 0"
          ],
          [
           91,
           12038,
           16464.960504438823,
           "Cluster 0"
          ],
          [
           88,
           28409,
           17326.175608364214,
           "Cluster 0"
          ],
          [
           92,
           18724,
           15341.381109594677,
           "Cluster 0"
          ],
          [
           83,
           28497,
           15510.112981164848,
           "Cluster 0"
          ],
          [
           83,
           33170,
           16620.010473689304,
           "Cluster 0"
          ],
          [
           88,
           35051,
           17593.24679258195,
           "Cluster 0"
          ],
          [
           79,
           38201,
           16393.395697309446,
           "Cluster 0"
          ],
          [
           85,
           29610,
           18475.487468080937,
           "Cluster 0"
          ],
          [
           92,
           33550,
           17106.32591058189,
           "Cluster 0"
          ],
          [
           84,
           18244,
           17815.348406878897,
           "Cluster 0"
          ],
          [
           87,
           29909,
           18142.232746738577,
           "Cluster 0"
          ],
          [
           89,
           20292,
           16023.4456584523,
           "Cluster 0"
          ],
          [
           94,
           27771,
           17303.957194969433,
           "Cluster 0"
          ],
          [
           83,
           34529,
           16517.208746949746,
           "Cluster 0"
          ],
          [
           90,
           35297,
           16091.401954058958,
           "Cluster 0"
          ],
          [
           87,
           15671,
           14326.601120246103,
           "Cluster 0"
          ],
          [
           87,
           30812,
           15238.118997598336,
           "Cluster 0"
          ],
          [
           88,
           28585,
           16725.841854363774,
           "Cluster 0"
          ],
          [
           87,
           26665,
           17376.914743318182,
           "Cluster 0"
          ],
          [
           94,
           28352,
           16798.886114738052,
           "Cluster 0"
          ],
          [
           90,
           30178,
           16182.8384364088,
           "Cluster 0"
          ],
          [
           86,
           31994,
           18210.088099070614,
           "Cluster 0"
          ],
          [
           92,
           32915,
           16694.706839244012,
           "Cluster 0"
          ],
          [
           91,
           30756,
           15492.004711465304,
           "Cluster 0"
          ],
          [
           95,
           27038,
           18126.577451151075,
           "Cluster 0"
          ],
          [
           85,
           21250,
           16033.971166673777,
           "Cluster 0"
          ],
          [
           88,
           27169,
           15260.635546195435,
           "Cluster 0"
          ],
          [
           90,
           22288,
           18434.099152391347,
           "Cluster 0"
          ],
          [
           79,
           32421,
           15319.46766227239,
           "Cluster 0"
          ],
          [
           88,
           19510,
           16529.20080632274,
           "Cluster 0"
          ],
          [
           91,
           36991,
           19047.77233878285,
           "Cluster 0"
          ],
          [
           84,
           24105,
           16524.902538052145,
           "Cluster 0"
          ],
          [
           89,
           24520,
           13556.9358834699,
           "Cluster 0"
          ],
          [
           87,
           23322,
           16131.267659393412,
           "Cluster 0"
          ],
          [
           83,
           34384,
           14783.3790857945,
           "Cluster 0"
          ],
          [
           87,
           30102,
           16330.081190027213,
           "Cluster 0"
          ],
          [
           94,
           18937,
           17739.776098377628,
           "Cluster 0"
          ],
          [
           91,
           25886,
           17266.045729118025,
           "Cluster 0"
          ],
          [
           91,
           16950,
           17172.609400509067,
           "Cluster 0"
          ],
          [
           90,
           24376,
           15134.994226396466,
           "Cluster 0"
          ],
          [
           89,
           28160,
           15607.061781887898,
           "Cluster 0"
          ],
          [
           90,
           33490,
           17091.904228934392,
           "Cluster 0"
          ],
          [
           86,
           27705,
           17130.85610211788,
           "Cluster 0"
          ],
          [
           85,
           34802,
           16450.003270402787,
           "Cluster 0"
          ],
          [
           88,
           33251,
           18868.24161249696,
           "Cluster 0"
          ],
          [
           97,
           27271,
           14928.165597390327,
           "Cluster 0"
          ],
          [
           89,
           34524,
           14051.256515312789,
           "Cluster 0"
          ],
          [
           90,
           22782,
           15924.071707885843,
           "Cluster 0"
          ],
          [
           89,
           19202,
           16626.222361477227,
           "Cluster 0"
          ],
          [
           84,
           29492,
           17954.09505703969,
           "Cluster 0"
          ],
          [
           94,
           38923,
           16971.181554867213,
           "Cluster 0"
          ],
          [
           85,
           28401,
           15990.49413056604,
           "Cluster 0"
          ],
          [
           82,
           24391,
           17053.03010738692,
           "Cluster 0"
          ],
          [
           85,
           27599,
           13470.970605037028,
           "Cluster 0"
          ],
          [
           83,
           28727,
           18205.33626089001,
           "Cluster 0"
          ],
          [
           87,
           25566,
           15188.058749407255,
           "Cluster 0"
          ],
          [
           93,
           19934,
           17969.693768505334,
           "Cluster 0"
          ],
          [
           89,
           33311,
           17093.06995548225,
           "Cluster 0"
          ],
          [
           88,
           31366,
           16079.622699815933,
           "Cluster 0"
          ],
          [
           92,
           22616,
           17275.661313984565,
           "Cluster 0"
          ],
          [
           91,
           30148,
           15324.287405101715,
           "Cluster 0"
          ],
          [
           89,
           22008,
           16458.398097731257,
           "Cluster 0"
          ],
          [
           84,
           38042,
           17465.856285855403,
           "Cluster 0"
          ],
          [
           93,
           17672,
           18516.451810726718,
           "Cluster 0"
          ],
          [
           91,
           26917,
           17986.618644605885,
           "Cluster 0"
          ],
          [
           87,
           31481,
           16180.68808203422,
           "Cluster 0"
          ],
          [
           87,
           46910,
           14789.14847617646,
           "Cluster 0"
          ],
          [
           85,
           30794,
           17096.39150937826,
           "Cluster 0"
          ],
          [
           91,
           20681,
           18401.08844474873,
           "Cluster 0"
          ],
          [
           91,
           29750,
           19201.119916275755,
           "Cluster 0"
          ],
          [
           88,
           26351,
           14035.91755354235,
           "Cluster 0"
          ],
          [
           87,
           23042,
           18149.035872923057,
           "Cluster 0"
          ],
          [
           91,
           36639,
           16275.703341192586,
           "Cluster 0"
          ],
          [
           84,
           36463,
           16563.37259114783,
           "Cluster 0"
          ],
          [
           84,
           20704,
           16816.911895743782,
           "Cluster 0"
          ],
          [
           90,
           33259,
           15315.028503741696,
           "Cluster 0"
          ],
          [
           83,
           23206,
           16870.672003783384,
           "Cluster 0"
          ],
          [
           91,
           24370,
           16141.048981383728,
           "Cluster 0"
          ],
          [
           92,
           22484,
           18615.632589788456,
           "Cluster 0"
          ],
          [
           91,
           22672,
           15407.646761130874,
           "Cluster 0"
          ],
          [
           84,
           27544,
           18207.36169648481,
           "Cluster 0"
          ],
          [
           81,
           34425,
           16262.623790655764,
           "Cluster 0"
          ],
          [
           89,
           26940,
           16555.159377159824,
           "Cluster 0"
          ],
          [
           86,
           46977,
           15628.957075805023,
           "Cluster 0"
          ],
          [
           87,
           26045,
           15903.558359374923,
           "Cluster 0"
          ],
          [
           89,
           26127,
           17194.828018777476,
           "Cluster 0"
          ],
          [
           87,
           18459,
           15637.59765457844,
           "Cluster 0"
          ],
          [
           91,
           29082,
           18794.488169074688,
           "Cluster 0"
          ],
          [
           88,
           17388,
           16698.6210372462,
           "Cluster 0"
          ],
          [
           88,
           34001,
           15530.934134298665,
           "Cluster 0"
          ],
          [
           85,
           34634,
           16719.815875018445,
           "Cluster 0"
          ],
          [
           84,
           42018,
           16148.370454036614,
           "Cluster 0"
          ],
          [
           91,
           28777,
           17808.2662415687,
           "Cluster 0"
          ],
          [
           88,
           17946,
           16715.160017840968,
           "Cluster 0"
          ],
          [
           94,
           20719,
           16281.832273239006,
           "Cluster 0"
          ],
          [
           87,
           42592,
           18086.287157859304,
           "Cluster 0"
          ],
          [
           88,
           26092,
           17105.79392615357,
           "Cluster 0"
          ],
          [
           85,
           21652,
           14175.16988549895,
           "Cluster 0"
          ],
          [
           91,
           27168,
           15893.729773516614,
           "Cluster 0"
          ],
          [
           83,
           30721,
           17705.99238527814,
           "Cluster 0"
          ],
          [
           91,
           28165,
           17460.179350212424,
           "Cluster 0"
          ]
         ],
         "hovertemplate": "Cluster=%{customdata[3]}<br>SpendingScore=%{x}<br>Age=%{customdata[0]}<br>Income=%{customdata[1]}<br>Savings=%{customdata[2]}<extra></extra>",
         "legendgroup": "Cluster 0",
         "marker": {
          "color": "#636efa"
         },
         "name": "Cluster 0",
         "notched": true,
         "offsetgroup": "Cluster 0",
         "showlegend": false,
         "type": "box",
         "x": [
          0.3761654587506353,
          0.3717829785401914,
          0.3670629731870412,
          0.3273154026360584,
          0.2975730342292497,
          0.2793159778940049,
          0.3193886529047028,
          0.3970228936031003,
          0.3217652209320886,
          0.3141730453838618,
          0.336523330181688,
          0.3144466826182581,
          0.2401766350783482,
          0.3567448288797468,
          0.3487775484305074,
          0.3580738593579665,
          0.3970636039704499,
          0.3254914498834959,
          0.2488100687902313,
          0.3474234168306904,
          0.3577883144645876,
          0.303758971334624,
          0.3415457603870515,
          0.3012532342412973,
          0.3216356471662456,
          0.3682153159958089,
          0.2898659849627828,
          0.4735496605323542,
          0.347979632373841,
          0.3136467169954889,
          0.3013734548863508,
          0.4083878319987072,
          0.3423406666949811,
          0.2785878455435617,
          0.3369683066109672,
          0.3668917159124752,
          0.3955062459001081,
          0.3997156855452149,
          0.2780355384470266,
          0.2571749664748936,
          0.3498032558856572,
          0.3056535336752106,
          0.3278623148176303,
          0.3938023931664612,
          0.2410777442746463,
          0.3860515062876168,
          0.3697828881534748,
          0.3181352453742131,
          0.3685156285793065,
          0.2926633744644019,
          0.3421516318130468,
          0.3121481952107594,
          0.3025032231546656,
          0.3172075114569807,
          0.3551490190566364,
          0.3507250914944152,
          0.3144631516753479,
          0.3977396663840212,
          0.4021456613889217,
          0.3768757353168557,
          0.2823512821567113,
          0.2494769403551006,
          0.3885749195868542,
          0.3036980300982536,
          0.3313520070109343,
          0.3104101151420251,
          0.2800595048614143,
          0.2713268321051207,
          0.3032762059432743,
          0.3167510258154691,
          0.2685979050949867,
          0.2718090229374729,
          0.4438327068456706,
          0.3068211973464496,
          0.3247186821733416,
          0.3903905943444749,
          0.3470950600753079,
          0.3017537675837046,
          0.32300404344763,
          0.2812794569155435,
          0.3388488510290433,
          0.4199085281737912,
          0.3293769514872405,
          0.2987969233586417,
          0.3043913649608802,
          0.283922895270403,
          0.348118273264174,
          0.3563068710287742,
          0.3819877440174351,
          0.3336031402694437,
          0.3302260180973432,
          0.3694371368158696,
          0.276101346355296,
          0.2819950483303406,
          0.3082630418510537,
          0.3167603729756968,
          0.2031402397953781,
          0.376146968508639,
          0.3796208481334848,
          0.3228506824321553,
          0.2773889467565771,
          0.3819060693389532,
          0.3660858718547989,
          0.3032923688871533,
          0.3767135304583465,
          0.317423970601333,
          0.3085616998317755,
          0.2862292747117071,
          0.3546791690549572,
          0.2884703320713124,
          0.3041682062164746,
          0.3663120107544869,
          0.3261988874784867,
          0.3536209572557781,
          0.3794963151514172,
          0.377571058498228,
          0.3212403632065312,
          0.2963285713632805,
          0.3317732623948493,
          0.2710645345158168,
          0.2309337663207005,
          0.272609779232364,
          0.3260051328059917,
          0.2827283910152334,
          0.3752921226023747,
          0.3044743722681633,
          0.2645499059687874,
          0.2824885213712914,
          0.4661894446652393,
          0.337569323887528,
          0.3690001696241634,
          0.2979936021899302,
          0.3241935550357819,
          0.2696436303999441,
          0.3364022697976639,
          0.3552896820382759,
          0.3128732065230775,
          0.3184561372216806,
          0.3322388165540652,
          0.3311418077630257,
          0.3036929225036061
         ],
         "xaxis": "x2",
         "yaxis": "y2"
        },
        {
         "alignmentgroup": "True",
         "bingroup": "x",
         "hovertemplate": "Cluster=Cluster 1<br>SpendingScore=%{x}<br>count=%{y}<extra></extra>",
         "legendgroup": "Cluster 1",
         "marker": {
          "color": "#EF553B",
          "opacity": 0.7,
          "pattern": {
           "shape": ""
          }
         },
         "name": "Cluster 1",
         "offsetgroup": "Cluster 1",
         "orientation": "v",
         "showlegend": true,
         "type": "histogram",
         "x": [
          0.7965446939835457,
          0.7906578552491133,
          0.742113734041324,
          0.7188952048526104,
          0.7549723463413129,
          0.8005979105724924,
          0.7622805817657738,
          0.7403870808915297,
          0.7480162682831766,
          0.742112121715572,
          0.806499154055182,
          0.7391949797931453,
          0.7527238381125997,
          0.6909167811268888,
          0.7680563479442216,
          0.7459489746307642,
          0.75988343384532,
          0.806565925193039,
          0.7546029986455771,
          0.7737370986430746,
          0.8302949092020397,
          0.6797735912164855,
          0.7517741617758547,
          0.7837795500405715,
          0.7945029052198103,
          0.7249557054919687,
          0.8005783854654352,
          0.7781022309770123,
          0.798012338054483,
          0.7471254610291731,
          0.8017156979122673,
          0.7020090041734849,
          0.7696800667721441,
          0.8380950724014863,
          0.8114711740198254,
          0.7618879582513512,
          0.7756041848937439,
          0.7626699527314824,
          0.7544065421993587,
          0.6922364738673796,
          0.7812961239072382,
          0.7387310917031671,
          0.8115483367376335,
          0.8200359737627068,
          0.7545393292392412,
          0.8441067966472876,
          0.8320590985324969,
          0.7662313009024402,
          0.7656795619984281,
          0.8014869916095588,
          0.7727563051023116,
          0.7237211912021976,
          0.7332568512323248,
          0.7403674891662984,
          0.7143393610830643,
          0.7571277508774099,
          0.7251568963089163,
          0.8999405530923943,
          0.766572365027147,
          0.766594189137425,
          0.7878897626638453,
          0.7026569520102857,
          0.812104912914789,
          0.8191699488980382,
          0.8334590233217959,
          0.8229596005059499,
          0.8405990704520518,
          0.7785687658100923,
          0.787378081122989,
          0.7122963723872477,
          0.8278622414878984,
          0.8122757021441627,
          0.7453271943508174,
          0.7086131723969877,
          0.8271741985123882,
          0.7285849289103553,
          0.7455674638713768,
          0.7331388477995737,
          0.8114707012366371,
          0.753342683616619,
          0.8157116929554062,
          0.84661848692906,
          0.7162678503859907,
          0.8426521453196145,
          0.7316484923943142,
          0.7209986871945887,
          0.7623249166772856,
          0.7565897119333272,
          0.7640283880376706,
          0.7944610508231513,
          0.7702140596767938,
          0.7849450699605269,
          0.8035145098215853,
          0.7275840223364691,
          0.8062102206275251,
          0.7215881830727278,
          0.7436599996604758,
          0.7705945596869115,
          0.7467384433463651,
          0.7665090449070475,
          0.8799059975919311,
          0.717489977384151,
          0.7667195837506832,
          0.8097944168848634,
          0.7215024376129366,
          0.910416682938019,
          0.6993887663543108,
          0.7921059737158539,
          0.7538892176112998,
          0.7907090657200839,
          0.7353568506694507,
          0.823358991009156,
          0.6748906779058501,
          0.7911147257599156,
          0.82240840085096,
          0.7738336308243648,
          0.7745562258521365,
          0.7416839698444291,
          0.8462196017575947,
          0.6969942581249643,
          0.811160373170345,
          0.7910820467274178,
          0.7831591503681397,
          0.8216687745413516,
          0.7210804930623951,
          0.7196850779929922,
          0.7321233689266612,
          0.7225483489421433,
          0.7864400503429185,
          0.7594315957853627,
          0.7323186222078123,
          0.7913287771988531,
          0.777117564607447,
          0.6573140731575163,
          0.7351650452097145,
          0.7966191667425384,
          0.7734352958312237,
          0.7998269700906482,
          0.7600576501232099,
          0.7861892594159869,
          0.7568019251873561,
          0.7697129169369328,
          0.7153396972946453,
          0.7519000198498227,
          0.9045204855363144,
          0.7851978501165687,
          0.8778279844516369
         ],
         "xaxis": "x",
         "yaxis": "y"
        },
        {
         "alignmentgroup": "True",
         "customdata": [
          [
           68,
           77648,
           6190.864082788901,
           "Cluster 1"
          ],
          [
           57,
           76594,
           6584.654681310476,
           "Cluster 1"
          ],
          [
           55,
           76831,
           7806.398750466399,
           "Cluster 1"
          ],
          [
           59,
           77978,
           8316.31110205122,
           "Cluster 1"
          ],
          [
           57,
           72055,
           6544.847498075687,
           "Cluster 1"
          ],
          [
           63,
           85761,
           7175.090218501248,
           "Cluster 1"
          ],
          [
           63,
           56875,
           7837.233619544163,
           "Cluster 1"
          ],
          [
           63,
           69849,
           7670.690965941329,
           "Cluster 1"
          ],
          [
           64,
           62886,
           8302.588638401632,
           "Cluster 1"
          ],
          [
           59,
           69738,
           7151.650866065036,
           "Cluster 1"
          ],
          [
           56,
           73516,
           7696.832373798451,
           "Cluster 1"
          ],
          [
           62,
           73480,
           6277.675150528886,
           "Cluster 1"
          ],
          [
           59,
           69460,
           6101.372146632122,
           "Cluster 1"
          ],
          [
           62,
           80093,
           6756.749072752338,
           "Cluster 1"
          ],
          [
           64,
           60493,
           7708.112609459161,
           "Cluster 1"
          ],
          [
           61,
           78837,
           6811.303235949058,
           "Cluster 1"
          ],
          [
           59,
           69115,
           5997.690199856996,
           "Cluster 1"
          ],
          [
           59,
           56321,
           6129.288986032587,
           "Cluster 1"
          ],
          [
           56,
           65313,
           5574.243676707098,
           "Cluster 1"
          ],
          [
           56,
           75599,
           6799.625271842961,
           "Cluster 1"
          ],
          [
           59,
           73057,
           7819.393215767329,
           "Cluster 1"
          ],
          [
           59,
           73350,
           6710.5740183754415,
           "Cluster 1"
          ],
          [
           65,
           74430,
           7145.251128357927,
           "Cluster 1"
          ],
          [
           58,
           78078,
           6483.049643745244,
           "Cluster 1"
          ],
          [
           59,
           75495,
           6702.9519263157545,
           "Cluster 1"
          ],
          [
           58,
           80248,
           7641.16038162423,
           "Cluster 1"
          ],
          [
           60,
           65942,
           5253.265006608644,
           "Cluster 1"
          ],
          [
           61,
           65914,
           6406.877130352032,
           "Cluster 1"
          ],
          [
           62,
           69326,
           7003.095703317772,
           "Cluster 1"
          ],
          [
           55,
           73895,
           5563.906948891499,
           "Cluster 1"
          ],
          [
           59,
           72588,
           6300.8437570950255,
           "Cluster 1"
          ],
          [
           59,
           71302,
           6595.726010227134,
           "Cluster 1"
          ],
          [
           66,
           82526,
           6205.662650191711,
           "Cluster 1"
          ],
          [
           61,
           71033,
           9456.876962701135,
           "Cluster 1"
          ],
          [
           59,
           65700,
           6932.487932327357,
           "Cluster 1"
          ],
          [
           56,
           63866,
           7762.255066659052,
           "Cluster 1"
          ],
          [
           64,
           76410,
           6135.308197117818,
           "Cluster 1"
          ],
          [
           63,
           80705,
           5154.330634621805,
           "Cluster 1"
          ],
          [
           61,
           68842,
           4077.6586565080543,
           "Cluster 1"
          ],
          [
           61,
           74282,
           7286.754751068365,
           "Cluster 1"
          ],
          [
           59,
           74576,
           10547.775367695343,
           "Cluster 1"
          ],
          [
           53,
           74996,
           7821.447803561914,
           "Cluster 1"
          ],
          [
           66,
           72571,
           6509.411506109981,
           "Cluster 1"
          ],
          [
           63,
           72815,
           5504.385543801038,
           "Cluster 1"
          ],
          [
           60,
           74460,
           7567.647652220367,
           "Cluster 1"
          ],
          [
           61,
           71933,
           8022.208541100705,
           "Cluster 1"
          ],
          [
           60,
           71436,
           8557.86012627717,
           "Cluster 1"
          ],
          [
           57,
           65608,
           6904.318224287021,
           "Cluster 1"
          ],
          [
           59,
           74373,
           7346.334503537976,
           "Cluster 1"
          ],
          [
           59,
           68038,
           7719.283632687175,
           "Cluster 1"
          ],
          [
           61,
           73495,
           9288.189785744367,
           "Cluster 1"
          ],
          [
           58,
           69247,
           8715.67957429646,
           "Cluster 1"
          ],
          [
           55,
           64768,
           6486.353872691102,
           "Cluster 1"
          ],
          [
           64,
           78801,
           6420.944071200261,
           "Cluster 1"
          ],
          [
           60,
           70054,
           6609.918507412547,
           "Cluster 1"
          ],
          [
           64,
           64331,
           5815.660096290825,
           "Cluster 1"
          ],
          [
           59,
           67346,
           8857.849116294088,
           "Cluster 1"
          ],
          [
           63,
           67370,
           5985.077029740456,
           "Cluster 1"
          ],
          [
           62,
           62650,
           7533.673609198676,
           "Cluster 1"
          ],
          [
           66,
           64866,
           5037.899138583947,
           "Cluster 1"
          ],
          [
           65,
           71229,
           9024.337460598084,
           "Cluster 1"
          ],
          [
           62,
           74751,
           9258.992965034067,
           "Cluster 1"
          ],
          [
           60,
           79969,
           4879.334872972362,
           "Cluster 1"
          ],
          [
           62,
           67731,
           5956.555677017446,
           "Cluster 1"
          ],
          [
           61,
           72060,
           7924.641138154016,
           "Cluster 1"
          ],
          [
           58,
           70272,
           5290.087044285296,
           "Cluster 1"
          ],
          [
           57,
           76573,
           6225.376082433229,
           "Cluster 1"
          ],
          [
           65,
           65736,
           6387.2196944302905,
           "Cluster 1"
          ],
          [
           57,
           74014,
           5783.846928267083,
           "Cluster 1"
          ],
          [
           58,
           77559,
           5742.524488088997,
           "Cluster 1"
          ],
          [
           61,
           63846,
           7283.504772674617,
           "Cluster 1"
          ],
          [
           56,
           78992,
           7285.180436851739,
           "Cluster 1"
          ],
          [
           62,
           63596,
           6142.2016193458685,
           "Cluster 1"
          ],
          [
           60,
           65054,
           5417.237293788359,
           "Cluster 1"
          ],
          [
           55,
           78761,
           8376.74947779104,
           "Cluster 1"
          ],
          [
           57,
           64803,
           6255.55264105716,
           "Cluster 1"
          ],
          [
           68,
           68944,
           6828.709702363695,
           "Cluster 1"
          ],
          [
           53,
           62117,
           7500.452413594261,
           "Cluster 1"
          ],
          [
           59,
           67988,
           7255.90311433466,
           "Cluster 1"
          ],
          [
           55,
           71621,
           7780.589913955976,
           "Cluster 1"
          ],
          [
           56,
           68463,
           8995.180087953215,
           "Cluster 1"
          ],
          [
           60,
           67491,
           7180.713788260257,
           "Cluster 1"
          ],
          [
           56,
           68698,
           7070.967006969191,
           "Cluster 1"
          ],
          [
           64,
           71692,
           7002.976554303355,
           "Cluster 1"
          ],
          [
           60,
           65340,
           8354.196507802662,
           "Cluster 1"
          ],
          [
           58,
           69879,
           6669.033518051874,
           "Cluster 1"
          ],
          [
           61,
           72027,
           6926.123598416466,
           "Cluster 1"
          ],
          [
           55,
           71056,
           7464.163256732262,
           "Cluster 1"
          ],
          [
           58,
           70676,
           7664.415650964042,
           "Cluster 1"
          ],
          [
           60,
           70012,
           7263.242447729872,
           "Cluster 1"
          ],
          [
           61,
           74117,
           5103.609230428381,
           "Cluster 1"
          ],
          [
           56,
           84386,
           7270.41953428175,
           "Cluster 1"
          ],
          [
           59,
           82199,
           5880.814834306346,
           "Cluster 1"
          ],
          [
           56,
           60059,
           7166.858605155183,
           "Cluster 1"
          ],
          [
           59,
           90422,
           6746.28108382082,
           "Cluster 1"
          ],
          [
           58,
           76052,
           6681.984386377028,
           "Cluster 1"
          ],
          [
           67,
           59243,
           5446.557472721708,
           "Cluster 1"
          ],
          [
           62,
           62747,
           5852.326242628098,
           "Cluster 1"
          ],
          [
           62,
           67030,
           6740.765182071713,
           "Cluster 1"
          ],
          [
           63,
           70580,
           7262.108723452132,
           "Cluster 1"
          ],
          [
           59,
           69408,
           6491.771149967825,
           "Cluster 1"
          ],
          [
           61,
           65647,
           7497.231607003855,
           "Cluster 1"
          ],
          [
           58,
           77101,
           8148.49184821177,
           "Cluster 1"
          ],
          [
           58,
           75757,
           7390.577293437033,
           "Cluster 1"
          ],
          [
           57,
           75332,
           6845.056822204781,
           "Cluster 1"
          ],
          [
           58,
           78611,
           7665.884294519009,
           "Cluster 1"
          ],
          [
           64,
           76364,
           5772.117135854975,
           "Cluster 1"
          ],
          [
           62,
           69391,
           6518.283467894094,
           "Cluster 1"
          ],
          [
           66,
           71672,
           7387.835437850722,
           "Cluster 1"
          ],
          [
           62,
           78413,
           6961.204192368095,
           "Cluster 1"
          ],
          [
           62,
           71050,
           6988.19736827388,
           "Cluster 1"
          ],
          [
           58,
           80278,
           6335.97831998802,
           "Cluster 1"
          ],
          [
           57,
           69655,
           5889.831167170132,
           "Cluster 1"
          ],
          [
           51,
           72086,
           6732.096068632267,
           "Cluster 1"
          ],
          [
           57,
           79794,
           5893.975284946178,
           "Cluster 1"
          ],
          [
           67,
           68663,
           7451.99401402587,
           "Cluster 1"
          ],
          [
           64,
           88361,
           7240.759687480846,
           "Cluster 1"
          ],
          [
           61,
           69698,
           8777.077471725162,
           "Cluster 1"
          ],
          [
           62,
           69741,
           5781.658046536959,
           "Cluster 1"
          ],
          [
           65,
           70430,
           6971.164886262858,
           "Cluster 1"
          ],
          [
           61,
           73245,
           7413.784487271214,
           "Cluster 1"
          ],
          [
           59,
           81799,
           5417.661426197439,
           "Cluster 1"
          ],
          [
           63,
           75078,
           7468.8510795028,
           "Cluster 1"
          ],
          [
           61,
           69001,
           5074.12121172259,
           "Cluster 1"
          ],
          [
           61,
           71171,
           6457.790641224787,
           "Cluster 1"
          ],
          [
           62,
           68279,
           7028.675510384213,
           "Cluster 1"
          ],
          [
           56,
           86484,
           8777.496176839057,
           "Cluster 1"
          ],
          [
           59,
           67781,
           6701.527664794541,
           "Cluster 1"
          ],
          [
           58,
           78635,
           7162.7390430553605,
           "Cluster 1"
          ],
          [
           56,
           80431,
           8150.55743948241,
           "Cluster 1"
          ],
          [
           63,
           82343,
           8090.706739679063,
           "Cluster 1"
          ],
          [
           58,
           77769,
           6559.829923004832,
           "Cluster 1"
          ],
          [
           61,
           76955,
           7467.0367023144945,
           "Cluster 1"
          ],
          [
           59,
           80876,
           7232.825142650887,
           "Cluster 1"
          ],
          [
           58,
           74340,
           7259.540921675671,
           "Cluster 1"
          ],
          [
           62,
           73675,
           4688.657157271711,
           "Cluster 1"
          ],
          [
           57,
           79470,
           6773.04908977712,
           "Cluster 1"
          ],
          [
           55,
           74356,
           6484.630737953293,
           "Cluster 1"
          ],
          [
           53,
           76667,
           5168.225474983632,
           "Cluster 1"
          ],
          [
           65,
           66017,
           6159.662935925753,
           "Cluster 1"
          ],
          [
           64,
           86283,
           6852.554866914717,
           "Cluster 1"
          ],
          [
           58,
           70259,
           7101.674514204499,
           "Cluster 1"
          ],
          [
           60,
           70663,
           7557.937593550947,
           "Cluster 1"
          ],
          [
           60,
           63476,
           7543.542801728055,
           "Cluster 1"
          ],
          [
           58,
           70369,
           7461.567502649429,
           "Cluster 1"
          ],
          [
           54,
           76500,
           6878.884248553975,
           "Cluster 1"
          ],
          [
           55,
           76057,
           6132.898204816149,
           "Cluster 1"
          ]
         ],
         "hovertemplate": "Cluster=%{customdata[3]}<br>SpendingScore=%{x}<br>Age=%{customdata[0]}<br>Income=%{customdata[1]}<br>Savings=%{customdata[2]}<extra></extra>",
         "legendgroup": "Cluster 1",
         "marker": {
          "color": "#EF553B"
         },
         "name": "Cluster 1",
         "notched": true,
         "offsetgroup": "Cluster 1",
         "showlegend": false,
         "type": "box",
         "x": [
          0.7965446939835457,
          0.7906578552491133,
          0.742113734041324,
          0.7188952048526104,
          0.7549723463413129,
          0.8005979105724924,
          0.7622805817657738,
          0.7403870808915297,
          0.7480162682831766,
          0.742112121715572,
          0.806499154055182,
          0.7391949797931453,
          0.7527238381125997,
          0.6909167811268888,
          0.7680563479442216,
          0.7459489746307642,
          0.75988343384532,
          0.806565925193039,
          0.7546029986455771,
          0.7737370986430746,
          0.8302949092020397,
          0.6797735912164855,
          0.7517741617758547,
          0.7837795500405715,
          0.7945029052198103,
          0.7249557054919687,
          0.8005783854654352,
          0.7781022309770123,
          0.798012338054483,
          0.7471254610291731,
          0.8017156979122673,
          0.7020090041734849,
          0.7696800667721441,
          0.8380950724014863,
          0.8114711740198254,
          0.7618879582513512,
          0.7756041848937439,
          0.7626699527314824,
          0.7544065421993587,
          0.6922364738673796,
          0.7812961239072382,
          0.7387310917031671,
          0.8115483367376335,
          0.8200359737627068,
          0.7545393292392412,
          0.8441067966472876,
          0.8320590985324969,
          0.7662313009024402,
          0.7656795619984281,
          0.8014869916095588,
          0.7727563051023116,
          0.7237211912021976,
          0.7332568512323248,
          0.7403674891662984,
          0.7143393610830643,
          0.7571277508774099,
          0.7251568963089163,
          0.8999405530923943,
          0.766572365027147,
          0.766594189137425,
          0.7878897626638453,
          0.7026569520102857,
          0.812104912914789,
          0.8191699488980382,
          0.8334590233217959,
          0.8229596005059499,
          0.8405990704520518,
          0.7785687658100923,
          0.787378081122989,
          0.7122963723872477,
          0.8278622414878984,
          0.8122757021441627,
          0.7453271943508174,
          0.7086131723969877,
          0.8271741985123882,
          0.7285849289103553,
          0.7455674638713768,
          0.7331388477995737,
          0.8114707012366371,
          0.753342683616619,
          0.8157116929554062,
          0.84661848692906,
          0.7162678503859907,
          0.8426521453196145,
          0.7316484923943142,
          0.7209986871945887,
          0.7623249166772856,
          0.7565897119333272,
          0.7640283880376706,
          0.7944610508231513,
          0.7702140596767938,
          0.7849450699605269,
          0.8035145098215853,
          0.7275840223364691,
          0.8062102206275251,
          0.7215881830727278,
          0.7436599996604758,
          0.7705945596869115,
          0.7467384433463651,
          0.7665090449070475,
          0.8799059975919311,
          0.717489977384151,
          0.7667195837506832,
          0.8097944168848634,
          0.7215024376129366,
          0.910416682938019,
          0.6993887663543108,
          0.7921059737158539,
          0.7538892176112998,
          0.7907090657200839,
          0.7353568506694507,
          0.823358991009156,
          0.6748906779058501,
          0.7911147257599156,
          0.82240840085096,
          0.7738336308243648,
          0.7745562258521365,
          0.7416839698444291,
          0.8462196017575947,
          0.6969942581249643,
          0.811160373170345,
          0.7910820467274178,
          0.7831591503681397,
          0.8216687745413516,
          0.7210804930623951,
          0.7196850779929922,
          0.7321233689266612,
          0.7225483489421433,
          0.7864400503429185,
          0.7594315957853627,
          0.7323186222078123,
          0.7913287771988531,
          0.777117564607447,
          0.6573140731575163,
          0.7351650452097145,
          0.7966191667425384,
          0.7734352958312237,
          0.7998269700906482,
          0.7600576501232099,
          0.7861892594159869,
          0.7568019251873561,
          0.7697129169369328,
          0.7153396972946453,
          0.7519000198498227,
          0.9045204855363144,
          0.7851978501165687,
          0.8778279844516369
         ],
         "xaxis": "x2",
         "yaxis": "y2"
        },
        {
         "alignmentgroup": "True",
         "bingroup": "x",
         "hovertemplate": "Cluster=Cluster 2<br>SpendingScore=%{x}<br>count=%{y}<extra></extra>",
         "legendgroup": "Cluster 2",
         "marker": {
          "color": "#00cc96",
          "opacity": 0.7,
          "pattern": {
           "shape": ""
          }
         },
         "name": "Cluster 2",
         "offsetgroup": "Cluster 2",
         "orientation": "v",
         "showlegend": true,
         "type": "histogram",
         "x": [
          0.2612719132713158,
          0.3283430294033383,
          0.346669076543185,
          0.2905086327499087,
          0.0780961943994333,
          0.3094467811568004,
          0.1238383746409725,
          0.3095111158545869,
          0.3346179841546032,
          0.3741658782934958,
          0.3406596106851227,
          0.0307513143939138,
          0.341239503307387,
          0.3043229953712127,
          0.3089229914936124,
          0.0790490322794597,
          0.2686742663930692,
          0.1260834097584985,
          0.2537347301209012,
          0.3720337099315751,
          0.2944689389706671,
          0.1923436158292553,
          0.0772132400334304,
          0.3587713900686116,
          0.0421548010785584,
          0.2574704443875843,
          0.3388162937437745,
          0.3010873537839331,
          0.3742421881649844,
          0.2763779214063509,
          0.2662947092346973,
          0.3424354833732075,
          0.0251701694773457,
          0.316060414098024,
          0.3334859873871594,
          0.3047918711384766,
          0.2866485050019983,
          0.2702350511848681,
          0.3009135799974076,
          0.3432357689892068,
          0.3194403010352474,
          0.3049430059244968,
          0.0192120658984376,
          0.2301607310342209,
          0.2382437868013801,
          0.355660187354229,
          0.057842956133581,
          0.3401523810436963,
          0.2873708671400807,
          0.3406667947415742,
          0.32541328975821,
          0.0607240352184939,
          0.1282795957567026,
          0.2354504258588228,
          0.330065422314764,
          0.345312577109288,
          0.3392354218755358,
          0.2396771776819925,
          0.3874406981253432,
          0.2864732316476225,
          0.3035961911057213,
          0.2889604994756899,
          0.3242132027621541,
          0.2607006223919937,
          0.4059588503683713,
          0.3445454117798671,
          0.2884688560740983,
          0.3909047196000217,
          0,
          0.2595983487762325,
          0.3694162857692796,
          0.3446792235097859,
          0.3074763135926986,
          0.0632728512966028,
          0.2722279930569666,
          0.0322075423389263,
          0.2867692710102035,
          0.3209300476959025,
          0.2943151380482853,
          0.0408240706625097,
          0.3113555349689566,
          0.2654326074020303,
          0.2864957031483905,
          0.2123600508972585,
          0.2424731551814768,
          0.3360798055671445,
          0.2751372175012176,
          0.3069901582742725,
          0.303863615036657,
          0.3658064971511748,
          0.3744658274308825,
          0.293408760516068,
          0.3427661743407053,
          0.2662460568101488,
          0.3150815497840024,
          0.3766412501689559,
          0.3226762482802641,
          0.3134915614599665,
          0.0367953622110323,
          0.3234464163624235,
          0.2583961137212551,
          0.3050696862135815,
          0.0916792017028315,
          0.3773384910014747,
          0.297401293159654,
          0.123196057747337,
          0.3144900731288347,
          0.3126388486955741,
          0.3279928581002429,
          0.2795578681222758,
          0.2166061433945727,
          0.2282170773869075,
          0.0546531904642098,
          0.3252806065281125,
          0.3803902009461493,
          0.3092049154534187,
          0.3280420856997338,
          0.3302325026567214,
          0.2775867542026021,
          0.0821868319247355,
          0.3849229829012918,
          0.3256230614429721,
          0.279080850187049,
          0.0687782098136733,
          0.347945113577731,
          0.0827227429940155,
          0.4111117138132285,
          0.3054369951589357,
          0.1741204938230648,
          0.3079200040396055,
          0.3433779781521022,
          0.2478622761143138,
          0.2792568364789493,
          0.0290271402910519,
          0.4002811559385194,
          0.2507508056238616,
          0.2474244093916155,
          0.3422142051018276,
          0.3107432443044589,
          0.3627619606240113,
          0.2948164301396663,
          0.2880975671929816,
          0.3630856827120957,
          0.3491110181825554,
          0.3819838041034955,
          0.2862743235826754,
          0.1556940923286098,
          0.2941062030828216
         ],
         "xaxis": "x",
         "yaxis": "y"
        },
        {
         "alignmentgroup": "True",
         "customdata": [
          [
           35,
           108499,
           16046.08301542436,
           "Cluster 2"
          ],
          [
           34,
           107255,
           15130.595225546444,
           "Cluster 2"
          ],
          [
           37,
           107958,
           13641.009538079368,
           "Cluster 2"
          ],
          [
           31,
           107963,
           13407.081391032512,
           "Cluster 2"
          ],
          [
           82,
           126257,
           15816.101922357922,
           "Cluster 2"
          ],
          [
           30,
           108581,
           15628.791650531211,
           "Cluster 2"
          ],
          [
           84,
           114406,
           16840.570583774286,
           "Cluster 2"
          ],
          [
           33,
           98033,
           15774.690605560643,
           "Cluster 2"
          ],
          [
           37,
           107877,
           17968.55392863446,
           "Cluster 2"
          ],
          [
           31,
           105006,
           15419.417763123292,
           "Cluster 2"
          ],
          [
           29,
           116451,
           15294.661511529368,
           "Cluster 2"
          ],
          [
           90,
           124170,
           14773.40720559984,
           "Cluster 2"
          ],
          [
           31,
           112943,
           14297.702229457282,
           "Cluster 2"
          ],
          [
           31,
           101209,
           16917.571691218804,
           "Cluster 2"
          ],
          [
           36,
           108004,
           15813.964573146995,
           "Cluster 2"
          ],
          [
           84,
           110582,
           14937.995169685584,
           "Cluster 2"
          ],
          [
           31,
           108067,
           13316.767286164832,
           "Cluster 2"
          ],
          [
           86,
           128378,
           13585.778624417357,
           "Cluster 2"
          ],
          [
           28,
           111937,
           13669.110632506934,
           "Cluster 2"
          ],
          [
           34,
           98752,
           14975.384238944334,
           "Cluster 2"
          ],
          [
           31,
           107994,
           13685.97236173889,
           "Cluster 2"
          ],
          [
           37,
           108651,
           15881.242198260685,
           "Cluster 2"
          ],
          [
           83,
           117943,
           15391.952192206512,
           "Cluster 2"
          ],
          [
           29,
           119366,
           15012.8530142263,
           "Cluster 2"
          ],
          [
           83,
           119429,
           15607.561541234569,
           "Cluster 2"
          ],
          [
           37,
           97678,
           15834.113173627364,
           "Cluster 2"
          ],
          [
           29,
           103223,
           16252.88305306563,
           "Cluster 2"
          ],
          [
           34,
           103204,
           15149.810421179482,
           "Cluster 2"
          ],
          [
           31,
           107932,
           12207.526078087716,
           "Cluster 2"
          ],
          [
           31,
           102618,
           13209.301612848927,
           "Cluster 2"
          ],
          [
           27,
           106758,
           14942.560723173168,
           "Cluster 2"
          ],
          [
           33,
           107100,
           14895.473479049117,
           "Cluster 2"
          ],
          [
           93,
           126601,
           14117.44703707058,
           "Cluster 2"
          ],
          [
           36,
           100158,
           13832.37937073453,
           "Cluster 2"
          ],
          [
           38,
           113659,
           14364.693391418998,
           "Cluster 2"
          ],
          [
           35,
           117112,
           15908.035997555322,
           "Cluster 2"
          ],
          [
           37,
           110595,
           15235.445457133226,
           "Cluster 2"
          ],
          [
           31,
           101481,
           15226.614133627569,
           "Cluster 2"
          ],
          [
           35,
           112878,
           13755.482301873282,
           "Cluster 2"
          ],
          [
           37,
           106894,
           14075.217365594552,
           "Cluster 2"
          ],
          [
           29,
           110860,
           16260.42103081417,
           "Cluster 2"
          ],
          [
           24,
           110564,
           14967.839625179657,
           "Cluster 2"
          ],
          [
           91,
           118794,
           14047.388986415734,
           "Cluster 2"
          ],
          [
           30,
           107926,
           15520.536309707046,
           "Cluster 2"
          ],
          [
           33,
           111813,
           15901.238967721654,
           "Cluster 2"
          ],
          [
           36,
           109809,
           14978.502144076489,
           "Cluster 2"
          ],
          [
           86,
           115689,
           14803.153273493916,
           "Cluster 2"
          ],
          [
           34,
           89598,
           12832.768720823738,
           "Cluster 2"
          ],
          [
           32,
           108417,
           16696.398659007995,
           "Cluster 2"
          ],
          [
           36,
           101811,
           15048.89961242685,
           "Cluster 2"
          ],
          [
           33,
           108345,
           15646.321717359428,
           "Cluster 2"
          ],
          [
           92,
           122879,
           13709.670274517475,
           "Cluster 2"
          ],
          [
           87,
           117564,
           14000.248964992144,
           "Cluster 2"
          ],
          [
           29,
           91375,
           13104.962760687613,
           "Cluster 2"
          ],
          [
           42,
           106990,
           14856.938997469417,
           "Cluster 2"
          ],
          [
           34,
           111303,
           14624.318634976556,
           "Cluster 2"
          ],
          [
           33,
           106345,
           15300.45379012999,
           "Cluster 2"
          ],
          [
           30,
           107302,
           13993.24401848172,
           "Cluster 2"
          ],
          [
           28,
           101206,
           14936.775388622864,
           "Cluster 2"
          ],
          [
           31,
           104388,
           14406.561248437842,
           "Cluster 2"
          ],
          [
           28,
           94762,
           15352.521936894913,
           "Cluster 2"
          ],
          [
           29,
           102028,
           14634.430692347907,
           "Cluster 2"
          ],
          [
           36,
           109038,
           16502.389477657125,
           "Cluster 2"
          ],
          [
           30,
           102056,
           15370.66882713054,
           "Cluster 2"
          ],
          [
           38,
           104738,
           15634.313868027426,
           "Cluster 2"
          ],
          [
           34,
           104284,
           13541.801770810564,
           "Cluster 2"
          ],
          [
           25,
           101503,
           15026.262148820157,
           "Cluster 2"
          ],
          [
           25,
           106772,
           16353.471790615497,
           "Cluster 2"
          ],
          [
           86,
           124372,
           15374.465952896948,
           "Cluster 2"
          ],
          [
           28,
           100592,
           15520.355775683653,
           "Cluster 2"
          ],
          [
           30,
           106350,
           14863.233588279092,
           "Cluster 2"
          ],
          [
           30,
           99949,
           13621.63972633141,
           "Cluster 2"
          ],
          [
           32,
           101905,
           17532.16478349903,
           "Cluster 2"
          ],
          [
           88,
           120678,
           14264.473846639945,
           "Cluster 2"
          ],
          [
           31,
           105036,
           16465.063521972657,
           "Cluster 2"
          ],
          [
           88,
           114767,
           17833.093470094427,
           "Cluster 2"
          ],
          [
           35,
           110106,
           14924.537223475552,
           "Cluster 2"
          ],
          [
           33,
           116616,
           15104.49811363824,
           "Cluster 2"
          ],
          [
           31,
           116247,
           16178.204715186295,
           "Cluster 2"
          ],
          [
           77,
           128596,
           14503.410786381415,
           "Cluster 2"
          ],
          [
           32,
           117050,
           14310.546206532164,
           "Cluster 2"
          ],
          [
           36,
           99780,
           16398.40133318453,
           "Cluster 2"
          ],
          [
           37,
           108635,
           14558.054542315444,
           "Cluster 2"
          ],
          [
           36,
           104285,
           13347.558779497918,
           "Cluster 2"
          ],
          [
           35,
           107131,
           16200.013010637644,
           "Cluster 2"
          ],
          [
           33,
           92569,
           13765.685995748696,
           "Cluster 2"
          ],
          [
           35,
           102308,
           14874.557991326978,
           "Cluster 2"
          ],
          [
           32,
           110439,
           13873.50756985278,
           "Cluster 2"
          ],
          [
           30,
           108928,
           14339.652917342728,
           "Cluster 2"
          ],
          [
           31,
           99457,
           14580.613477014092,
           "Cluster 2"
          ],
          [
           37,
           97831,
           14935.144813058325,
           "Cluster 2"
          ],
          [
           26,
           97750,
           15823.032361634105,
           "Cluster 2"
          ],
          [
           29,
           112531,
           14361.334979176148,
           "Cluster 2"
          ],
          [
           32,
           95536,
           15420.62564400274,
           "Cluster 2"
          ],
          [
           33,
           101058,
           14911.868398206978,
           "Cluster 2"
          ],
          [
           39,
           100661,
           16873.128638209408,
           "Cluster 2"
          ],
          [
           37,
           110732,
           14265.35184049776,
           "Cluster 2"
          ],
          [
           28,
           97965,
           14981.402201916082,
           "Cluster 2"
          ],
          [
           85,
           111389,
           16009.237762922365,
           "Cluster 2"
          ],
          [
           22,
           109152,
           16022.482482363524,
           "Cluster 2"
          ],
          [
           33,
           106757,
           14431.65279923437,
           "Cluster 2"
          ],
          [
           31,
           114833,
           13953.029721407644,
           "Cluster 2"
          ],
          [
           89,
           119697,
           16215.399076555512,
           "Cluster 2"
          ],
          [
           30,
           96241,
           15485.156009739389,
           "Cluster 2"
          ],
          [
           36,
           98137,
           15978.332837131276,
           "Cluster 2"
          ],
          [
           85,
           118169,
           14855.95102392762,
           "Cluster 2"
          ],
          [
           38,
           115146,
           14798.868153501797,
           "Cluster 2"
          ],
          [
           36,
           105567,
           14355.31094653896,
           "Cluster 2"
          ],
          [
           35,
           104678,
           15422.055799721802,
           "Cluster 2"
          ],
          [
           28,
           99611,
           15345.658121390226,
           "Cluster 2"
          ],
          [
           39,
           99216,
           15230.345105300736,
           "Cluster 2"
          ],
          [
           33,
           99637,
           15139.40314264753,
           "Cluster 2"
          ],
          [
           82,
           121642,
           14177.513323069668,
           "Cluster 2"
          ],
          [
           31,
           110882,
           14004.61374291491,
           "Cluster 2"
          ],
          [
           38,
           94775,
           16867.13082002739,
           "Cluster 2"
          ],
          [
           44,
           114642,
           14067.617788950563,
           "Cluster 2"
          ],
          [
           31,
           107115,
           15693.499570389358,
           "Cluster 2"
          ],
          [
           33,
           94964,
           14018.349867336628,
           "Cluster 2"
          ],
          [
           37,
           106664,
           14479.374117495969,
           "Cluster 2"
          ],
          [
           84,
           122696,
           13809.734086698068,
           "Cluster 2"
          ],
          [
           39,
           100540,
           16741.013894847743,
           "Cluster 2"
          ],
          [
           29,
           101943,
           14619.354282159027,
           "Cluster 2"
          ],
          [
           40,
           98821,
           15995.160053914662,
           "Cluster 2"
          ],
          [
           84,
           115237,
           14396.568282311468,
           "Cluster 2"
          ],
          [
           29,
           106014,
           15038.010746320377,
           "Cluster 2"
          ],
          [
           90,
           117668,
           12554.69274242066,
           "Cluster 2"
          ],
          [
           30,
           98030,
           16316.842905166694,
           "Cluster 2"
          ],
          [
           34,
           119877,
           15634.788286084158,
           "Cluster 2"
          ],
          [
           34,
           98165,
           15721.86284266975,
           "Cluster 2"
          ],
          [
           29,
           99161,
           15631.836772980836,
           "Cluster 2"
          ],
          [
           35,
           105991,
           16616.088239618915,
           "Cluster 2"
          ],
          [
           34,
           102291,
           15819.57760116052,
           "Cluster 2"
          ],
          [
           33,
           114555,
           13746.745438440072,
           "Cluster 2"
          ],
          [
           88,
           123651,
           13504.577571797936,
           "Cluster 2"
          ],
          [
           29,
           111426,
           14352.643773230728,
           "Cluster 2"
          ],
          [
           33,
           105667,
           12869.761073905089,
           "Cluster 2"
          ],
          [
           34,
           103428,
           13791.035761571968,
           "Cluster 2"
          ],
          [
           35,
           106588,
           15648.65667046098,
           "Cluster 2"
          ],
          [
           32,
           106543,
           14337.288328489092,
           "Cluster 2"
          ],
          [
           28,
           109075,
           14082.458238005996,
           "Cluster 2"
          ],
          [
           30,
           107525,
           12702.847385049916,
           "Cluster 2"
          ],
          [
           36,
           96336,
           15286.769335194169,
           "Cluster 2"
          ],
          [
           33,
           100275,
           13735.43874238108,
           "Cluster 2"
          ],
          [
           35,
           101691,
           14152.671689505803,
           "Cluster 2"
          ],
          [
           43,
           101641,
           14424.09799559298,
           "Cluster 2"
          ],
          [
           31,
           105826,
           13856.805832195869,
           "Cluster 2"
          ],
          [
           83,
           117347,
           15086.701120471578,
           "Cluster 2"
          ],
          [
           31,
           111449,
           13929.62155143948,
           "Cluster 2"
          ]
         ],
         "hovertemplate": "Cluster=%{customdata[3]}<br>SpendingScore=%{x}<br>Age=%{customdata[0]}<br>Income=%{customdata[1]}<br>Savings=%{customdata[2]}<extra></extra>",
         "legendgroup": "Cluster 2",
         "marker": {
          "color": "#00cc96"
         },
         "name": "Cluster 2",
         "notched": true,
         "offsetgroup": "Cluster 2",
         "showlegend": false,
         "type": "box",
         "x": [
          0.2612719132713158,
          0.3283430294033383,
          0.346669076543185,
          0.2905086327499087,
          0.0780961943994333,
          0.3094467811568004,
          0.1238383746409725,
          0.3095111158545869,
          0.3346179841546032,
          0.3741658782934958,
          0.3406596106851227,
          0.0307513143939138,
          0.341239503307387,
          0.3043229953712127,
          0.3089229914936124,
          0.0790490322794597,
          0.2686742663930692,
          0.1260834097584985,
          0.2537347301209012,
          0.3720337099315751,
          0.2944689389706671,
          0.1923436158292553,
          0.0772132400334304,
          0.3587713900686116,
          0.0421548010785584,
          0.2574704443875843,
          0.3388162937437745,
          0.3010873537839331,
          0.3742421881649844,
          0.2763779214063509,
          0.2662947092346973,
          0.3424354833732075,
          0.0251701694773457,
          0.316060414098024,
          0.3334859873871594,
          0.3047918711384766,
          0.2866485050019983,
          0.2702350511848681,
          0.3009135799974076,
          0.3432357689892068,
          0.3194403010352474,
          0.3049430059244968,
          0.0192120658984376,
          0.2301607310342209,
          0.2382437868013801,
          0.355660187354229,
          0.057842956133581,
          0.3401523810436963,
          0.2873708671400807,
          0.3406667947415742,
          0.32541328975821,
          0.0607240352184939,
          0.1282795957567026,
          0.2354504258588228,
          0.330065422314764,
          0.345312577109288,
          0.3392354218755358,
          0.2396771776819925,
          0.3874406981253432,
          0.2864732316476225,
          0.3035961911057213,
          0.2889604994756899,
          0.3242132027621541,
          0.2607006223919937,
          0.4059588503683713,
          0.3445454117798671,
          0.2884688560740983,
          0.3909047196000217,
          0,
          0.2595983487762325,
          0.3694162857692796,
          0.3446792235097859,
          0.3074763135926986,
          0.0632728512966028,
          0.2722279930569666,
          0.0322075423389263,
          0.2867692710102035,
          0.3209300476959025,
          0.2943151380482853,
          0.0408240706625097,
          0.3113555349689566,
          0.2654326074020303,
          0.2864957031483905,
          0.2123600508972585,
          0.2424731551814768,
          0.3360798055671445,
          0.2751372175012176,
          0.3069901582742725,
          0.303863615036657,
          0.3658064971511748,
          0.3744658274308825,
          0.293408760516068,
          0.3427661743407053,
          0.2662460568101488,
          0.3150815497840024,
          0.3766412501689559,
          0.3226762482802641,
          0.3134915614599665,
          0.0367953622110323,
          0.3234464163624235,
          0.2583961137212551,
          0.3050696862135815,
          0.0916792017028315,
          0.3773384910014747,
          0.297401293159654,
          0.123196057747337,
          0.3144900731288347,
          0.3126388486955741,
          0.3279928581002429,
          0.2795578681222758,
          0.2166061433945727,
          0.2282170773869075,
          0.0546531904642098,
          0.3252806065281125,
          0.3803902009461493,
          0.3092049154534187,
          0.3280420856997338,
          0.3302325026567214,
          0.2775867542026021,
          0.0821868319247355,
          0.3849229829012918,
          0.3256230614429721,
          0.279080850187049,
          0.0687782098136733,
          0.347945113577731,
          0.0827227429940155,
          0.4111117138132285,
          0.3054369951589357,
          0.1741204938230648,
          0.3079200040396055,
          0.3433779781521022,
          0.2478622761143138,
          0.2792568364789493,
          0.0290271402910519,
          0.4002811559385194,
          0.2507508056238616,
          0.2474244093916155,
          0.3422142051018276,
          0.3107432443044589,
          0.3627619606240113,
          0.2948164301396663,
          0.2880975671929816,
          0.3630856827120957,
          0.3491110181825554,
          0.3819838041034955,
          0.2862743235826754,
          0.1556940923286098,
          0.2941062030828216
         ],
         "xaxis": "x2",
         "yaxis": "y2"
        },
        {
         "alignmentgroup": "True",
         "bingroup": "x",
         "hovertemplate": "Cluster=Cluster 3<br>SpendingScore=%{x}<br>count=%{y}<extra></extra>",
         "legendgroup": "Cluster 3",
         "marker": {
          "color": "#ab63fa",
          "opacity": 0.7,
          "pattern": {
           "shape": ""
          }
         },
         "name": "Cluster 3",
         "offsetgroup": "Cluster 3",
         "orientation": "v",
         "showlegend": true,
         "type": "histogram",
         "x": [
          0.8807194909406801,
          0.9268183658411524,
          0.9845261943505972,
          0.8640569016468125,
          0.9399954311014268,
          0.8716976842508705,
          0.9388521378701832,
          0.9400873084125808,
          0.89046022417733,
          0.8727356634334804,
          0.8250298045601994,
          1,
          0.8814245468734898,
          0.8569692823607705,
          0.8733219541371664,
          0.935876103673024,
          0.9254385568124625,
          0.8320252689431032,
          0.8167389887954251,
          0.890891247267583,
          0.9118386021444842,
          0.9054521594192038,
          0.944017175810026,
          0.8985788437238403,
          0.9517923119702948,
          0.8940806156500202,
          0.9596454072349518,
          0.910107112831516,
          0.9308319590820414,
          0.9072421746334024,
          0.8650328592458483,
          0.9226565539031124,
          0.8770521049168103,
          0.8065528615489801,
          0.8898001728484242,
          0.8271179432765905,
          0.8728724057273831,
          0.8870519941988757,
          0.9137660194970426,
          0.9420129076091708,
          0.8706980046008759,
          0.9842407862639496,
          0.8747208244890404,
          0.857078493256913
         ],
         "xaxis": "x",
         "yaxis": "y"
        },
        {
         "alignmentgroup": "True",
         "customdata": [
          [
           26,
           131827,
           4352.699304837541,
           "Cluster 3"
          ],
          [
           26,
           125662,
           6089.47832250152,
           "Cluster 3"
          ],
          [
           26,
           123005,
           4371.23473281147,
           "Cluster 3"
          ],
          [
           25,
           131009,
           4792.426581212785,
           "Cluster 3"
          ],
          [
           20,
           129469,
           5522.573424346325,
           "Cluster 3"
          ],
          [
           24,
           136644,
           1617.2257000775644,
           "Cluster 3"
          ],
          [
           24,
           134389,
           4573.60634580409,
           "Cluster 3"
          ],
          [
           29,
           142000,
           5349.821181717665,
           "Cluster 3"
          ],
          [
           31,
           122924,
           3071.9445761529696,
           "Cluster 3"
          ],
          [
           23,
           129937,
           4102.065424707484,
           "Cluster 3"
          ],
          [
           26,
           127320,
           5495.642137901323,
           "Cluster 3"
          ],
          [
           22,
           120525,
           5495.165732288548,
           "Cluster 3"
          ],
          [
           28,
           127699,
           5490.8149556706885,
           "Cluster 3"
          ],
          [
           28,
           121216,
           5349.065446955783,
           "Cluster 3"
          ],
          [
           28,
           123229,
           610.4462190811464,
           "Cluster 3"
          ],
          [
           17,
           136255,
           4126.22665140887,
           "Cluster 3"
          ],
          [
           25,
           130361,
           4691.55213906238,
           "Cluster 3"
          ],
          [
           21,
           123678,
           2838.815820835909,
           "Cluster 3"
          ],
          [
           25,
           128625,
           4914.117127206948,
           "Cluster 3"
          ],
          [
           18,
           130813,
           5256.434559627984,
           "Cluster 3"
          ],
          [
           24,
           130974,
           4420.0727101369375,
           "Cluster 3"
          ],
          [
           24,
           127352,
           2961.716874324024,
           "Cluster 3"
          ],
          [
           25,
           138021,
           3005.577482475175,
           "Cluster 3"
          ],
          [
           29,
           122264,
           2494.55627432471,
           "Cluster 3"
          ],
          [
           21,
           129726,
           4550.799521687883,
           "Cluster 3"
          ],
          [
           20,
           122581,
           4444.447684252053,
           "Cluster 3"
          ],
          [
           27,
           125008,
           2963.637708058779,
           "Cluster 3"
          ],
          [
           27,
           122671,
           4206.28723870951,
           "Cluster 3"
          ],
          [
           28,
           129019,
           3016.8206434862623,
           "Cluster 3"
          ],
          [
           17,
           134966,
           4128.044795832437,
           "Cluster 3"
          ],
          [
           23,
           126500,
           3270.1504344070872,
           "Cluster 3"
          ],
          [
           23,
           138443,
           3297.058843994153,
           "Cluster 3"
          ],
          [
           26,
           126617,
           2913.368146562765,
           "Cluster 3"
          ],
          [
           18,
           123718,
           4420.445820614172,
           "Cluster 3"
          ],
          [
           22,
           132948,
           2839.7863574778585,
           "Cluster 3"
          ],
          [
           24,
           129087,
           3290.829468618805,
           "Cluster 3"
          ],
          [
           30,
           122788,
           5706.149573297764,
           "Cluster 3"
          ],
          [
           20,
           129142,
           5603.121027746489,
           "Cluster 3"
          ],
          [
           25,
           130934,
           3942.389134492165,
           "Cluster 3"
          ],
          [
           17,
           123828,
           3798.8403998790254,
           "Cluster 3"
          ],
          [
           22,
           134209,
           5138.109568643242,
           "Cluster 3"
          ],
          [
           28,
           123153,
           3697.51364538533,
           "Cluster 3"
          ],
          [
           24,
           134384,
           3731.339761444919,
           "Cluster 3"
          ],
          [
           28,
           117108,
           4749.879237491619,
           "Cluster 3"
          ]
         ],
         "hovertemplate": "Cluster=%{customdata[3]}<br>SpendingScore=%{x}<br>Age=%{customdata[0]}<br>Income=%{customdata[1]}<br>Savings=%{customdata[2]}<extra></extra>",
         "legendgroup": "Cluster 3",
         "marker": {
          "color": "#ab63fa"
         },
         "name": "Cluster 3",
         "notched": true,
         "offsetgroup": "Cluster 3",
         "showlegend": false,
         "type": "box",
         "x": [
          0.8807194909406801,
          0.9268183658411524,
          0.9845261943505972,
          0.8640569016468125,
          0.9399954311014268,
          0.8716976842508705,
          0.9388521378701832,
          0.9400873084125808,
          0.89046022417733,
          0.8727356634334804,
          0.8250298045601994,
          1,
          0.8814245468734898,
          0.8569692823607705,
          0.8733219541371664,
          0.935876103673024,
          0.9254385568124625,
          0.8320252689431032,
          0.8167389887954251,
          0.890891247267583,
          0.9118386021444842,
          0.9054521594192038,
          0.944017175810026,
          0.8985788437238403,
          0.9517923119702948,
          0.8940806156500202,
          0.9596454072349518,
          0.910107112831516,
          0.9308319590820414,
          0.9072421746334024,
          0.8650328592458483,
          0.9226565539031124,
          0.8770521049168103,
          0.8065528615489801,
          0.8898001728484242,
          0.8271179432765905,
          0.8728724057273831,
          0.8870519941988757,
          0.9137660194970426,
          0.9420129076091708,
          0.8706980046008759,
          0.9842407862639496,
          0.8747208244890404,
          0.857078493256913
         ],
         "xaxis": "x2",
         "yaxis": "y2"
        }
       ],
       "layout": {
        "barmode": "relative",
        "height": 600,
        "legend": {
         "title": {
          "text": "Cluster"
         },
         "tracegroupgap": 0
        },
        "margin": {
         "t": 60
        },
        "template": {
         "data": {
          "bar": [
           {
            "error_x": {
             "color": "#2a3f5f"
            },
            "error_y": {
             "color": "#2a3f5f"
            },
            "marker": {
             "line": {
              "color": "#E5ECF6",
              "width": 0.5
             },
             "pattern": {
              "fillmode": "overlay",
              "size": 10,
              "solidity": 0.2
             }
            },
            "type": "bar"
           }
          ],
          "barpolar": [
           {
            "marker": {
             "line": {
              "color": "#E5ECF6",
              "width": 0.5
             },
             "pattern": {
              "fillmode": "overlay",
              "size": 10,
              "solidity": 0.2
             }
            },
            "type": "barpolar"
           }
          ],
          "carpet": [
           {
            "aaxis": {
             "endlinecolor": "#2a3f5f",
             "gridcolor": "white",
             "linecolor": "white",
             "minorgridcolor": "white",
             "startlinecolor": "#2a3f5f"
            },
            "baxis": {
             "endlinecolor": "#2a3f5f",
             "gridcolor": "white",
             "linecolor": "white",
             "minorgridcolor": "white",
             "startlinecolor": "#2a3f5f"
            },
            "type": "carpet"
           }
          ],
          "choropleth": [
           {
            "colorbar": {
             "outlinewidth": 0,
             "ticks": ""
            },
            "type": "choropleth"
           }
          ],
          "contour": [
           {
            "colorbar": {
             "outlinewidth": 0,
             "ticks": ""
            },
            "colorscale": [
             [
              0,
              "#0d0887"
             ],
             [
              0.1111111111111111,
              "#46039f"
             ],
             [
              0.2222222222222222,
              "#7201a8"
             ],
             [
              0.3333333333333333,
              "#9c179e"
             ],
             [
              0.4444444444444444,
              "#bd3786"
             ],
             [
              0.5555555555555556,
              "#d8576b"
             ],
             [
              0.6666666666666666,
              "#ed7953"
             ],
             [
              0.7777777777777778,
              "#fb9f3a"
             ],
             [
              0.8888888888888888,
              "#fdca26"
             ],
             [
              1,
              "#f0f921"
             ]
            ],
            "type": "contour"
           }
          ],
          "contourcarpet": [
           {
            "colorbar": {
             "outlinewidth": 0,
             "ticks": ""
            },
            "type": "contourcarpet"
           }
          ],
          "heatmap": [
           {
            "colorbar": {
             "outlinewidth": 0,
             "ticks": ""
            },
            "colorscale": [
             [
              0,
              "#0d0887"
             ],
             [
              0.1111111111111111,
              "#46039f"
             ],
             [
              0.2222222222222222,
              "#7201a8"
             ],
             [
              0.3333333333333333,
              "#9c179e"
             ],
             [
              0.4444444444444444,
              "#bd3786"
             ],
             [
              0.5555555555555556,
              "#d8576b"
             ],
             [
              0.6666666666666666,
              "#ed7953"
             ],
             [
              0.7777777777777778,
              "#fb9f3a"
             ],
             [
              0.8888888888888888,
              "#fdca26"
             ],
             [
              1,
              "#f0f921"
             ]
            ],
            "type": "heatmap"
           }
          ],
          "heatmapgl": [
           {
            "colorbar": {
             "outlinewidth": 0,
             "ticks": ""
            },
            "colorscale": [
             [
              0,
              "#0d0887"
             ],
             [
              0.1111111111111111,
              "#46039f"
             ],
             [
              0.2222222222222222,
              "#7201a8"
             ],
             [
              0.3333333333333333,
              "#9c179e"
             ],
             [
              0.4444444444444444,
              "#bd3786"
             ],
             [
              0.5555555555555556,
              "#d8576b"
             ],
             [
              0.6666666666666666,
              "#ed7953"
             ],
             [
              0.7777777777777778,
              "#fb9f3a"
             ],
             [
              0.8888888888888888,
              "#fdca26"
             ],
             [
              1,
              "#f0f921"
             ]
            ],
            "type": "heatmapgl"
           }
          ],
          "histogram": [
           {
            "marker": {
             "pattern": {
              "fillmode": "overlay",
              "size": 10,
              "solidity": 0.2
             }
            },
            "type": "histogram"
           }
          ],
          "histogram2d": [
           {
            "colorbar": {
             "outlinewidth": 0,
             "ticks": ""
            },
            "colorscale": [
             [
              0,
              "#0d0887"
             ],
             [
              0.1111111111111111,
              "#46039f"
             ],
             [
              0.2222222222222222,
              "#7201a8"
             ],
             [
              0.3333333333333333,
              "#9c179e"
             ],
             [
              0.4444444444444444,
              "#bd3786"
             ],
             [
              0.5555555555555556,
              "#d8576b"
             ],
             [
              0.6666666666666666,
              "#ed7953"
             ],
             [
              0.7777777777777778,
              "#fb9f3a"
             ],
             [
              0.8888888888888888,
              "#fdca26"
             ],
             [
              1,
              "#f0f921"
             ]
            ],
            "type": "histogram2d"
           }
          ],
          "histogram2dcontour": [
           {
            "colorbar": {
             "outlinewidth": 0,
             "ticks": ""
            },
            "colorscale": [
             [
              0,
              "#0d0887"
             ],
             [
              0.1111111111111111,
              "#46039f"
             ],
             [
              0.2222222222222222,
              "#7201a8"
             ],
             [
              0.3333333333333333,
              "#9c179e"
             ],
             [
              0.4444444444444444,
              "#bd3786"
             ],
             [
              0.5555555555555556,
              "#d8576b"
             ],
             [
              0.6666666666666666,
              "#ed7953"
             ],
             [
              0.7777777777777778,
              "#fb9f3a"
             ],
             [
              0.8888888888888888,
              "#fdca26"
             ],
             [
              1,
              "#f0f921"
             ]
            ],
            "type": "histogram2dcontour"
           }
          ],
          "mesh3d": [
           {
            "colorbar": {
             "outlinewidth": 0,
             "ticks": ""
            },
            "type": "mesh3d"
           }
          ],
          "parcoords": [
           {
            "line": {
             "colorbar": {
              "outlinewidth": 0,
              "ticks": ""
             }
            },
            "type": "parcoords"
           }
          ],
          "pie": [
           {
            "automargin": true,
            "type": "pie"
           }
          ],
          "scatter": [
           {
            "marker": {
             "colorbar": {
              "outlinewidth": 0,
              "ticks": ""
             }
            },
            "type": "scatter"
           }
          ],
          "scatter3d": [
           {
            "line": {
             "colorbar": {
              "outlinewidth": 0,
              "ticks": ""
             }
            },
            "marker": {
             "colorbar": {
              "outlinewidth": 0,
              "ticks": ""
             }
            },
            "type": "scatter3d"
           }
          ],
          "scattercarpet": [
           {
            "marker": {
             "colorbar": {
              "outlinewidth": 0,
              "ticks": ""
             }
            },
            "type": "scattercarpet"
           }
          ],
          "scattergeo": [
           {
            "marker": {
             "colorbar": {
              "outlinewidth": 0,
              "ticks": ""
             }
            },
            "type": "scattergeo"
           }
          ],
          "scattergl": [
           {
            "marker": {
             "colorbar": {
              "outlinewidth": 0,
              "ticks": ""
             }
            },
            "type": "scattergl"
           }
          ],
          "scattermapbox": [
           {
            "marker": {
             "colorbar": {
              "outlinewidth": 0,
              "ticks": ""
             }
            },
            "type": "scattermapbox"
           }
          ],
          "scatterpolar": [
           {
            "marker": {
             "colorbar": {
              "outlinewidth": 0,
              "ticks": ""
             }
            },
            "type": "scatterpolar"
           }
          ],
          "scatterpolargl": [
           {
            "marker": {
             "colorbar": {
              "outlinewidth": 0,
              "ticks": ""
             }
            },
            "type": "scatterpolargl"
           }
          ],
          "scatterternary": [
           {
            "marker": {
             "colorbar": {
              "outlinewidth": 0,
              "ticks": ""
             }
            },
            "type": "scatterternary"
           }
          ],
          "surface": [
           {
            "colorbar": {
             "outlinewidth": 0,
             "ticks": ""
            },
            "colorscale": [
             [
              0,
              "#0d0887"
             ],
             [
              0.1111111111111111,
              "#46039f"
             ],
             [
              0.2222222222222222,
              "#7201a8"
             ],
             [
              0.3333333333333333,
              "#9c179e"
             ],
             [
              0.4444444444444444,
              "#bd3786"
             ],
             [
              0.5555555555555556,
              "#d8576b"
             ],
             [
              0.6666666666666666,
              "#ed7953"
             ],
             [
              0.7777777777777778,
              "#fb9f3a"
             ],
             [
              0.8888888888888888,
              "#fdca26"
             ],
             [
              1,
              "#f0f921"
             ]
            ],
            "type": "surface"
           }
          ],
          "table": [
           {
            "cells": {
             "fill": {
              "color": "#EBF0F8"
             },
             "line": {
              "color": "white"
             }
            },
            "header": {
             "fill": {
              "color": "#C8D4E3"
             },
             "line": {
              "color": "white"
             }
            },
            "type": "table"
           }
          ]
         },
         "layout": {
          "annotationdefaults": {
           "arrowcolor": "#2a3f5f",
           "arrowhead": 0,
           "arrowwidth": 1
          },
          "autotypenumbers": "strict",
          "coloraxis": {
           "colorbar": {
            "outlinewidth": 0,
            "ticks": ""
           }
          },
          "colorscale": {
           "diverging": [
            [
             0,
             "#8e0152"
            ],
            [
             0.1,
             "#c51b7d"
            ],
            [
             0.2,
             "#de77ae"
            ],
            [
             0.3,
             "#f1b6da"
            ],
            [
             0.4,
             "#fde0ef"
            ],
            [
             0.5,
             "#f7f7f7"
            ],
            [
             0.6,
             "#e6f5d0"
            ],
            [
             0.7,
             "#b8e186"
            ],
            [
             0.8,
             "#7fbc41"
            ],
            [
             0.9,
             "#4d9221"
            ],
            [
             1,
             "#276419"
            ]
           ],
           "sequential": [
            [
             0,
             "#0d0887"
            ],
            [
             0.1111111111111111,
             "#46039f"
            ],
            [
             0.2222222222222222,
             "#7201a8"
            ],
            [
             0.3333333333333333,
             "#9c179e"
            ],
            [
             0.4444444444444444,
             "#bd3786"
            ],
            [
             0.5555555555555556,
             "#d8576b"
            ],
            [
             0.6666666666666666,
             "#ed7953"
            ],
            [
             0.7777777777777778,
             "#fb9f3a"
            ],
            [
             0.8888888888888888,
             "#fdca26"
            ],
            [
             1,
             "#f0f921"
            ]
           ],
           "sequentialminus": [
            [
             0,
             "#0d0887"
            ],
            [
             0.1111111111111111,
             "#46039f"
            ],
            [
             0.2222222222222222,
             "#7201a8"
            ],
            [
             0.3333333333333333,
             "#9c179e"
            ],
            [
             0.4444444444444444,
             "#bd3786"
            ],
            [
             0.5555555555555556,
             "#d8576b"
            ],
            [
             0.6666666666666666,
             "#ed7953"
            ],
            [
             0.7777777777777778,
             "#fb9f3a"
            ],
            [
             0.8888888888888888,
             "#fdca26"
            ],
            [
             1,
             "#f0f921"
            ]
           ]
          },
          "colorway": [
           "#636efa",
           "#EF553B",
           "#00cc96",
           "#ab63fa",
           "#FFA15A",
           "#19d3f3",
           "#FF6692",
           "#B6E880",
           "#FF97FF",
           "#FECB52"
          ],
          "font": {
           "color": "#2a3f5f"
          },
          "geo": {
           "bgcolor": "white",
           "lakecolor": "white",
           "landcolor": "#E5ECF6",
           "showlakes": true,
           "showland": true,
           "subunitcolor": "white"
          },
          "hoverlabel": {
           "align": "left"
          },
          "hovermode": "closest",
          "mapbox": {
           "style": "light"
          },
          "paper_bgcolor": "white",
          "plot_bgcolor": "#E5ECF6",
          "polar": {
           "angularaxis": {
            "gridcolor": "white",
            "linecolor": "white",
            "ticks": ""
           },
           "bgcolor": "#E5ECF6",
           "radialaxis": {
            "gridcolor": "white",
            "linecolor": "white",
            "ticks": ""
           }
          },
          "scene": {
           "xaxis": {
            "backgroundcolor": "#E5ECF6",
            "gridcolor": "white",
            "gridwidth": 2,
            "linecolor": "white",
            "showbackground": true,
            "ticks": "",
            "zerolinecolor": "white"
           },
           "yaxis": {
            "backgroundcolor": "#E5ECF6",
            "gridcolor": "white",
            "gridwidth": 2,
            "linecolor": "white",
            "showbackground": true,
            "ticks": "",
            "zerolinecolor": "white"
           },
           "zaxis": {
            "backgroundcolor": "#E5ECF6",
            "gridcolor": "white",
            "gridwidth": 2,
            "linecolor": "white",
            "showbackground": true,
            "ticks": "",
            "zerolinecolor": "white"
           }
          },
          "shapedefaults": {
           "line": {
            "color": "#2a3f5f"
           }
          },
          "ternary": {
           "aaxis": {
            "gridcolor": "white",
            "linecolor": "white",
            "ticks": ""
           },
           "baxis": {
            "gridcolor": "white",
            "linecolor": "white",
            "ticks": ""
           },
           "bgcolor": "#E5ECF6",
           "caxis": {
            "gridcolor": "white",
            "linecolor": "white",
            "ticks": ""
           }
          },
          "title": {
           "x": 0.05
          },
          "xaxis": {
           "automargin": true,
           "gridcolor": "white",
           "linecolor": "white",
           "ticks": "",
           "title": {
            "standoff": 15
           },
           "zerolinecolor": "white",
           "zerolinewidth": 2
          },
          "yaxis": {
           "automargin": true,
           "gridcolor": "white",
           "linecolor": "white",
           "ticks": "",
           "title": {
            "standoff": 15
           },
           "zerolinecolor": "white",
           "zerolinewidth": 2
          }
         }
        },
        "xaxis": {
         "anchor": "y",
         "domain": [
          0,
          1
         ],
         "title": {
          "text": "SpendingScore"
         }
        },
        "xaxis2": {
         "anchor": "y2",
         "domain": [
          0,
          1
         ],
         "matches": "x",
         "showgrid": true,
         "showticklabels": false
        },
        "yaxis": {
         "anchor": "x",
         "domain": [
          0,
          0.7326
         ],
         "title": {
          "text": "count"
         }
        },
        "yaxis2": {
         "anchor": "x2",
         "domain": [
          0.7426,
          1
         ],
         "matches": "y2",
         "showgrid": false,
         "showline": false,
         "showticklabels": false,
         "ticks": ""
        }
       }
      }
     },
     "metadata": {},
     "output_type": "display_data"
    }
   ],
   "source": [
    "plot_model(kmeans, plot = 'distribution', feature = 'SpendingScore')"
   ]
  },
  {
   "cell_type": "code",
   "execution_count": 15,
   "metadata": {},
   "outputs": [
    {
     "data": {
      "text/html": [
       "<div>\n",
       "<style scoped>\n",
       "    .dataframe tbody tr th:only-of-type {\n",
       "        vertical-align: middle;\n",
       "    }\n",
       "\n",
       "    .dataframe tbody tr th {\n",
       "        vertical-align: top;\n",
       "    }\n",
       "\n",
       "    .dataframe thead th {\n",
       "        text-align: right;\n",
       "    }\n",
       "</style>\n",
       "<table border=\"1\" class=\"dataframe\">\n",
       "  <thead>\n",
       "    <tr style=\"text-align: right;\">\n",
       "      <th></th>\n",
       "      <th>Age</th>\n",
       "      <th>Income</th>\n",
       "      <th>SpendingScore</th>\n",
       "      <th>Savings</th>\n",
       "      <th>Cluster</th>\n",
       "    </tr>\n",
       "  </thead>\n",
       "  <tbody>\n",
       "    <tr>\n",
       "      <th>0</th>\n",
       "      <td>65</td>\n",
       "      <td>71229</td>\n",
       "      <td>0.787890</td>\n",
       "      <td>9024.337461</td>\n",
       "      <td>Cluster 1</td>\n",
       "    </tr>\n",
       "    <tr>\n",
       "      <th>1</th>\n",
       "      <td>86</td>\n",
       "      <td>23400</td>\n",
       "      <td>0.278036</td>\n",
       "      <td>15215.281264</td>\n",
       "      <td>Cluster 0</td>\n",
       "    </tr>\n",
       "    <tr>\n",
       "      <th>2</th>\n",
       "      <td>32</td>\n",
       "      <td>108417</td>\n",
       "      <td>0.287371</td>\n",
       "      <td>16696.398659</td>\n",
       "      <td>Cluster 2</td>\n",
       "    </tr>\n",
       "    <tr>\n",
       "      <th>3</th>\n",
       "      <td>84</td>\n",
       "      <td>24105</td>\n",
       "      <td>0.271809</td>\n",
       "      <td>16524.902538</td>\n",
       "      <td>Cluster 0</td>\n",
       "    </tr>\n",
       "    <tr>\n",
       "      <th>4</th>\n",
       "      <td>84</td>\n",
       "      <td>30481</td>\n",
       "      <td>0.397023</td>\n",
       "      <td>16837.205965</td>\n",
       "      <td>Cluster 0</td>\n",
       "    </tr>\n",
       "  </tbody>\n",
       "</table>\n",
       "</div>"
      ],
      "text/plain": [
       "   Age  Income  SpendingScore       Savings    Cluster\n",
       "0   65   71229       0.787890   9024.337461  Cluster 1\n",
       "1   86   23400       0.278036  15215.281264  Cluster 0\n",
       "2   32  108417       0.287371  16696.398659  Cluster 2\n",
       "3   84   24105       0.271809  16524.902538  Cluster 0\n",
       "4   84   30481       0.397023  16837.205965  Cluster 0"
      ]
     },
     "execution_count": 15,
     "metadata": {},
     "output_type": "execute_result"
    }
   ],
   "source": [
    "unseen_predictions = predict_model(kmeans, data=data_unseen)\n",
    "unseen_predictions.head()"
   ]
  }
 ],
 "metadata": {
  "interpreter": {
   "hash": "0e4631f8abf22b6e3bad75ef6fc74e8156bc6d7eda16a6da5468122f1c7f4a75"
  },
  "kernelspec": {
   "display_name": "Python 3.9.1 64-bit",
   "language": "python",
   "name": "python3"
  },
  "language_info": {
   "codemirror_mode": {
    "name": "ipython",
    "version": 3
   },
   "file_extension": ".py",
   "mimetype": "text/x-python",
   "name": "python",
   "nbconvert_exporter": "python",
   "pygments_lexer": "ipython3",
   "version": "3.9.1"
  },
  "orig_nbformat": 4
 },
 "nbformat": 4,
 "nbformat_minor": 2
}
